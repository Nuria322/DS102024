{
 "cells": [
  {
   "cell_type": "markdown",
   "metadata": {},
   "source": [
    "## Ejercicio 1: Filtrado Colaborativo Basado en Ítems\n",
    "\n",
    "Implementa un sistema de recomendación basado en ítems utilizando la matriz de calificaciones proporcionada en el ejemplo práctico 1. Recomendale al Usuario 'B' dos productos que aún no ha calificado."
   ]
  },
  {
   "cell_type": "code",
   "execution_count": 22,
   "metadata": {},
   "outputs": [],
   "source": [
    "import pandas as pd\n",
    "from sklearn.metrics.pairwise import cosine_similarity\n",
    "from sklearn.preprocessing import StandardScaler\n",
    "\n",
    "data = {\n",
    "    'Usuario': ['A', 'B', 'C', 'D', 'E'],\n",
    "    'Producto1': [5, 3, 0, 1, 4],\n",
    "    'Producto2': [4, 0, 0, 1, 2],\n",
    "    'Producto3': [1, 1, 0, 5, 0],\n",
    "    'Producto4': [0, 0, 5, 4, 0],\n",
    "    'Producto5': [0, 3, 4, 0, 0],\n",
    "}"
   ]
  },
  {
   "cell_type": "code",
   "execution_count": 23,
   "metadata": {},
   "outputs": [],
   "source": [
    "df = pd.DataFrame(data)\n",
    "df.set_index('Usuario', inplace=True)"
   ]
  },
  {
   "cell_type": "code",
   "execution_count": 24,
   "metadata": {},
   "outputs": [],
   "source": [
    "# Calcular la similitud entre ítems\n",
    "matriz_similitud = cosine_similarity(df.T)\n",
    "similitud_df = pd.DataFrame(matriz_similitud, index=df.columns, columns=df.columns)"
   ]
  },
  {
   "cell_type": "code",
   "execution_count": 25,
   "metadata": {},
   "outputs": [],
   "source": [
    "# Función para recomendar productos\n",
    "def recommend_items(user_ratings, similarity_df, n_recommendations=2):\n",
    "    user_ratings = user_ratings.values\n",
    "    scores = similarity_df.dot(user_ratings) / similarity_df.sum(axis=1)\n",
    "    \n",
    "    # Filtrar productos que el usuario ya ha calificado\n",
    "    scores[df.loc['B'] > 0] = 0\n",
    "    \n",
    "    # Obtener los productos recomendados\n",
    "    productos_recomendados = scores.nlargest(n_recommendations).index\n",
    "    return productos_recomendados"
   ]
  },
  {
   "cell_type": "code",
   "execution_count": 29,
   "metadata": {},
   "outputs": [
    {
     "name": "stdout",
     "output_type": "stream",
     "text": [
      "Las recomendaciones para el usuario B son: Index(['Producto2', 'Producto4'], dtype='object')\n"
     ]
    }
   ],
   "source": [
    "user_b_ratings = df.loc['B']\n",
    "\n",
    "recomendaciones = recommend_items(user_b_ratings, similitud_df)\n",
    "print(f'Las recomendaciones para el usuario B son: {recomendaciones}')"
   ]
  },
  {
   "cell_type": "markdown",
   "metadata": {},
   "source": [
    "## Ejercicio 2: Evaluación de Métricas\n",
    "Dada la siguiente matriz de calificaciones reales y predichas para un conjunto de usuarios y productos, calcula el RMSE y el MAE.\n",
    "\n",
    "|Usuario|\tProducto1 (Real)|\tProducto1 (Pred)|\tProducto2 (Real)|\tProducto2 (Pred)|\n",
    "|---|---|---|---|---|\n",
    "|A|\t5|\t4.5|\t3|\t3.5|\n",
    "|B|\t2|\t2.0|\t4|\t3.8|\n",
    "|C|\t0|\t1.2|\t5|\t4.9|\n",
    "|D|\t3|\t3.5|\t0|\t0.2|"
   ]
  },
  {
   "cell_type": "code",
   "execution_count": 30,
   "metadata": {},
   "outputs": [],
   "source": [
    "import pandas as pd\n",
    "import numpy as np"
   ]
  },
  {
   "cell_type": "code",
   "execution_count": 38,
   "metadata": {},
   "outputs": [],
   "source": [
    "real = np.array([\n",
    "    [5, 3],\n",
    "    [2, 4],\n",
    "    [0, 5],\n",
    "    [3, 0]\n",
    "])\n",
    "\n",
    "pred = np.array([\n",
    "    [4.5, 3.5],\n",
    "    [2.0, 3.8],\n",
    "    [1.2, 4.9],\n",
    "    [3.5, 0.2]\n",
    "])"
   ]
  },
  {
   "cell_type": "code",
   "execution_count": 39,
   "metadata": {},
   "outputs": [
    {
     "name": "stdout",
     "output_type": "stream",
     "text": [
      "MAE: 0.39999999999999997\n",
      "RMSE: 0.5338539126015656\n"
     ]
    }
   ],
   "source": [
    "mae = np.mean(np.abs(real - pred))\n",
    "rmse = np.sqrt(np.mean((real - pred) ** 2))\n",
    "\n",
    "print(\"MAE:\", mae)\n",
    "print(\"RMSE:\", rmse)"
   ]
  },
  {
   "cell_type": "markdown",
   "metadata": {},
   "source": [
    "### Ejercicio 3: Filtrado Basado en Contenido Avanzado\n",
    "Ampliando el ejemplo práctico 2, incluye una nueva columna que clasifique los productos en categorías (por ejemplo, 'Electrónica', 'Cocina', 'Literatura', 'Moda', 'Juguetes'). Utiliza esta información para mejorar el sistema de recomendación basado en contenido, de manera que solo recomiende productos de la misma categoría que el producto objetivo."
   ]
  },
  {
   "cell_type": "code",
   "execution_count": 41,
   "metadata": {},
   "outputs": [],
   "source": [
    "data = {\n",
    "    'Producto': ['Televisor', 'Cafetera', 'Libro de Cocina', 'Zapatos', 'Juego de Mesa'],\n",
    "    'Característica1': [5, 3, 4, 2, 4],\n",
    "    'Característica2': [4, 5, 3, 4, 2],\n",
    "    'Categoría': ['Electrónica', 'Cocina', 'Literatura', 'Moda', 'Juguetes']\n",
    "    }\n",
    "\n",
    "df = pd.DataFrame(data)"
   ]
  },
  {
   "cell_type": "code",
   "execution_count": 42,
   "metadata": {},
   "outputs": [
    {
     "name": "stdout",
     "output_type": "stream",
     "text": [
      "Recomendaciones para el producto: Cafetera\n",
      "   Producto  Característica1  Característica2 Categoría\n",
      "1  Cafetera                3                5    Cocina\n"
     ]
    }
   ],
   "source": [
    "producto_objetivo = 'Cafetera'\n",
    "categoria_objetivo = df.loc[df['Producto'] == producto_objetivo, 'Categoría'].values[0]\n",
    "\n",
    "productos_recomendados = df[df['Categoría'] == categoria_objetivo]\n",
    "\n",
    "print(\"Recomendaciones para el producto:\", producto_objetivo)\n",
    "print(productos_recomendados)"
   ]
  }
 ],
 "metadata": {
  "kernelspec": {
   "display_name": "bootcamp-ds-NHz2zIBL-py3.10",
   "language": "python",
   "name": "python3"
  },
  "language_info": {
   "codemirror_mode": {
    "name": "ipython",
    "version": 3
   },
   "file_extension": ".py",
   "mimetype": "text/x-python",
   "name": "python",
   "nbconvert_exporter": "python",
   "pygments_lexer": "ipython3",
   "version": "3.10.11"
  }
 },
 "nbformat": 4,
 "nbformat_minor": 2
}
