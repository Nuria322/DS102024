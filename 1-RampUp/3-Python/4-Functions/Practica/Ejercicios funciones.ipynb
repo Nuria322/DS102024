{
 "cells": [
  {
   "cell_type": "markdown",
   "metadata": {},
   "source": [
    "![imagen](./img/ejercicios.png)"
   ]
  },
  {
   "cell_type": "markdown",
   "metadata": {},
   "source": [
    "# Ejercicios funciones\n",
    "## Ejercicio 1\n",
    "Escribe una función que convierta números del 1 al 7 en nombres de los dias de la semana. La función constará de un único argumento numérico y una salida de tipo string"
   ]
  },
  {
   "cell_type": "code",
   "execution_count": 1,
   "metadata": {},
   "outputs": [
    {
     "data": {
      "text/plain": [
       "'Jueves'"
      ]
     },
     "execution_count": 1,
     "metadata": {},
     "output_type": "execute_result"
    }
   ],
   "source": [
    "def dias_semana(num: int) -> str:\n",
    "    if num == 1:\n",
    "        return 'Lunes'\n",
    "    elif num == 2:\n",
    "        return 'Martes'\n",
    "    elif num == 3:\n",
    "        return 'Miércoles'\n",
    "    elif num == 4:\n",
    "        return 'Jueves'\n",
    "    elif num == 5:\n",
    "        return 'Viernes'\n",
    "    elif num == 6:\n",
    "        return 'Sábado'\n",
    "    elif num == 7:\n",
    "        return 'Domingo'\n",
    "    else:\n",
    "        return 'Número no válido'\n",
    "    \n",
    "dias_semana(4)"
   ]
  },
  {
   "cell_type": "markdown",
   "metadata": {},
   "source": [
    "## Ejercicio 2\n",
    "En el ejercicio 8 de bucles, creábamos una pirámide invertida, cuyo número de pisos venía determinado por un input del usuario. Crea una función que replique el comportamiento de la pirámide, y utiliza un único parámetro de entrada de la función para determinar el número de filas de la pirámide, es decir, elimina la sentencia input."
   ]
  },
  {
   "cell_type": "code",
   "execution_count": 2,
   "metadata": {},
   "outputs": [],
   "source": [
    "def piramide_invertida(filas: int) -> None:\n",
    "    for i in range(n, 0, -1):\n",
    "        print(' ' * (filas - i) + '*' * i)\n"
   ]
  },
  {
   "cell_type": "markdown",
   "metadata": {},
   "source": [
    "## Ejercicio 3\n",
    "Escibe una función que compare dos números. La función tiene dos argumentos y hay tres salidas posibles: que sean iguales, que el primero se  mayor que el segundo, o que el segundo sea mayor que el primero"
   ]
  },
  {
   "cell_type": "code",
   "execution_count": 4,
   "metadata": {},
   "outputs": [
    {
     "data": {
      "text/plain": [
       "'El primero es mayor'"
      ]
     },
     "execution_count": 4,
     "metadata": {},
     "output_type": "execute_result"
    }
   ],
   "source": [
    "def comparador(num1: int, num2: int) -> str:\n",
    "    if num1 == num2:\n",
    "        return 'Son iguales'\n",
    "    elif num1 > num2:\n",
    "        return 'El primero es mayor'\n",
    "    else:\n",
    "        return 'El segundo es mayor'\n",
    "\n",
    "comparador(5, 2)"
   ]
  },
  {
   "cell_type": "markdown",
   "metadata": {},
   "source": [
    "## Ejercicio 4\n",
    "Escribe una función que sea un contador de letras. En el primer argumento tienes que introducir un texto, y el segundo que sea la letra a contar. La función tiene que devolver un entero con el número de veces que aparece esa letra, tanto mayuscula, como minúscula"
   ]
  },
  {
   "cell_type": "code",
   "execution_count": 9,
   "metadata": {},
   "outputs": [
    {
     "data": {
      "text/plain": [
       "12"
      ]
     },
     "execution_count": 9,
     "metadata": {},
     "output_type": "execute_result"
    }
   ],
   "source": [
    "#¿?\n",
    "def contar_letras(texto:str, letra: str) -> int:\n",
    "    contador = 0\n",
    "    for letra in texto.lower():\n",
    "        if letra in letra:\n",
    "            contador += 1\n",
    "    return contador\n",
    "\n",
    "contar_letras('Hola, mundo!', 'o')\n"
   ]
  },
  {
   "cell_type": "markdown",
   "metadata": {},
   "source": [
    "## Ejercicio 5\n",
    "Escribe una función que tenga un único argumento, un string. La salida de la función tiene que ser un diccionario con el conteo de todas las letras de ese string."
   ]
  },
  {
   "cell_type": "code",
   "execution_count": 12,
   "metadata": {},
   "outputs": [
    {
     "data": {
      "text/plain": [
       "{'h': 1,\n",
       " 'o': 3,\n",
       " 'l': 1,\n",
       " 'a': 2,\n",
       " 'm': 1,\n",
       " 'u': 2,\n",
       " 'n': 2,\n",
       " 'd': 1,\n",
       " 's': 1,\n",
       " 'y': 1,\n",
       " 'r': 1,\n",
       " 'i': 1}"
      ]
     },
     "execution_count": 12,
     "metadata": {},
     "output_type": "execute_result"
    }
   ],
   "source": [
    "def contar_letras(palabra: str) -> dict:\n",
    "    conteo = {}\n",
    "    for letra in palabra.lower():\n",
    "        if letra.isalpha():\n",
    "            if letra in conteo:\n",
    "                conteo[letra] += 1\n",
    "            else:\n",
    "                conteo[letra] = 1\n",
    "    return conteo\n",
    "\n",
    "contar_letras('Hola, mundo soy Nuria')\n"
   ]
  },
  {
   "cell_type": "markdown",
   "metadata": {},
   "source": [
    "## Ejercicio 6\n",
    "Escribir una función que añada o elimine elementos en una lista. La función necesita los siguientes argumentos:\n",
    "* lista: la lista donde se añadirán o eliminarán los elementos\n",
    "* comando: \"add\" o \"remove\"\n",
    "* elemento: Por defecto es None."
   ]
  },
  {
   "cell_type": "code",
   "execution_count": 13,
   "metadata": {},
   "outputs": [
    {
     "data": {
      "text/plain": [
       "[1, 2, 3, 4]"
      ]
     },
     "execution_count": 13,
     "metadata": {},
     "output_type": "execute_result"
    }
   ],
   "source": [
    "def manipular_lista(lista: list, comando: str, elemento=None) -> list:\n",
    "    if comando == 'add':\n",
    "        lista.append(elemento)\n",
    "    elif comando =='remove' and elemento in lista:\n",
    "        lista.remove(elemento)\n",
    "    return lista\n",
    "\n",
    "manipular_lista([1, 2, 3], 'add', 4)\n"
   ]
  },
  {
   "cell_type": "markdown",
   "metadata": {},
   "source": [
    "## Ejercicio 7\n",
    "Crea una función que reciba un número arbitrario de palabras, y devuelva una frase completa, separando las palabras con espacios."
   ]
  },
  {
   "cell_type": "code",
   "execution_count": 16,
   "metadata": {},
   "outputs": [
    {
     "data": {
      "text/plain": [
       "'Hoy hace mucho frío'"
      ]
     },
     "execution_count": 16,
     "metadata": {},
     "output_type": "execute_result"
    }
   ],
   "source": [
    "def palabras_separadas(palabras: list) -> str:\n",
    "    return' '.join(palabras)\n",
    "\n",
    "palabras_separadas(['Hoy', 'hace', 'mucho', 'frío'])\n"
   ]
  },
  {
   "cell_type": "markdown",
   "metadata": {},
   "source": [
    "## Ejercicio 8\n",
    "Escribe un programa que obtenga el enésimo número de la [serie de Fibonacci](https://es.wikipedia.org/wiki/Sucesi%C3%B3n_de_Fibonacci). Tienes que crear una función recursiva con un único argumento.\n",
    "\n",
    "```Python\n",
    "fibonacci(2) = 1\n",
    "fibonacci(4) = 3\n",
    "fibonacci(5) = 5\n",
    "fibonacci(8) = 21\n",
    "```"
   ]
  },
  {
   "cell_type": "code",
   "execution_count": null,
   "metadata": {},
   "outputs": [],
   "source": [
    "# Explicación\n",
    "fi = 5\n",
    "casoB 1 y casoB 0\n",
    "\n",
    "fi(n-1) + fi(n-2)\n",
    "\n",
    "                                fi(4)+ fi(3)\n",
    "                     (fi(2) + fi(3)) + (fi(2) + fi(1))\n",
    "              (fi(1)+ fi(2) + 1 + 0) + (1 + 0 + 1)\n",
    "                 (1 + 1 + 0 + 1 + 0) + (1 + 0 + 1) = 5"
   ]
  },
  {
   "cell_type": "code",
   "execution_count": 19,
   "metadata": {},
   "outputs": [
    {
     "name": "stdout",
     "output_type": "stream",
     "text": [
      "13\n"
     ]
    }
   ],
   "source": [
    "def fi(n):\n",
    "    if n <= 1:\n",
    "        return n\n",
    "    else:\n",
    "        return fi(n-1) + fi(n-2)\n",
    "\n",
    "print(fi(7))\n"
   ]
  },
  {
   "cell_type": "markdown",
   "metadata": {},
   "source": [
    "## Ejercicio 9\n",
    "Define en una única celda las siguientes funciones:\n",
    "* Función que calcule el área de un cuadrado\n",
    "* Función que calcule el area de un triángulo\n",
    "* Función que calcule el área de un círculo\n",
    "\n",
    "En otra celda, calcular el area de:\n",
    "* Dos círculos de radio 10 + un triángulo de base 3 y altura 7\n",
    "* Un cuadrado de lado = 10 + 3 círculos (uno de radio = 4 y los otros dos de radio = 6) + 5 triángulos de base = 2 + altura = 4"
   ]
  },
  {
   "cell_type": "code",
   "execution_count": 21,
   "metadata": {},
   "outputs": [],
   "source": [
    "def area_cuadrado(lado):\n",
    "    return lado ** 2\n",
    "\n",
    "def area_triangulo(base, altura):  \n",
    "    return (base * altura) / 2\n",
    "\n",
    "def area_circulo(radio):\n",
    "    import math\n",
    "    return math.pi * (radio ** 2)"
   ]
  },
  {
   "cell_type": "code",
   "execution_count": 22,
   "metadata": {},
   "outputs": [
    {
     "name": "stdout",
     "output_type": "stream",
     "text": [
      "98706.54401089359\n",
      "396.4601535159018\n"
     ]
    }
   ],
   "source": [
    "area_circulo_10 = area_circulo(10)\n",
    "circulo = area_circulo_10**2\n",
    "\n",
    "triangulo_3_7 = area_triangulo(3, 7) #Base 3 altura 7\n",
    "print(circulo + triangulo_3_7)\n",
    "\n",
    "cuadrado_lado_10 = area_cuadrado(10)\n",
    "\n",
    "circulo_4_radio_4 = area_circulo(4)\n",
    "\n",
    "circulo_6_radio_6 = area_circulo(6)\n",
    "\n",
    "triangulo_base_2_altura_4 = area_triangulo(2, 4)\n",
    "triangulos = triangulo_base_2_altura_4 * 5\n",
    "print(cuadrado_lado_10 + circulo_4_radio_4 + circulo_6_radio_6 + circulo_6_radio_6 +triangulos)\n"
   ]
  }
 ],
 "metadata": {
  "kernelspec": {
   "display_name": "Python 3",
   "language": "python",
   "name": "python3"
  },
  "language_info": {
   "codemirror_mode": {
    "name": "ipython",
    "version": 3
   },
   "file_extension": ".py",
   "mimetype": "text/x-python",
   "name": "python",
   "nbconvert_exporter": "python",
   "pygments_lexer": "ipython3",
   "version": "3.12.6"
  }
 },
 "nbformat": 4,
 "nbformat_minor": 4
}
