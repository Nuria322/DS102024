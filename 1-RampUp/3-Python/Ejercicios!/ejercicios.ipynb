{
 "cells": [
  {
   "cell_type": "code",
   "execution_count": 4,
   "metadata": {},
   "outputs": [
    {
     "name": "stdout",
     "output_type": "stream",
     "text": [
      "Mayor de edad\n"
     ]
    }
   ],
   "source": [
    "# 1. Escribe un programa que pregunte al usuario su edad y muestre si es mayor de edad o no\n",
    "edad= int(input('¿cuantos años tienes?'))\n",
    "if edad >= 18:\n",
    "    print(\"Mayor de edad\")\n",
    "else:\n",
    "    print(\"Menor de edad\")"
   ]
  },
  {
   "cell_type": "code",
   "execution_count": 6,
   "metadata": {},
   "outputs": [
    {
     "name": "stdout",
     "output_type": "stream",
     "text": [
      "Es par\n"
     ]
    }
   ],
   "source": [
    "# 2. Escribe un programa que pida al usuario un numero entero y muestre por pantalla si es par o impar\n",
    "entero = float(input(\"Escriba un numero entero\"))\n",
    "if entero %2==1:\n",
    "    print(\"Es impar\")\n",
    "else:\n",
    "    print(\"Es par\")"
   ]
  },
  {
   "cell_type": "code",
   "execution_count": 13,
   "metadata": {},
   "outputs": [
    {
     "name": "stdout",
     "output_type": "stream",
     "text": [
      "El numero es impar\n"
     ]
    }
   ],
   "source": [
    "# Otra manera de hacer el 2\n",
    "def par_impar(numero:int):\n",
    "    if numero % 2 == 0:\n",
    "        print(\"El numero es par\")\n",
    "    else:\n",
    "        print(\"El numero es impar\")\n",
    "par_impar(2.2)\n"
   ]
  },
  {
   "cell_type": "code",
   "execution_count": 15,
   "metadata": {},
   "outputs": [
    {
     "name": "stdout",
     "output_type": "stream",
     "text": [
      "a n a z n a m "
     ]
    }
   ],
   "source": [
    "#3. Escribe un programa que pida al usuario una palabra y luego muestre por pantalla una a una las letras de la palabra introducida empezando por la última\n",
    "palabras= str(input(\"Escriba una palabra\"))\n",
    "for letra in reversed (palabras):\n",
    "    print(letra,end=' ') # Esto es para que salga pegado y no una letra por linea\n",
    "\n"
   ]
  },
  {
   "cell_type": "code",
   "execution_count": 17,
   "metadata": {},
   "outputs": [
    {
     "name": "stdout",
     "output_type": "stream",
     "text": [
      "['b', 'c', 'e', 'f', 'h', 'i', 'k', 'l', 'n', 'o', 'q', 'r', 't', 'u', 'w', 'x', 'z']\n"
     ]
    }
   ],
   "source": [
    "# 4. Escribe un programa que almacene el abecedadio en una lista, elimine de la lista las letras que ocupen posiciones multiplos de 3 \n",
    "# y muestre por pantalla la lista resultante\n",
    "import string\n",
    "abecedario = string.ascii_lowercase\n",
    "\n",
    "lista = []\n",
    "\n",
    "for i in range(len(abecedario)):\n",
    "    if i % 3 == 0:\n",
    "        continue\n",
    "    else:\n",
    "        lista.append(abecedario[i])\n",
    "print(lista)\n",
    "\n"
   ]
  },
  {
   "cell_type": "code",
   "execution_count": 18,
   "metadata": {},
   "outputs": [],
   "source": [
    "# 5. Escribir un programa que guarde en un diccionario los precios de las frutas de la tabla, pregunte al usuario por una fruta, \n",
    "# un número de kilos y muestre por pantalla el precio de ese número de kilos de fruta. \n",
    "# Si la fruta no está en el diccionario debe mostrar un mensaje informando de ello.\n",
    " \n",
    "def calcular_precio(precios_fruta,fruta, kilos):\n",
    "    precios_fruta= {\n",
    "    \"manzana\": 1.5,\n",
    "    \"pera\": 2.0,\n",
    "    \"Uva\": 2.5,\n",
    "    \"platano\": 1.0,\n",
    "    \"Naranja\": 1.2, \n",
    "    \"Cereza\": 2.2,\n",
    "    }\n",
    "    if fruta in precios_fruta:\n",
    "        return precios_fruta[fruta]*kilos\n",
    "    else:\n",
    "        return\"fruta no encontrada en el diccionario\"\n"
   ]
  },
  {
   "cell_type": "code",
   "execution_count": null,
   "metadata": {},
   "outputs": [],
   "source": [
    "def calcula_precio(frutas:str, kilos: float)-> float:\n",
    "dicc= {\n",
    "    \"manzana\": 1.5,\n",
    "    \"pera\": 2.0,\n",
    "    \"Uva\": 2.5,\n",
    "    \"platano\": 1.0,\n",
    "    \"Naranja\": 1.2, \n",
    "    \"Cereza\": 2.2, \n",
    "    }\n",
    "if frutas.capitalize in dicc.keys():\n",
    "    return dicc[frutas.capitalize]*kilos\n",
    "else:\n",
    "    return 'Fruta no encontrada en el diccionario'\n",
    "print(calcula_precio('manzana', 5))\n"
   ]
  },
  {
   "cell_type": "code",
   "execution_count": null,
   "metadata": {},
   "outputs": [],
   "source": [
    "la_media = sum(numeros)/ len(numeros)\n",
    "print(\"La media es:\", la_media)"
   ]
  },
  {
   "cell_type": "code",
   "execution_count": 25,
   "metadata": {},
   "outputs": [
    {
     "name": "stdout",
     "output_type": "stream",
     "text": [
      "(3, 5, 4, 5, 2, 6, 2, 5, 1)\n"
     ]
    },
    {
     "data": {
      "text/plain": [
       "'La media es: 3.6666666666666665 y la moda es: 4'"
      ]
     },
     "execution_count": 25,
     "metadata": {},
     "output_type": "execute_result"
    }
   ],
   "source": [
    "# 6.Escribir una función que reciba una muestra de números en una lista y devuelva su media y mediana.\n",
    "import statistics\n",
    "def media_mediana(*numeros:float)->float:\n",
    "    media = sum(numeros) / len(numeros)\n",
    "    mediana = statistics.median(numeros)\n",
    "    print(numeros)\n",
    "    return (f\"La media es: {media} y la moda es: {mediana}\")\n",
    "\n",
    "media_mediana(3,5,4,5,2,6,2,5,1)"
   ]
  },
  {
   "cell_type": "code",
   "execution_count": 28,
   "metadata": {},
   "outputs": [],
   "source": [
    "# Correción\n",
    "numeros = [1,2,3,4,5]\n",
    "\n",
    "def medias(lista:list)-> float:\n",
    "    media_2= sum(lista)/len(lista)\n",
    "\n",
    "    lista.sort() #Ordena la lista\n",
    "    punto_medio = len(lista)//2\n",
    "\n",
    "    if len(lista)% 2 !=0: #Es impar\n",
    "        mdiana= lista [punto_medio]\n",
    "        print(\"mediana\",mdiana)\n",
    "    else:\n",
    "        mdiana= sum(lista[punto_medio-1: punto_medio+1])/2\n",
    "        print(\"mediana\",mdiana)\n",
    "\n",
    "\n",
    "\n"
   ]
  },
  {
   "cell_type": "code",
   "execution_count": 24,
   "metadata": {},
   "outputs": [
    {
     "name": "stdout",
     "output_type": "stream",
     "text": [
      "Brasil\n"
     ]
    }
   ],
   "source": [
    "# 7. crear un programa que sin utilizar if-else si le pasas la variable XX te devuelva el pais. ejemplo: ES->España, us:Estados Unidos\n",
    "def paises(siglas:str):\n",
    "    paises = { \"ES\": \"España\",\n",
    "        \"US\": \"Estados Unidos\",\n",
    "        \"FR\": \"Francia\",\n",
    "        \"DE\": \"Alemania\",\n",
    "        \"IT\": \"Italia\",\n",
    "        \"MX\": \"México\",\n",
    "        \"AR\": \"Argentina\",\n",
    "        \"BR\": \"Brasil\",\n",
    "        }\n",
    "    return paises.get(siglas, \"País no encontrado\")\n",
    "siglas_pais = \"BR\"\n",
    "pais= paises(siglas_pais)\n",
    "\n",
    "print(pais)"
   ]
  },
  {
   "cell_type": "code",
   "execution_count": 32,
   "metadata": {},
   "outputs": [
    {
     "ename": "TypeError",
     "evalue": "traducir_pais() missing 1 required positional argument: 'pais'",
     "output_type": "error",
     "traceback": [
      "\u001b[1;31m---------------------------------------------------------------------------\u001b[0m",
      "\u001b[1;31mTypeError\u001b[0m                                 Traceback (most recent call last)",
      "Cell \u001b[1;32mIn[32], line 14\u001b[0m\n\u001b[0;32m     12\u001b[0m     codigo \u001b[38;5;241m=\u001b[39m codigo\u001b[38;5;241m.\u001b[39mlower()\n\u001b[0;32m     13\u001b[0m     \u001b[38;5;28;01mreturn\u001b[39;00m dicc\u001b[38;5;241m.\u001b[39mget(codigo, \u001b[38;5;124m\"\u001b[39m\u001b[38;5;124mNo esta actualizado\u001b[39m\u001b[38;5;124m\"\u001b[39m)\n\u001b[1;32m---> 14\u001b[0m \u001b[38;5;28mprint\u001b[39m(\u001b[43mtraducir_pais\u001b[49m\u001b[43m(\u001b[49m\u001b[38;5;124;43m\"\u001b[39;49m\u001b[38;5;124;43mUS\u001b[39;49m\u001b[38;5;124;43m\"\u001b[39;49m\u001b[43m)\u001b[49m)\n",
      "\u001b[1;31mTypeError\u001b[0m: traducir_pais() missing 1 required positional argument: 'pais'"
     ]
    }
   ],
   "source": [
    "#Correción\n",
    "def traducir_pais(codigo):\n",
    " paises = { \"ES\": \"España\",\n",
    "        \"US\": \"Estados Unidos\",\n",
    "        \"FR\": \"Francia\",\n",
    "        \"DE\": \"Alemania\",\n",
    "        \"IT\": \"Italia\",\n",
    "        \"MX\": \"México\",\n",
    "        \"AR\": \"Argentina\",\n",
    "        \"BR\": \"Brasil\",\n",
    "        }\n",
    "def traducir_pais(codigo):\n",
    "    codigo = codigo.lower()\n",
    "    return dicc.get(codigo, \"No esta actualizado\")\n",
    "print(traducir_pais(\"US\"))"
   ]
  },
  {
   "cell_type": "code",
   "execution_count": 30,
   "metadata": {},
   "outputs": [
    {
     "name": "stdout",
     "output_type": "stream",
     "text": [
      "*\n",
      "**\n",
      "***\n",
      "****\n",
      "*****\n"
     ]
    }
   ],
   "source": [
    "# Ejercicio de los *\n",
    "# *\n",
    "# **\n",
    "# ***\n",
    "# ****\n",
    "n= 5\n",
    "for i in range(1,n+1): # +1 para que incluya la n\n",
    "    print(\"*\"*i)"
   ]
  },
  {
   "cell_type": "code",
   "execution_count": 33,
   "metadata": {},
   "outputs": [
    {
     "name": "stdout",
     "output_type": "stream",
     "text": [
      "el ejercico de hoy es piernas\n",
      "el ejercico de hoy es brazos\n",
      "el ejercico de hoy es abdomen\n",
      "el ejercico de hoy es cardio\n",
      "el ejercico de hoy es cerveza\n",
      "el ejercico de hoy es pizza\n",
      "el ejercico de hoy es descanso\n"
     ]
    }
   ],
   "source": [
    "# Está mal\n",
    "# Itinerario para el gimnasio\n",
    "lunes = \"piernas\"\n",
    "martes = \"brazos\"\n",
    "miercoles = \"abdomen\"\n",
    "jueves = \"cardio\"\n",
    "viernes = \"cerveza\"\n",
    "sabado = \"pizza\"\n",
    "domingo = \"descanso\"\n",
    "# vamos a hacer un programa que dependiendo del dia nos diga que tenemos que hacer\n",
    "dia= input(\"Dia de la semana\")\n",
    "\n",
    "ejercicios= [\"piernas\", \"brazos\",\"abdomen\",\"cardio\", \"cerveza\", \"pizza\",\"descanso\"]\n",
    "for index, ejercicio in enumerate(ejercicios):\n",
    "    print(f\"hoy toca {ejercicio}\")\n",
    "\n",
    "def diario(lunes= \"piernas\", martes= \"brazos\", miercoles=\"abdomen\", )"
   ]
  },
  {
   "cell_type": "code",
   "execution_count": null,
   "metadata": {},
   "outputs": [],
   "source": [
    "# Corrección\n",
    "def que_toca_hoy(dia):\n",
    "    dicc= {\"lunes\": \"piernas\",\n",
    "           \"martes\":\"brazos\",\n",
    "           \"miercoles\": \"abdomen\",\n",
    "           \"jueves\":\"cardio\",\n",
    "           \"viernes\": \"cerveza\"}\n",
    "    try:\n",
    "        return dicc[dia]\n",
    "    except KeyError:\n",
    "        return \"Dia no valido\"\n",
    "    \n",
    "    que_toca_hoy(\"viernes\")"
   ]
  },
  {
   "cell_type": "code",
   "execution_count": null,
   "metadata": {},
   "outputs": [],
   "source": [
    "dia= \n",
    "match dia:\n",
    "    case \"lunes\":\n",
    "        print(\"piernas\")\n",
    "    case \"martes\":\n",
    "        print(\"brazos\")\n",
    "    case \"miercoles\":\n",
    "        print(\"abdomen\")"
   ]
  },
  {
   "cell_type": "code",
   "execution_count": 64,
   "metadata": {},
   "outputs": [
    {
     "name": "stdout",
     "output_type": "stream",
     "text": [
      "1\n",
      "2\n",
      "3\n",
      "4\n",
      "5\n",
      "6\n",
      "7\n",
      "8\n",
      "9\n",
      "10\n"
     ]
    }
   ],
   "source": [
    "# Escribe un programa que imprima los números del 1 al 10 utilizando un bucle for.\n",
    "lista_numeros = [1,2,3,4,5,6,7,8,9,10]\n",
    "for i in lista_numeros:\n",
    "    print (i)"
   ]
  },
  {
   "cell_type": "code",
   "execution_count": 63,
   "metadata": {},
   "outputs": [
    {
     "name": "stdout",
     "output_type": "stream",
     "text": [
      "1\n",
      "2\n",
      "3\n",
      "4\n",
      "5\n",
      "6\n",
      "7\n",
      "8\n",
      "9\n",
      "10\n"
     ]
    }
   ],
   "source": [
    "#Correción\n",
    "for i in range(1,11):\n",
    "    print (i)"
   ]
  },
  {
   "cell_type": "code",
   "execution_count": null,
   "metadata": {},
   "outputs": [],
   "source": [
    "# Escribe un programa que solicite al usuario dos números y muestre la suma de ellos.\n",
    "primer_numero = float(input(\"Escriba un numero\"))\n",
    "segundo_numero = float(input(\"Escriba un segundo numero\"))\n",
    "print(\"su suma es:\", primer_numero + segundo_numero)"
   ]
  },
  {
   "cell_type": "code",
   "execution_count": 36,
   "metadata": {},
   "outputs": [
    {
     "name": "stdout",
     "output_type": "stream",
     "text": [
      "Es par\n"
     ]
    }
   ],
   "source": [
    "#Identificar números pares e impares\n",
    "#Escribe un programa que pida un número al usuario e indique si es par o impar.\n",
    "pares_impares = float(input(\"Escriba un numero\"))\n",
    "if pares_impares == 0:\n",
    "    print(\"Cero\") \n",
    "elif pares_impares % 2 !=0 :\n",
    "    print(\"Es impar\")\n",
    "else:\n",
    "    print(\"Es par\")"
   ]
  },
  {
   "cell_type": "code",
   "execution_count": 38,
   "metadata": {},
   "outputs": [
    {
     "name": "stdout",
     "output_type": "stream",
     "text": [
      "a i r u n   y o s "
     ]
    }
   ],
   "source": [
    "#Reverso de una cadena\n",
    "#Escribe un programa que pida al usuario una cadena y la imprima al revés.\n",
    "cadena = str(input(\"Escribe una palabra\"))\n",
    "for letra in reversed (cadena):\n",
    "    print(letra,end=' ')"
   ]
  },
  {
   "cell_type": "code",
   "execution_count": 41,
   "metadata": {},
   "outputs": [
    {
     "name": "stdout",
     "output_type": "stream",
     "text": [
      "Cero\n"
     ]
    }
   ],
   "source": [
    "#Comprobar si un número es positivo, negativo o cero\n",
    "#Escribe un programa que solicite un número y muestre si es positivo, negativo o cero.\n",
    "numero= 0\n",
    "if numero==0:\n",
    "    print(\"Cero\")\n",
    "elif numero > 0:\n",
    "    print(\"Es positivo\")\n",
    "else:\n",
    "    print(\"Es negativo\")"
   ]
  },
  {
   "cell_type": "code",
   "execution_count": 42,
   "metadata": {},
   "outputs": [
    {
     "name": "stdout",
     "output_type": "stream",
     "text": [
      "16\n"
     ]
    }
   ],
   "source": [
    "#Suma de elementos de una lista\n",
    "#Escribe un programa que tome una lista de números y devuelva la suma de todos los elementos de la lista.\n",
    "lista_numeros= [1,2,4,5,3,1]\n",
    "print(sum(lista_numeros))"
   ]
  },
  {
   "cell_type": "code",
   "execution_count": 65,
   "metadata": {},
   "outputs": [
    {
     "data": {
      "text/plain": [
       "6"
      ]
     },
     "execution_count": 65,
     "metadata": {},
     "output_type": "execute_result"
    }
   ],
   "source": [
    "#Conteo de vocales en una cadena\n",
    "#Escribe un programa que tome una cadena de entrada y cuente cuántas vocales (a, e, i, o, u) contiene.\n",
    "def  contar_vocales(c:str):\n",
    "    contador = 0\n",
    "   \n",
    "    for letra in c.lower():\n",
    "       if letra in \"aeiou\":\n",
    "           contador += 1\n",
    "    return contador \n",
    "\n",
    "contar_vocales(\"Hola soy Nuria\")"
   ]
  },
  {
   "cell_type": "code",
   "execution_count": 66,
   "metadata": {},
   "outputs": [
    {
     "data": {
      "text/plain": [
       "120"
      ]
     },
     "execution_count": 66,
     "metadata": {},
     "output_type": "execute_result"
    }
   ],
   "source": [
    "#Calcular el factorial de un número\n",
    "#Escribe una función que reciba un número entero como argumento y devuelva su factorial utilizando recursión.\n",
    "def factorial(num:int)->int:\n",
    "    if num == 1:\n",
    "        return 1\n",
    "    else:\n",
    "        return num* factorial(num-1)\n",
    "    \n",
    "factorial(5)"
   ]
  },
  {
   "cell_type": "code",
   "execution_count": 51,
   "metadata": {},
   "outputs": [
    {
     "name": "stdout",
     "output_type": "stream",
     "text": [
      "Sv6uh$lk7\n"
     ]
    }
   ],
   "source": [
    "#Crear un generador de contraseñas aleatorias\n",
    "#Escribe un programa que genere contraseñas aleatorias de longitud variable. Las contraseñas deben incluir letras mayúsculas, minúsculas, números y símbolos especiales.\n",
    "contraseña = str(input(\"¿Que quieres que contenga tu contraseña?\"))\n",
    "if contraseña == \"mayuscula\":\n",
    "    print(\"MsvyteiubWj\")\n",
    "elif contraseña == \"numeros y símbolos\":\n",
    "    print(\"8.7_75%8/9\")\n",
    "elif contraseña == \"símbolos especiales\":\n",
    "    print(\"$%&/=_!\")\n",
    "elif contraseña == \"otra\":\n",
    "    print(\"Gks4ay7&v\")\n",
    "else:\n",
    "    print(\"Sv6uh$lk7\")\n",
    "\n"
   ]
  },
  {
   "cell_type": "code",
   "execution_count": 67,
   "metadata": {},
   "outputs": [],
   "source": [
    "# Correción generador de contraseñas\n",
    "import string\n",
    "import random\n",
    "def generar_contraseña()-> str:\n",
    "    caracteres= string.ascii_letters + string.digits + string.punctuation\n",
    "    contrasenha= \"\".join (random.choice(caracteres) for _ in range (random.randint(8,16)))\n",
    "    return contrasenha\n"
   ]
  },
  {
   "cell_type": "code",
   "execution_count": 71,
   "metadata": {},
   "outputs": [
    {
     "data": {
      "text/plain": [
       "'`j>Cr6tr`gHP'"
      ]
     },
     "execution_count": 71,
     "metadata": {},
     "output_type": "execute_result"
    }
   ],
   "source": [
    "# Otra opcion de generador de contraseñas\n",
    "def generar_contraseña(longitud:int)-> str:\n",
    "    caracteres= string.ascii_letters + string.digits + string.punctuation # string.print table\n",
    "    contrasenha= \"\".join (random.choice(caracteres) for _ in range (longitud))\n",
    "    return contrasenha\n",
    "generar_contraseña(12)"
   ]
  },
  {
   "cell_type": "code",
   "execution_count": 53,
   "metadata": {},
   "outputs": [
    {
     "name": "stdout",
     "output_type": "stream",
     "text": [
      "Contraseña: [Dj9efIkW5OG\n"
     ]
    }
   ],
   "source": [
    "# Generador de contraseñas aleatorias (chatgpt)\n",
    "import random\n",
    "def contraseñas(longitud):\n",
    "    letras_mayusculas = \"ABCDEFGHIJKLMNOPQRSTUVWXYZ\"\n",
    "    letras_minusculas = \"abcdefghijklmnopqrstuvwxyz\"\n",
    "    digitos = \"0123456789\"\n",
    "    caracteres_especiales = \"!#$%^&*()-_=+[|;:,.<>?/\"\n",
    "\n",
    "    mezcla = letras_mayusculas + letras_minusculas + digitos + caracteres_especiales\n",
    "\n",
    "    contraseña = \"\"\n",
    "    for _ in range(longitud):\n",
    "        contraseña += random.choice(mezcla) \n",
    "    return contraseña\n",
    "\n",
    "longitud_deseada = 12\n",
    "contraseña = contraseñas(longitud_deseada)\n",
    "print(\"Contraseña:\", contraseña)"
   ]
  },
  {
   "cell_type": "code",
   "execution_count": 74,
   "metadata": {},
   "outputs": [
    {
     "data": {
      "text/plain": [
       "['K♥', '4♣', 'A♦', '1♦', '8♠']"
      ]
     },
     "execution_count": 74,
     "metadata": {},
     "output_type": "execute_result"
    }
   ],
   "source": [
    "# CORRECIÓN\n",
    "#Crear una baraja de póker\n",
    "#Escribe un programa que cree una baraja de cartas de póker (52 cartas). Cada carta debe tener un palo (corazones, diamantes, tréboles, picas) \n",
    "# y un valor (del 2 al 10, J, Q, K, A). Luego, simula mezclar la baraja y reparte 5 cartas al azar a un \"jugador\".\n",
    "palos = [\"♥\",\"♦\", \"♣\", \"♠\"] #alt + 3, alt+4, alt+5 y alt+6 (numeros de la derecha) \n",
    "numeros = [\"A\",\"1\",\"2\",\"3\",\"4\",\"5\",\"6\",\"7\",\"8\",\"9\",\"10\",\"J\", \"Q\", \"K\"]\n",
    "for numero in numeros:\n",
    "    for palo in palos:\n",
    "        baraja.append(f'{numero}{palo}')\n",
    "\n",
    "random.sample(baraja,5)\n"
   ]
  },
  {
   "cell_type": "code",
   "execution_count": 75,
   "metadata": {},
   "outputs": [
    {
     "data": {
      "text/plain": [
       "['A♥',\n",
       " 'A♦',\n",
       " 'A♣',\n",
       " 'A♠',\n",
       " '1♥',\n",
       " '1♦',\n",
       " '1♣',\n",
       " '1♠',\n",
       " '2♥',\n",
       " '2♦',\n",
       " '2♣',\n",
       " '2♠',\n",
       " '3♥',\n",
       " '3♦',\n",
       " '3♣',\n",
       " '3♠',\n",
       " '4♥',\n",
       " '4♦',\n",
       " '4♣',\n",
       " '4♠',\n",
       " '5♥',\n",
       " '5♦',\n",
       " '5♣',\n",
       " '5♠',\n",
       " '6♥',\n",
       " '6♦',\n",
       " '6♣',\n",
       " '6♠',\n",
       " '7♥',\n",
       " '7♦',\n",
       " '7♣',\n",
       " '7♠',\n",
       " '8♥',\n",
       " '8♦',\n",
       " '8♣',\n",
       " '8♠',\n",
       " '9♥',\n",
       " '9♦',\n",
       " '9♣',\n",
       " '9♠',\n",
       " '10♥',\n",
       " '10♦',\n",
       " '10♣',\n",
       " '10♠',\n",
       " 'J♥',\n",
       " 'J♦',\n",
       " 'J♣',\n",
       " 'J♠',\n",
       " 'Q♥',\n",
       " 'Q♦',\n",
       " 'Q♣',\n",
       " 'Q♠',\n",
       " 'K♥',\n",
       " 'K♦',\n",
       " 'K♣',\n",
       " 'K♠']"
      ]
     },
     "execution_count": 75,
     "metadata": {},
     "output_type": "execute_result"
    }
   ],
   "source": [
    "# Como crear una baraja\n",
    "baraja = [numero+palo for numero in numeros for palo in palos]\n",
    "baraja"
   ]
  },
  {
   "cell_type": "code",
   "execution_count": null,
   "metadata": {},
   "outputs": [],
   "source": [
    "# 25. Vamos a jugar el juego blind\n",
    "# El juego es simple, no puede decir 7 ni multiplos de 7, ni numeros iguales como (11,22,33,44...) la idea es poner un contador de tiempo \n",
    "# para que el usuario vaya intertando los numeros correctos y si se equivoca pierden y que si se agota el tiempo pierden.\n",
    "# El tiempo maximo es de 5 segunos, al llegar a la ronda\n",
    "import time\n",
    "\n",
    "def blind(num):\n",
    "    if \"7\" in str(num) or num % 7 == 0:\n",
    "        return True\n",
    "    str_num = str(num)\n",
    "    if len(str_num)== 2 and str_num[0] == str_num[1]:\n",
    "        return True\n",
    "    return False\n",
    "\n",
    "def juego_blind(input_num=None):\n",
    "    numero = int(input_num)\n",
    "    while True:\n",
    "        if blind(numero):\n",
    "            print(\"Blind\")\n",
    "        else:\n",
    "            print(numero)\n",
    "        \n",
    "        time.sleep(1)"
   ]
  },
  {
   "cell_type": "code",
   "execution_count": null,
   "metadata": {},
   "outputs": [],
   "source": [
    "# Fizz Buzz juego comun en python muy parecido"
   ]
  },
  {
   "cell_type": "code",
   "execution_count": null,
   "metadata": {},
   "outputs": [],
   "source": [
    "juego_blind(input(\"Escribe un numero\"))"
   ]
  },
  {
   "cell_type": "code",
   "execution_count": null,
   "metadata": {},
   "outputs": [],
   "source": [
    "# Crear un juego del ahorcado\n",
    "def ahorcado():\n",
    "    palabra_secreta = \"Python\"\n",
    "    letras_incorrectas = [] \n"
   ]
  }
 ],
 "metadata": {
  "kernelspec": {
   "display_name": "Python 3",
   "language": "python",
   "name": "python3"
  },
  "language_info": {
   "codemirror_mode": {
    "name": "ipython",
    "version": 3
   },
   "file_extension": ".py",
   "mimetype": "text/x-python",
   "name": "python",
   "nbconvert_exporter": "python",
   "pygments_lexer": "ipython3",
   "version": "3.12.6"
  }
 },
 "nbformat": 4,
 "nbformat_minor": 2
}
