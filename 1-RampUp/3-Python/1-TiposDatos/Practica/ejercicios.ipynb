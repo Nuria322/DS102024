{
  "cells": [
    {
      "cell_type": "markdown",
      "metadata": {
        "id": "icvqxGGg_9Y6"
      },
      "source": [
        "# Ejercicios I"
      ]
    },
    {
      "cell_type": "markdown",
      "metadata": {
        "id": "5BT4_2Gd_9Y7"
      },
      "source": [
        "## 1- Cambiar un texto\n",
        "\n",
        "Necesitamos mostrar en nuestra web la sinopsis de las películas. El problema es que tenemos los textos separados por pipes (\"|\") en lugar de saltos de línea. "
      ]
    },
    {
      "cell_type": "code",
      "execution_count": 3,
      "metadata": {
        "id": "YjRIKwyb_9Y9"
      },
      "outputs": [],
      "source": [
        "string = \"Sinopsis\\n\\t Marty McFly, un típico adolescente americano de los años ochenta,\\nes accidentalmente enviado de vuelta a 1955 en una máquina del tiempo realizada con\\nun DeLorean inventada por un científico un poco loco.\\n\\t En este viaje, Marty debe\\nasegurarse de que sus padres se encuentren y se enamoren, para que pueda volver a su tiempo.\""
      ]
    },
    {
      "cell_type": "code",
      "execution_count": 4,
      "metadata": {
        "colab": {
          "base_uri": "https://localhost:8080/"
        },
        "id": "S-JDll4__9ZA",
        "outputId": "285f18ca-7243-4ef3-fe94-8b1879ff719d"
      },
      "outputs": [
        {
          "name": "stdout",
          "output_type": "stream",
          "text": [
            "Sinopsis\n",
            "\t Marty McFly, un típico adolescente americano de los años ochenta,\n",
            "es accidentalmente enviado de vuelta a 1955 en una máquina del tiempo realizada con\n",
            "un DeLorean inventada por un científico un poco loco.\n",
            "\t En este viaje, Marty debe\n",
            "asegurarse de que sus padres se encuentren y se enamoren, para que pueda volver a su tiempo.\n"
          ]
        }
      ],
      "source": [
        "print(string)"
      ]
    },
    {
      "cell_type": "markdown",
      "metadata": {
        "id": "WR5pRiH3_9ZD"
      },
      "source": [
        "## 2 - Crear un acrónimo\n",
        "\n",
        "Ahora nos piden crear un acrónimo (una palabra compuesta por la primera letra de cada palabra) de cada título. Pero antes de eso es necesario que transformemos los títulos a \"title case\" porque no todos van a llegar prolijos. Entonces, el acrónimo de \"Volver al futuro\" debería ser \"VAF\". \n"
      ]
    },
    {
      "cell_type": "code",
      "execution_count": null,
      "metadata": {
        "id": "9pGrRm4B_9ZE"
      },
      "outputs": [],
      "source": [
        "titulo = 'Volver al futuro'"
      ]
    },
    {
      "cell_type": "code",
      "execution_count": null,
      "metadata": {
        "id": "PuN3KLdB_9ZG"
      },
      "outputs": [],
      "source": [
        "# 1. Transformar el string a \"title case\"\n"
      ]
    },
    {
      "cell_type": "code",
      "execution_count": null,
      "metadata": {
        "id": "t_p2fgdr_9ZK"
      },
      "outputs": [],
      "source": [
        "# 2. Crear una lista con todas las palabras del string\n",
        "lista = [\"Volver\", \"al\", \"futuro\"]"
      ]
    },
    {
      "cell_type": "code",
      "execution_count": null,
      "metadata": {
        "id": "leJ7MZGd_9ZL"
      },
      "outputs": [],
      "source": [
        "# 3. Recorrer la lista y agregar al acrónimo la primera letra de cada palabra\n",
        "acronimo = ''"
      ]
    },
    {
      "cell_type": "markdown",
      "metadata": {
        "id": "uYRnWj-B4sw1"
      },
      "source": [
        "## 3 - Evaluar si un número es par o impar \n",
        "\n",
        "Con que operación podríamos evaluar si un número es par o impar "
      ]
    },
    {
      "cell_type": "code",
      "execution_count": 11,
      "metadata": {
        "id": "SwHvDZHUD9ak"
      },
      "outputs": [
        {
          "name": "stdout",
          "output_type": "stream",
          "text": [
            "es par\n"
          ]
        }
      ],
      "source": [
        "numero= 6\n",
        "if numero%2==1:\n",
        "    print(\"Es impar\")\n",
        "else:\n",
        "    print(\"es par\")"
      ]
    },
    {
      "cell_type": "markdown",
      "metadata": {
        "id": "xlXusP6h72uI"
      },
      "source": [
        "## 4 - Dividir pares e impartes  \n",
        "\n",
        "Dado un rango de valores enteros con distancia de una unidad \n",
        "\n",
        "```\n",
        "range(4,10)\n",
        "```\n",
        "\n",
        "separar en listas los números pares e impartes iterando por cada elemento del intervalo "
      ]
    },
    {
      "cell_type": "code",
      "execution_count": 12,
      "metadata": {
        "id": "0BNXso5oG2yd"
      },
      "outputs": [
        {
          "name": "stdout",
          "output_type": "stream",
          "text": [
            "[5, 7, 9]\n",
            "[4, 6, 8]\n"
          ]
        }
      ],
      "source": [
        "comp = [x for x in range(4,10)if x % 2 == 1]\n",
        "print(comp)\n",
        "comp2 = [x for x in range(4,10) if x % 2 == 0] \n",
        "print(comp2)"
      ]
    }
  ],
  "metadata": {
    "colab": {
      "name": "ejercicios.ipynb",
      "provenance": []
    },
    "kernelspec": {
      "display_name": "Python 3",
      "language": "python",
      "name": "python3"
    },
    "language_info": {
      "codemirror_mode": {
        "name": "ipython",
        "version": 3
      },
      "file_extension": ".py",
      "mimetype": "text/x-python",
      "name": "python",
      "nbconvert_exporter": "python",
      "pygments_lexer": "ipython3",
      "version": "3.12.6"
    }
  },
  "nbformat": 4,
  "nbformat_minor": 0
}
