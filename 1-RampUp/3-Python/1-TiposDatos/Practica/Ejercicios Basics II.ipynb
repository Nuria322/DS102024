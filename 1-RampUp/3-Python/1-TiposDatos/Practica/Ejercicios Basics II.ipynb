{
 "cells": [
  {
   "cell_type": "markdown",
   "metadata": {},
   "source": [
    "![imagen](./img/ejercicios.png)"
   ]
  },
  {
   "cell_type": "markdown",
   "metadata": {},
   "source": [
    "# Ejercicios Python Basics II"
   ]
  },
  {
   "cell_type": "markdown",
   "metadata": {},
   "source": [
    "## Ejercicio 1\n",
    "* Crea dos variables numericas: un `int` y un `float`\n",
    "* Comprueba sus tipos\n",
    "* Sumalas en otra nueva\n",
    "* ¿De qué tipo es la nueva variable?\n",
    "* Elimina las dos primeras variables creadas"
   ]
  },
  {
   "cell_type": "code",
   "execution_count": 2,
   "metadata": {},
   "outputs": [
    {
     "name": "stdout",
     "output_type": "stream",
     "text": [
      "<class 'int'>\n",
      "<class 'float'>\n",
      "<class 'float'>\n"
     ]
    }
   ],
   "source": [
    "var_i = 31\n",
    "print(type(var_i))\n",
    "var_f = 23.57\n",
    "print(type(var_f))\n",
    "var_suma = var_i + var_f \n",
    "print(type(var_suma))"
   ]
  },
  {
   "cell_type": "markdown",
   "metadata": {},
   "source": [
    "## Ejercicio 2\n",
    "Escribe un programa para pasar de grados a radianes. Hay que usar `input`. Recuerda que la conversión se realiza mediante\n",
    "\n",
    "radianes = grados*(pi/180)"
   ]
  },
  {
   "cell_type": "code",
   "execution_count": 7,
   "metadata": {},
   "outputs": [
    {
     "name": "stdout",
     "output_type": "stream",
     "text": [
      "3.141592653589793\n",
      "0.3490658503988659\n",
      "El equivalente en radianes es: 0.3490658503988659\n"
     ]
    }
   ],
   "source": [
    "import math\n",
    "print(math.pi)\n",
    "grados = float(input(\"¿Cuántos grados hace?\"))\n",
    "radianes = grados* (3.141592653589793/180)\n",
    "print(radianes)\n",
    "print(f\"El equivalente en radianes es: {radianes}\")"
   ]
  },
  {
   "cell_type": "markdown",
   "metadata": {},
   "source": [
    "## Ejercicio 3\n",
    "Escribe un programa que calcule el area de un paralelogramo (base x altura). También con `input`"
   ]
  },
  {
   "cell_type": "code",
   "execution_count": 8,
   "metadata": {},
   "outputs": [
    {
     "name": "stdout",
     "output_type": "stream",
     "text": [
      "El area del paralelogramo es: 60.0\n"
     ]
    }
   ],
   "source": [
    "altura = float(input(\"¿Cuál es la altura del paralelogramo?\"))\n",
    "base = float(input(\"¿Cuál es la base del paralelogramo?\"))\n",
    "area = base* altura\n",
    "print(f\"El area del paralelogramo es: {area}\")\n"
   ]
  },
  {
   "cell_type": "markdown",
   "metadata": {},
   "source": [
    "## Ejercicio 4\n",
    "Tenemos las siguientes variables:\n",
    "\n",
    "```Python\n",
    "A = 4\n",
    "B = \"Text\"\n",
    "C = 4.1\n",
    "```\n",
    "\n",
    "Comprueba:\n",
    "1. Si A y B son equivalentes\n",
    "2. Si A y C NO son equivalentes\n",
    "3. Si A es mayor que C \n",
    "4. Si C es menor o igual que A\n",
    "5. Si B NO es equivalente a C"
   ]
  },
  {
   "cell_type": "code",
   "execution_count": 14,
   "metadata": {},
   "outputs": [
    {
     "name": "stdout",
     "output_type": "stream",
     "text": [
      "False\n",
      "True\n",
      "False\n",
      "False\n",
      "True\n"
     ]
    }
   ],
   "source": [
    "a = 4\n",
    "b = \"Text\"\n",
    "c = 4.1\n",
    "#if a == b:\n",
    "    #print(\"son equivalentes\")\n",
    "#else:\n",
    "    #print(\"no son equivalentes\")\n",
    "print(a == b)\n",
    "print(a != c)\n",
    "print(a > c)\n",
    "print(c <= a)\n",
    "print(b != c)\n"
   ]
  },
  {
   "cell_type": "markdown",
   "metadata": {},
   "source": [
    "## Ejercicio 5\n",
    "Crea un programa donde se recojan dos inputs del usuario, y el output del programa sea si esos inputs son iguales o no"
   ]
  },
  {
   "cell_type": "code",
   "execution_count": 1,
   "metadata": {},
   "outputs": [
    {
     "name": "stdout",
     "output_type": "stream",
     "text": [
      "No son iguales\n"
     ]
    }
   ],
   "source": [
    "valor_1 = (input(\"¿Cuál es el primer valor que quieres comparar?\"))\n",
    "valor_2 = (input(\"¿Cuál es el segundo valor que quieres comparar?\"))\n",
    "\n",
    "if valor_1==valor_2:\n",
    "    print(\"Son iguales\")\n",
    "else:\n",
    "    print(\"No son iguales\")"
   ]
  },
  {
   "cell_type": "markdown",
   "metadata": {},
   "source": [
    "## Ejercicio 6\n",
    "Mismo programa que en 5, pero en esta ocasión tienen que ser tres inputs y dos salidas. Una de las salidas que nos indique si todos son iguales, y la otra si al menos dos inputs sí que lo son"
   ]
  },
  {
   "cell_type": "code",
   "execution_count": 18,
   "metadata": {},
   "outputs": [
    {
     "name": "stdout",
     "output_type": "stream",
     "text": [
      "Al menos dos son iguales\n"
     ]
    }
   ],
   "source": [
    "var_1 = (input(\"¿Cuál es el primer valor que quieres comparar?\"))\n",
    "var_2 = (input(\"¿Cuál es el segundo valor que quieres comparar?\"))\n",
    "var_3= (input(\"¿Cuál es el tercer valor que quieres comparar?\"))\n",
    "if var_1==var_2 == var_3:\n",
    "    print(\"son iguales\")\n",
    "elif var_1== var_2 or var_2== var_3 or var_1==var_3:\n",
    "    print(\"Al menos dos son iguales\")\n",
    "else:\n",
    "    print(\"Ninguno es igual\")"
   ]
  },
  {
   "cell_type": "markdown",
   "metadata": {},
   "source": [
    "## Ejercicio 7\n",
    "Crea un programa que recoja dos inputs. Tiene que comprobar si su suma es igual, superior o inferior a 10"
   ]
  },
  {
   "cell_type": "code",
   "execution_count": 7,
   "metadata": {},
   "outputs": [
    {
     "name": "stdout",
     "output_type": "stream",
     "text": [
      "Los dos numeros suman 10\n"
     ]
    }
   ],
   "source": [
    "primero = float(input(\"Escriba un numero\"))\n",
    "segundo = float(input(\"Escriba otro numero\"))\n",
    "suma = primero + segundo\n",
    "if suma == 10:\n",
    "    print(\"Los dos numeros suman 10\")\n",
    "elif suma > 10:\n",
    "    print(\"La suma de ambos numeros es mayor que 10\")\n",
    "else:\n",
    "    print(\"La suma de ambos numeros es menor que 10\")\n"
   ]
  },
  {
   "cell_type": "markdown",
   "metadata": {},
   "source": [
    "## Ejercicio 8\n",
    "Razona sin ejecutar código el output que obtendremos de las siguientes sentencias\n",
    "1. True and True and False\n",
    "2. not ((True or False) and (True or False))\n",
    "3. (False or False or False or True) and False\n",
    "4. not False and True and not True"
   ]
  },
  {
   "cell_type": "markdown",
   "metadata": {},
   "source": [
    "1. False\n",
    "2. False\n",
    "3. False\n",
    "4. False"
   ]
  },
  {
   "cell_type": "code",
   "execution_count": null,
   "metadata": {},
   "outputs": [],
   "source": [
    "# 1. False\n",
    "# 2. False\n",
    "# 3. False\n",
    "# 4. False"
   ]
  },
  {
   "cell_type": "markdown",
   "metadata": {},
   "source": [
    "## Ejercicio 9\n",
    "Para este ejercicio vamos a poner en práctica [las funciones built in](https://docs.python.org/3/library/functions.html).\n",
    "\n",
    "1. Calcula el máximo de la lista: [4, 6, 8, -1]\n",
    "2. Suma todos los elementos de la lista anterior\n",
    "3. Redondea este float a 3 dígitos decimales: 63.451256965\n",
    "4. Valor absoluto de: -74"
   ]
  },
  {
   "cell_type": "code",
   "execution_count": 19,
   "metadata": {},
   "outputs": [
    {
     "name": "stdout",
     "output_type": "stream",
     "text": [
      "8\n",
      "17\n",
      "63.451\n",
      "74.0\n"
     ]
    }
   ],
   "source": [
    "lista = [4,6,8,-1]\n",
    "print(max(lista))\n",
    "\n",
    "print(sum(lista))\n",
    "redondeo = 63.451256965\n",
    "print(round(redondeo, 3))\n",
    "import math\n",
    "print(math.fabs(-74))\n"
   ]
  },
  {
   "cell_type": "markdown",
   "metadata": {},
   "source": [
    "## Ejercicio 10\n",
    "Para el siguiente string se pide imprimir por pantalla los siguientes casos\n",
    "\n",
    "    \"A quien madruga, dios le ayuda\"\n",
    "\n",
    "1. Pasarlo todo a mayusculas\n",
    "2. Pasarlo todo a minusculas\n",
    "3. Pasar a mayusculas solo las iniciales de las palabras\n",
    "4. Crea una lista dividiendolo por sus espacios\n",
    "5. Sustituye las comas `,` por puntos y comas `;`\n",
    "6. Elimina las `a` minusculas"
   ]
  },
  {
   "cell_type": "code",
   "execution_count": 27,
   "metadata": {},
   "outputs": [
    {
     "name": "stdout",
     "output_type": "stream",
     "text": [
      "A QUIEN MADRUGA, DIOS LE AYUDA\n",
      "a quien madruga, dios le ayuda\n",
      "A quien madruga; dios le ayuda\n",
      "['A', 'quien', 'madruga,', 'dios', 'le', 'ayuda']\n",
      "A quien mdrug, dios le yud\n"
     ]
    }
   ],
   "source": [
    "frase = \"A quien madruga, dios le ayuda\"\n",
    "print(frase.upper())\n",
    "print(frase.lower())\n",
    "#¿como se pasan a mayusculas solo las iniciales?\n",
    "print(frase.replace (\",\", \";\"))\n",
    "lista_frase = print(frase.split(\" \"))\n",
    "print(frase.replace(\"a\", \"\"))"
   ]
  },
  {
   "cell_type": "markdown",
   "metadata": {},
   "source": [
    "## Ejercicio 11\n",
    "1. Crea una lista con 3 elementos numéricos\n",
    "2. Añade un cuarto elemento\n",
    "3. Calcula la suma de todos\n",
    "4. Elimina el segundo elemento de la lista\n",
    "5. Añade otro elemento en la posicion 3 de la lista\n",
    "6. Crea otra lista con 4 elementos y concaténala a la que ya tenías."
   ]
  },
  {
   "cell_type": "code",
   "execution_count": 50,
   "metadata": {},
   "outputs": [
    {
     "name": "stdout",
     "output_type": "stream",
     "text": [
      "[2, 4, 6]\n",
      "[2, 4, 6, 8]\n",
      "20\n",
      "[2, 6, 8]\n",
      "[2, 6, 8, 1, 10]\n",
      "[2, 6, 8, 1, 10, 1, 3, 5, 7]\n"
     ]
    }
   ],
   "source": [
    "la_lista = [2,4,6]\n",
    "print(la_lista)\n",
    "la_lista.append(8)\n",
    "print(la_lista)\n",
    "print(sum(la_lista))\n",
    "la_lista.pop(1)\n",
    "print(la_lista)\n",
    "la_lista.append(10)\n",
    "la_lista.insert(3,1) #insertar 1 en la psicion 3\n",
    "print(la_lista)\n",
    "la_lista2= [1,3,5,7]\n",
    "mix_listas = la_lista+la_lista2\n",
    "print(mix_listas)\n"
   ]
  }
 ],
 "metadata": {
  "kernelspec": {
   "display_name": "Python 3",
   "language": "python",
   "name": "python3"
  },
  "language_info": {
   "codemirror_mode": {
    "name": "ipython",
    "version": 3
   },
   "file_extension": ".py",
   "mimetype": "text/x-python",
   "name": "python",
   "nbconvert_exporter": "python",
   "pygments_lexer": "ipython3",
   "version": "3.12.6"
  },
  "nbTranslate": {
   "displayLangs": [
    "*"
   ],
   "hotkey": "alt-t",
   "langInMainMenu": true,
   "sourceLang": "en",
   "targetLang": "fr",
   "useGoogleTranslate": true
  },
  "varInspector": {
   "cols": {
    "lenName": 16,
    "lenType": 16,
    "lenVar": 40
   },
   "kernels_config": {
    "python": {
     "delete_cmd_postfix": "",
     "delete_cmd_prefix": "del ",
     "library": "var_list.py",
     "varRefreshCmd": "print(var_dic_list())"
    },
    "r": {
     "delete_cmd_postfix": ") ",
     "delete_cmd_prefix": "rm(",
     "library": "var_list.r",
     "varRefreshCmd": "cat(var_dic_list()) "
    }
   },
   "types_to_exclude": [
    "module",
    "function",
    "builtin_function_or_method",
    "instance",
    "_Feature"
   ],
   "window_display": false
  }
 },
 "nbformat": 4,
 "nbformat_minor": 4
}
