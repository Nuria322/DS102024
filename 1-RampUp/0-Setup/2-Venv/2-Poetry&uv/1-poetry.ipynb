{
 "cells": [
  {
   "cell_type": "markdown",
   "id": "4dddb351",
   "metadata": {},
   "source": [
    "# 1. Poetry: Gestor de dependencias y paquetes\n",
    "\n",
    "<a href=\"https://python-poetry.org//\">\n",
    "<img alt=\"Logo de Poetry\" src=\"https://raw.githubusercontent.com/institutohumai/cursos-python/master/PracticasDeDesarrollo/2_Desarrollo_II/2_Poetry/images/logo-origami.svg\" height=\"150px\"/>\n",
    "</a>"
   ]
  },
  {
   "cell_type": "markdown",
   "id": "c1f95d95",
   "metadata": {},
   "source": [
    "## 1.1. Introducción a conceptos básicos"
   ]
  },
  {
   "cell_type": "markdown",
   "id": "7a47a43b",
   "metadata": {},
   "source": [
    "### ¿Qué es Poetry?\n",
    "\n",
    "&nbsp;&nbsp;&nbsp;&nbsp;**Poetry** es un gestor de paquetes que al igual que el querido PIP se encarga de instalar todas las dependencias que necesitemos para nuestros proyectos de desarrollo creando un ambiente virtual para cada proyecto... Esperen. ¿No es lo mismo que lo que ya vimos con pyenv o CONDA?. Casi; por ahora conozcamos el nuevo enemigo.\n",
    "\n",
    "### ¿Por qué existe?\n",
    "\n",
    "&nbsp;&nbsp;&nbsp;&nbsp; ¿No es lo qué nos preguntamos todos?... Al menos Poetry lo tiene resuelto: A la hora de crear un nuevo paquete en Python, hacerlo de manera tradicional puede ser un poco intimidante y escabroso si no entiendes que hace cada uno de los archivos necesarios (`setup.py`, `requirements.txt`, `setup.cfg`, `MANIFEST.in` y `Pipfile`). Poetry resuelve esto teniendo un archivo de configuración maestro que incluye:\n",
    "* Gestionar las dependencias del proyecto.\n",
    "* El empaquetado del mismo.\n",
    "* Su publicación.\n",
    "\n",
    "&nbsp;&nbsp;&nbsp;&nbsp; Otro aspecto importante de Poetry es que tiene su propio motor de resolución de dependencias. Eso es lo que, cuando queremos instalar un nuevo paquete, verifica que sea compatible con los paquetes que tenemos instalados anteriormente para que no rompa nada. Este punto es clave porque en PIP, cuando queremos instalar una dependencia que rompe con un requerimiento de una anterior nos la instalará pero nos dara un hermoso mensaje en rojo pasión indicando que el paquete está rompiendo una dependencia. En Poetry ese mismo escenario no es posible. Simplemente denegará cualquier instalación que pueda potencialmente romper el ambiente."
   ]
  },
  {
   "cell_type": "markdown",
   "id": "a36eee23",
   "metadata": {},
   "source": [
    "| <img alt=\"Instalando con pip\" src=\"./images/pip-install.png\" /> |\n",
    "|:--:|\n",
    "|*Ejemplo de instalación de dependencias incompletas en pip*|"
   ]
  },
  {
   "cell_type": "markdown",
   "id": "682a3c83",
   "metadata": {},
   "source": [
    "---"
   ]
  },
  {
   "cell_type": "markdown",
   "id": "b300f815",
   "metadata": {},
   "source": [
    "### 1.2 Instalación"
   ]
  },
  {
   "cell_type": "markdown",
   "id": "98df3314",
   "metadata": {},
   "source": [
    "&nbsp;&nbsp;&nbsp;&nbsp; El proceso de instalación es bastante sencillo. Descargamos el script de instalación que corre con Python (tienes que tener instalado Python 3.5+) y lo corremos. Podemos hacer eso con un solo comando:\n",
    "\n",
    "MacOS\n",
    "```bash\n",
    "curl -sSL https://install.python-poetry.org | python3 -\n",
    "```\n",
    "Windows\n",
    "```shell\n",
    "(Invoke-WebRequest -Uri https://install.python-poetry.org -UseBasicParsing).Content | py -\n",
    "```\n",
    "\n",
    "Podemos corroborar que todo se instaló correctamente verificando la versión instalada:\n",
    "\n",
    "```console\n",
    "poetry -V\n",
    "Poetry (version 1.8.2)\n",
    "```\n",
    "\n",
    "*Si no puedes ver ese resultado, recuerda que tienes que actualizar la shell o abrir un nuevo terminal*"
   ]
  },
  {
   "cell_type": "markdown",
   "id": "6b7dbe6e",
   "metadata": {},
   "source": [
    "---"
   ]
  },
  {
   "cell_type": "markdown",
   "id": "567be33a",
   "metadata": {},
   "source": [
    "### 1.3 Iniciando un nuevo proyecto"
   ]
  },
  {
   "cell_type": "markdown",
   "id": "04276b3a",
   "metadata": {},
   "source": [
    "&nbsp;&nbsp;&nbsp;&nbsp; Teniendo Poetry listo, vamos a crear nuestro primer proyecto. Para esto podemos tomar un proyecto que ya esté comenzado, posicionarnos en el directorio del mismo y correr `poetry init`.\n",
    "\n",
    "&nbsp;&nbsp;&nbsp;&nbsp; La otra opción es arrancar uno desde cero:\n",
    "\n",
    "```console\n",
    "jamr1@jamr1989://bootcamp_ds# poetry new bootcamp_ds\n",
    "Created package bootcamp_ds in bootcamp_ds\n",
    "jamr1@jamr1989:/bootcamp_ds# tree bootcamp_ds/\n",
    "bootcamp_ds/\n",
    "├── README.md\n",
    "├── bootcamp_ds\n",
    "│   └── __init__.py\n",
    "├── pyproject.toml\n",
    "└── tests\n",
    "    ├── __init__.py\n",
    "    └── test_bootcamp_ds.py\n",
    "\n",
    "2 directories, 5 files\n",
    "```\n",
    "*No te preocupes si el segundo comando no corre, es simplemente para ver la estructura de archivos a partir de un path. Seguramente lo puedes instalar en su máquina instalando el paquete 'tree' en tu SO.\n",
    "\n",
    "&nbsp;&nbsp;&nbsp;&nbsp; Genial!! Ya pusimos nuestra primera piedra. Hablemos de que es cada cosa:\n",
    "* `README.md`: El viejo y querido README, contandonos lo más importante de nuestro proyecto\n",
    "* `bootcamp_ds`: Este es el nombre que le pusimos a nuestro proyecto. En este directorio va a estar todo el código fuente de nuestro paquete. Por ahora solo tenemos un simple `__init__.py` que comienza con una versión 0.1.0 (A la hora de sacar nuevas versiones de nuestro paquete, recordemos modificar esto).\n",
    "* `pyproject.toml`: El archivo de configuración maestro de Poetry. Cómo mencionamos, acá va a ir toda las información y dependencias referidas a nuestro paquete.\n",
    "* `tests`: Carpeta en donde podemos colocar nuestros tests (nada mejor que una librería que nos recuerda la importancia de correr tests en nuestro código).\n",
    "\n",
    "\n",
    "&nbsp;&nbsp;&nbsp;&nbsp; Pasemos pues a explicar de que se compone el archivo **pyproject.toml**:"
   ]
  },
  {
   "cell_type": "markdown",
   "id": "c52e2406",
   "metadata": {},
   "source": [
    "| <img alt=\"Contenido pyproject.toml\" src=\"./images/pyproject.png\" /> |\n",
    "|:--:|\n",
    "|*Contenido del archivo pyproject.toml*|"
   ]
  },
  {
   "cell_type": "markdown",
   "id": "dde8cec7",
   "metadata": {},
   "source": [
    "\n",
    "---"
   ]
  },
  {
   "cell_type": "markdown",
   "id": "2b8593cf",
   "metadata": {},
   "source": [
    "### 1.4 Agregar  paquetes"
   ]
  },
  {
   "cell_type": "markdown",
   "id": "bc669a6c",
   "metadata": {},
   "source": [
    "&nbsp;&nbsp;&nbsp;&nbsp; Como habrás notado, si venís corriendo los comandos por tu cuenta, hay una dependencia que no existe en tu `pyproject.toml`: **fastapi** (Reemplazo asyncrónico del querido Flask). Pero, ¿Cómo llegó eso ahí?. La forma más sencilla es agregarlo a mano en la configuración. O bien indicandole a poetry, estando posicionados en la carpeta del proyecto, que agregue una nueva dependencia: `poetry add fastapi`.\n",
    "\n",
    "&nbsp;&nbsp;&nbsp;&nbsp; Ahora, si corriste el comando anterior pasarón las siguientes cosas:\n",
    " * Se creó un ambiente virtual para nuestro proyecto. Por defecto toma el nombre del proyecto, un hash (que depende del path en el que estemos), y la versión de python. Cada vez que querramos agregar una nueva dependencia, no se agregará al ambiente del sistema sino que lo mantendrá aislado en nuestro ambiente-proyecto.\n",
    " * Se resolvieron las dependencias. Acá es en donde toma lugar lo que mencionabamos anteriormente en cuanto a que poetry resuelve sus dependencias usando un solver propio.\n",
    " * Si todo funcionó bien, se resolvió el problema de las dependencias en `poetry.lock`, de modo tal de que si alguien quiere instalar el paquete no tenga que volver a resolver las dependencias.\n",
    " * Finalmente, agregó la dependencia al archivo de configuración.\n",
    "\n",
    "Pero, ¿Qué pasa si quiero agregar una dependencia que es incompatible con lo que ya tengo instalado? Un ejemplo de esto puede ser `pydantic=1.7`, que colisionará con el previamente instalado `fastapi=0.111.0` (última versión al momento de la redacción)\n",
    "\n",
    "Y acá marcamos una gran diferencia con PIP. Cómo vimos anteriormente, PIP nos dejaba instalar el paquete pero nos avisaba que había otras dependencias que se iban a romper. Poetry no nos permite hacer esto, solo nos va a dejar instalar algo si no rompe lo que ya está."
   ]
  },
  {
   "cell_type": "markdown",
   "id": "62a5f438",
   "metadata": {},
   "source": [
    "---"
   ]
  },
  {
   "cell_type": "markdown",
   "id": "ab751b0f",
   "metadata": {},
   "source": [
    "### 1.5 Instalar nuestro paquete"
   ]
  },
  {
   "cell_type": "markdown",
   "id": "2b540d7e",
   "metadata": {},
   "source": [
    "&nbsp;&nbsp;&nbsp;&nbsp; Al igual que con PIP, podemos verficar cuales son los paquetes que tenemos instalados en nuestro ambientes ejecutando `poetry show` (simil `pip list`)\n",
    "\n",
    "```console\n",
    "jamr1@jamr1989:/bootcamp_ds# poetry show\n",
    "anyio             3.6.1  High level compatibility layer for multiple asynchronous event loop implementations\n",
    "attrs             21.4.0 Classes Without Boilerplate\n",
    "fastapi           0.78.0 FastAPI framework, high performance, easy to learn, fast to code, ready for production\n",
    "idna              3.3    Internationalized Domain Names in Applications (IDNA)\n",
    "more-itertools    8.13.0 More routines for operating on iterables, beyond itertools\n",
    "packaging         21.3   Core utilities for Python packages\n",
    "pluggy            0.13.1 plugin and hook calling mechanisms for python\n",
    "py                1.11.0 library with cross-python path, ini-parsing, io, code, log facilities\n",
    "pydantic          1.9.1  Data validation and settings management using python type hints\n",
    "pyparsing         3.0.9  pyparsing module - Classes and methods to define and execute parsing grammars\n",
    "pytest            5.4.3  pytest: simple powerful testing with Python\n",
    "sniffio           1.2.0  Sniff out which async library your code is running under\n",
    "starlette         0.19.1 The little ASGI library that shines.\n",
    "typing-extensions 4.3.0  Backported and Experimental Type Hints for Python 3.7+\n",
    "wcwidth           0.2.5  Measures the displayed width of unicode strings in a terminal\n",
    "```\n",
    "\n",
    "&nbsp;&nbsp;&nbsp;&nbsp; Cómo vemos, nuestro paquete no está listado. En primer lugar porque nunca lo instalamos :), y en segundo porque `poetry show` no muestro el paquete local que estamos trabajando. Para instalarlo, simplemente corremos `poetry install`\n",
    "\n",
    "```console\n",
    "jamr1@jamr1989:/bootcamp_ds# poetry install\n",
    "Installing dependencies from lock file\n",
    "\n",
    "No dependencies to install or update\n",
    "\n",
    "Installing the current project: bootcamp_ds (0.1.0)\n",
    "```\n",
    "&nbsp;&nbsp;&nbsp;&nbsp; Acá es en donde sacamos frutos del lockfile: dado que todas las dependencias están resueltas el solver no tiene que volver a trabajar, por lo que simplemente lee el lock e instala (si no lo había hecho previamente) todo lo necesario. Cabe aclarar que es en este lugar en donde podemos indicarle a Poetry que instale dependencias extras o que no instale las dependencias de desarrollo."
   ]
  },
  {
   "cell_type": "markdown",
   "id": "addba679",
   "metadata": {},
   "source": [
    "---"
   ]
  },
  {
   "cell_type": "markdown",
   "id": "32248051",
   "metadata": {},
   "source": [
    "### 1.6 Actualizar y eliminar paquetes"
   ]
  },
  {
   "cell_type": "markdown",
   "id": "ff5f2815",
   "metadata": {},
   "source": [
    "&nbsp;&nbsp;&nbsp;&nbsp; Actualizar y eliminar paquetes es sencillo al igual que en PIP. A manera de ejemplo:\n",
    "  * Agreguemos una nueva dependencia desactualizada\n",
    "  ```console\n",
    "  jamr1@jamr1989:/bootcamp_ds# poetry add requests=2.27.1\n",
    "\n",
    "  Updating dependencies\n",
    "  Resolving dependencies... (0.9s)\n",
    "\n",
    "  Writing lock file\n",
    "\n",
    "  Package operations: 4 installs, 0 updates, 0 removals\n",
    "\n",
    "    • Installing certifi (2022.6.15)\n",
    "    • Installing charset-normalizer (2.0.12)\n",
    "    • Installing urllib3 (1.26.9)\n",
    "    • Installing requests (2.27.1)\n",
    "  ```\n",
    "\n",
    "  * Actualicemosla con `poetry update`. Para esto tenemos 2 formas, o bien actualizamos todos las dependencias (igual que podemos hacer en CONDA o PIP) o actualizamos individualmente la dependencia que necesitemos. Para esto es importante que si instalamos la dependencia cómo hicimos en el comando anterior en donde fijamos la versión (yo quiero solamente la 2.27.1), relajemos la dependencia. Para eso podemos editar el `pyproject.toml` en la linea en donde especificamos la versión de `requests`\n",
    "\n",
    "  | <img alt=\"Actualización de config\" src=\"https://raw.githubusercontent.com/institutohumai/cursos-python/master/PracticasDeDesarrollo/2_Desarrollo_II/2_Poetry/images/dependency-update.png\" /> |\n",
    "  |:--:|\n",
    "  |*Relajando los requisitos de requests. Solo se cambia '^'*|\n",
    "\n",
    "  Ahora solo queda actualizar `requests`\n",
    "  ```console\n",
    "  jamr1@jamr1989:/bootcamp_ds# poetry update requests\n",
    "  Updating dependencies\n",
    "  Resolving dependencies... (0.2s)\n",
    "\n",
    "  Writing lock file\n",
    "\n",
    "  Package operations: 0 installs, 1 update, 0 removals\n",
    "\n",
    "    • Updating requests (2.27.1 -> 2.31.0)\n",
    "  ```\n",
    "\n",
    "  * Y ya que en realidad no necesitamos la dependencia, deberiamos eliminarla de la lista de requerimientos de nuestro paquete. Para eso simplemente corremos:\n",
    "  `poetry remove requests`\n",
    "\n",
    "  ```console\n",
    "  jamr1@jamr1989:/bootcamp_ds# poetry remove requests\n",
    "  Updating dependencies\n",
    "  Resolving dependencies... (0.1s)\n",
    "\n",
    "  Writing lock file\n",
    "\n",
    "  Package operations: 0 installs, 0 updates, 3 removals\n",
    "\n",
    "    • Removing charset-normalizer (2.0.12)\n",
    "    • Removing requests (2.31.0)\n",
    "    • Removing urllib3 (1.26.18)\n",
    "  ```"
   ]
  },
  {
   "cell_type": "markdown",
   "id": "eff9e5d6",
   "metadata": {},
   "source": [
    "---"
   ]
  },
  {
   "cell_type": "markdown",
   "id": "c46fe9ff",
   "metadata": {},
   "source": [
    "### 1.7 Ambiente virtual"
   ]
  },
  {
   "cell_type": "markdown",
   "id": "65a8c5ac",
   "metadata": {},
   "source": [
    "&nbsp;&nbsp;&nbsp;&nbsp; Cómo vemos hasta ahora, estamos instalando todos los paquetes en el ambiente virtual creado por Poetry para nuestro proyecto. Para poder acceder a dicho ambiente podemos:\n",
    "* Activar el ambiente en nuestro shell\n",
    "\n",
    "```console\n",
    "jamr1@jamr1989:/bootcamp_ds# poetry shell\n",
    "Spawning shell within /root/.cache/pypoetry/virtualenvs/bootcamp_ds-pCYlvB0E-py3.10\n",
    "jamr1@jamr1989:/bootcamp_ds# . /root/.cache/pypoetry/virtualenvs/bootcamp_ds-pCYlvB0E-py3.10/bin/activate\n",
    "(bootcamp_ds-pCYlvB0E-py3.10) jamr1@jamr1989:/bootcamp_ds#\n",
    "```\n",
    "* Pedirle a Poetry que corra un comando bajo ese ambiente\n",
    "\n",
    "```console\n",
    "jamr1@jamr1989:/bootcamp_ds# poetry run pip list\n",
    "Package           Version\n",
    "----------------- -------\n",
    "anyio             3.6.1\n",
    "attrs             21.4.0\n",
    "fastapi           0.78.0\n",
    "humai_demo        0.1.0\n",
    "idna              3.3\n",
    "more-itertools    8.13.0\n",
    "packaging         21.3\n",
    "pip               22.0.3\n",
    "pluggy            0.13.1\n",
    "py                1.11.0\n",
    "pydantic          1.9.1\n",
    "pyparsing         3.0.9\n",
    "pytest            5.4.3\n",
    "setuptools        60.6.0\n",
    "sniffio           1.2.0\n",
    "starlette         0.19.1\n",
    "typing_extensions 4.3.0\n",
    "wcwidth           0.2.5\n",
    "wheel             0.37.1\n",
    "```\n",
    "\n",
    "&nbsp;&nbsp;&nbsp;&nbsp; Y ahora si, vemos nuestro paquete instalado. (Este PIP list es el de nuestro ambiente virtual)"
   ]
  },
  {
   "cell_type": "markdown",
   "id": "1db6d733",
   "metadata": {},
   "source": [
    "---"
   ]
  },
  {
   "cell_type": "markdown",
   "id": "88b31663",
   "metadata": {},
   "source": [
    "### 1.10 Conclusiones"
   ]
  },
  {
   "cell_type": "markdown",
   "id": "0be96680",
   "metadata": {},
   "source": [
    "\n",
    "&nbsp;&nbsp;&nbsp;&nbsp; Y con eso terminamos con Poetry. Vimos cómo gestionar un proyecto desde su creación, y todo lo que conlleva. Como siempre es aconsejable explorar un poco con otra opciones, cómo más scripts o dependencias extras (?). Buena suerte en su nueva faceta como poetas 📜🖋!!"
   ]
  }
 ],
 "metadata": {
  "kernelspec": {
   "display_name": "bootcamp-ds-NHz2zIBL-py3.10",
   "language": "python",
   "name": "python3"
  },
  "language_info": {
   "codemirror_mode": {
    "name": "ipython",
    "version": 3
   },
   "file_extension": ".py",
   "mimetype": "text/x-python",
   "name": "python",
   "nbconvert_exporter": "python",
   "pygments_lexer": "ipython3",
   "version": "3.10.11"
  }
 },
 "nbformat": 4,
 "nbformat_minor": 5
}
