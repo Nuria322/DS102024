{
 "cells": [
  {
   "cell_type": "code",
   "execution_count": 1,
   "metadata": {},
   "outputs": [],
   "source": [
    "import re\n",
    "\n",
    "emails = '''\n",
    "loquesea@\n",
    "juanmaniglia@thebridgeschool.tech\n",
    "juan.maniglia@uc3m.es\n",
    "juan-12-1993@mi-correo.net\n",
    "'''"
   ]
  },
  {
   "cell_type": "code",
   "execution_count": 2,
   "metadata": {},
   "outputs": [
    {
     "name": "stdout",
     "output_type": "stream",
     "text": [
      "['juanmaniglia@thebridgeschool.tech', 'juan.maniglia@uc3m.es', 'juan-12-1993@mi-correo.net']\n"
     ]
    }
   ],
   "source": [
    "def encontrar_emails(emails):\n",
    "    regla_de_busqueda = r'[a-zA-Z0-9._%+-]+@[a-zA-Z0-9.-]+\\.[a-zA-Z]{2,}'\n",
    "    return re.findall(regla_de_busqueda, emails)\n",
    "\n",
    "print(encontrar_emails(emails))"
   ]
  }
 ],
 "metadata": {
  "kernelspec": {
   "display_name": "bootcamp-ds-NHz2zIBL-py3.10",
   "language": "python",
   "name": "python3"
  },
  "language_info": {
   "codemirror_mode": {
    "name": "ipython",
    "version": 3
   },
   "file_extension": ".py",
   "mimetype": "text/x-python",
   "name": "python",
   "nbconvert_exporter": "python",
   "pygments_lexer": "ipython3",
   "version": "3.10.11"
  },
  "orig_nbformat": 4
 },
 "nbformat": 4,
 "nbformat_minor": 2
}
