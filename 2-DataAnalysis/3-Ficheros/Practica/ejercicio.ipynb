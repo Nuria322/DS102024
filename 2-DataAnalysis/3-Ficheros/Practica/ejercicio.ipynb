{
 "cells": [
  {
   "cell_type": "markdown",
   "metadata": {},
   "source": [
    "# AutoImporter para Importaciones Simplificadas"
   ]
  },
  {
   "cell_type": "markdown",
   "metadata": {},
   "source": [
    "# Objetivo:\n",
    "\n",
    "Crear una clase en Python que, al ser importada y utilizada al inicio de un notebook o script, permita importar módulos directamente utilizando solo el nombre del archivo, sin necesidad de especificar rutas relativas o absolutas.\n",
    "\n",
    "# Descripción:\n",
    "En proyectos con estructuras de directorios complejas, es común tener que escribir rutas largas y complicadas para importar módulos ubicados en carpetas profundas. Esto puede hacer que el código sea menos legible y más propenso a errores. Para simplificar este proceso, se te pide que implementes una clase llamada AutoImporter que modifique dinámicamente el entorno de importaciones de Python.\n",
    "\n",
    "# Requisitos:\n",
    "\n",
    "1. Clase AutoImporter:\n",
    "\n",
    "    - Debe estar implementada en un archivo Python, por ejemplo, auto_importer.py.\n",
    "    - Al instanciar esta clase, debe:\n",
    "        - Añadir automáticamente al sys.path todos los subdirectorios del directorio base especificado, permitiendo que Python pueda encontrar y cargar módulos desde cualquier subdirectorio.\n",
    "        - Si no se especifica un directorio base, debe utilizar el directorio actual desde donde se ejecuta el notebook o script (Path.cwd()).\n",
    "\n",
    "2. Métodos de la Clase:\n",
    "\n",
    "    - **__init__(self, base_dir=None)**: Constructor que acepta un parámetro opcional base_dir. Si se proporciona, este será el directorio base para buscar subdirectorios; si no, se utilizará el directorio actual.\n",
    "    - **add_to_sys_path(self)**: Método que recorre recursivamente todos los subdirectorios del base_dir y los añade a sys.path.\n",
    "\n",
    "2. Uso de la Clase:\n",
    "\n",
    "    - Una vez creada la instancia de la clase AutoImporter en un notebook o script, debe ser posible importar cualquier archivo ubicado en las subcarpetas del base_dir sin necesidad de escribir la ruta completa, usando únicamente import nombre_modulo."
   ]
  },
  {
   "cell_type": "markdown",
   "metadata": {},
   "source": [
    "## Ejemplo de Uso:\n",
    "\n",
    "Supongamos que tienes la siguiente estructura de carpetas:"
   ]
  },
  {
   "cell_type": "markdown",
   "metadata": {},
   "source": [
    "````/mi_proyecto\n",
    "│\n",
    "├── /src\n",
    "│   ├── /utils\n",
    "│   │   └── mi_utilidad.py\n",
    "│   └── /models\n",
    "│       └── mi_modelo.py\n",
    "└── main.py"
   ]
  },
  {
   "cell_type": "markdown",
   "metadata": {},
   "source": [
    "Si utilizas la clase AutoImporter al inicio de main.py, podrías importar los módulos mi_utilidad.py y mi_modelo.py directamente en el código de la siguiente manera:"
   ]
  },
  {
   "cell_type": "markdown",
   "metadata": {
    "vscode": {
     "languageId": "plaintext"
    }
   },
   "source": [
    "```python\n",
    "from auto_importer import AutoImporter\n",
    "\n",
    "# Inicializa el AutoImporter, utilizando la carpeta 'src' como base\n",
    "auto_importer = AutoImporter(base_dir='src')\n",
    "\n",
    "# Ahora puedes importar los módulos directamente por su nombre\n",
    "import mi_utilidad\n",
    "import mi_modelo"
   ]
  },
  {
   "cell_type": "markdown",
   "metadata": {},
   "source": [
    "Con esta clase, ya no será necesario especificar rutas como from utils.mi_utilidad import ... o from models.mi_modelo import ..., lo que simplifica el proceso de importación en proyectos con estructuras de carpetas complejas."
   ]
  },
  {
   "cell_type": "code",
   "execution_count": 6,
   "metadata": {},
   "outputs": [
    {
     "name": "stdout",
     "output_type": "stream",
     "text": [
      "Added to sys.path: c:\\Users\\nuria\\OneDrive\\Escritorio\\Data Science\\DS102024\\2-DataAnalysis\\3-Ficheros\\Practica\n",
      "Added to sys.path: c:\\Users\\nuria\\OneDrive\\Escritorio\\Data Science\\DS102024\\2-DataAnalysis\\3-Ficheros\\Practica\\src\n",
      "Added to sys.path: c:\\Users\\nuria\\OneDrive\\Escritorio\\Data Science\\DS102024\\2-DataAnalysis\\3-Ficheros\\Practica\\src\\models\n",
      "Added to sys.path: c:\\Users\\nuria\\OneDrive\\Escritorio\\Data Science\\DS102024\\2-DataAnalysis\\3-Ficheros\\Practica\\src\\utils\n",
      "Added to sys.path: c:\\Users\\nuria\\OneDrive\\Escritorio\\Data Science\\DS102024\\2-DataAnalysis\\3-Ficheros\\Practica\\src\\utils\\text\n",
      "Added to sys.path: c:\\Users\\nuria\\OneDrive\\Escritorio\\Data Science\\DS102024\\2-DataAnalysis\\3-Ficheros\\Practica\\src\\utils\\__pycache__\n"
     ]
    }
   ],
   "source": [
    "import os\n",
    "import sys\n",
    "from pathlib import Path\n",
    "\n",
    "class AutoImporter:\n",
    "    def __init__(self, base_dir=None):\n",
    "                \"\"\"\n",
    "        Constructor de la clase AutoImporter. Si no se especifica un directorio base, \n",
    "        se usará el directorio actual desde donde se ejecuta el script o notebook.\n",
    "        \n",
    "        :param base_dir: Directorio base desde donde buscar subdirectorios.\n",
    "        \"\"\"\n",
    "        # Establece el directorio base\n",
    "                self.base_dir = Path(base_dir) if base_dir else Path.cwd()\n",
    "                self.add_to_sys_path()\n",
    "\n",
    "    def add_to_sys_path(self):\n",
    "                \"\"\"\n",
    "        Añade todos los subdirectorios del directorio base al sys.path.\n",
    "        Esto permite importar módulos de manera sencilla desde cualquier subdirectorio.\n",
    "        \"\"\"\n",
    "        # Recorre todos los subdirectorios del base_dir\n",
    "                for dirpath, dirnames, filenames in os.walk(self.base_dir):\n",
    "            # Añade cada subdirectorio a sys.path\n",
    "                  sys.path.append(dirpath)\n",
    "            # Se puede imprimir cada directorio añadido también\n",
    "                  print(f\"Added to sys.path: {dirpath}\")\n",
    "\n",
    "# Ejemplo de uso\n",
    "if __name__ == \"__main__\":\n",
    "    # Al instanciar la clase, se añadirán los subdirectorios al sys.path\n",
    "    importer = AutoImporter()\n"
   ]
  },
  {
   "cell_type": "code",
   "execution_count": null,
   "metadata": {},
   "outputs": [
    {
     "ename": "ModuleNotFoundError",
     "evalue": "No module named 'auto_importer'",
     "output_type": "error",
     "traceback": [
      "\u001b[1;31m---------------------------------------------------------------------------\u001b[0m",
      "\u001b[1;31mModuleNotFoundError\u001b[0m                       Traceback (most recent call last)",
      "Cell \u001b[1;32mIn[5], line 3\u001b[0m\n\u001b[0;32m      1\u001b[0m \u001b[38;5;66;03m# MÉTODOS DE USO EN LOS NOTEBOOKS:\u001b[39;00m\n\u001b[0;32m      2\u001b[0m \u001b[38;5;66;03m# 1: Este se usa si la auto_importer.py está en el mismo directorio quw el notebook, generalmente no va a ser así porque está en utils por lo que se haría de la forma 2\u001b[39;00m\n\u001b[1;32m----> 3\u001b[0m \u001b[38;5;28;01mfrom\u001b[39;00m \u001b[38;5;21;01mauto_importer\u001b[39;00m \u001b[38;5;28;01mimport\u001b[39;00m AutoImporter\n\u001b[0;32m      5\u001b[0m \u001b[38;5;66;03m# Instanciar AutoImporter, utilizando el directorio actual\u001b[39;00m\n\u001b[0;32m      6\u001b[0m importer \u001b[38;5;241m=\u001b[39m AutoImporter()\n",
      "\u001b[1;31mModuleNotFoundError\u001b[0m: No module named 'auto_importer'"
     ]
    }
   ],
   "source": [
    "# MÉTODOS DE USO EN LOS NOTEBOOKS:\n",
    "# 1: Se usa si auto_importer.py está en el mismo directorio que el notebook, generalmente no va a ser así porque está en utils por lo que se haría de 2º manera\n",
    "from auto_importer import AutoImporter\n",
    "\n",
    "# Instanciar AutoImporter, utilizando el directorio actual\n",
    "importer = AutoImporter()\n"
   ]
  },
  {
   "cell_type": "code",
   "execution_count": null,
   "metadata": {},
   "outputs": [],
   "source": [
    "# 2: Especificas el directorio base y lo tienes\n",
    "importer = AutoImporter(\"/ruta/a/tu/directorio/base\")"
   ]
  }
 ],
 "metadata": {
  "kernelspec": {
   "display_name": "bootcamp-ds-NHz2zIBL-py3.10",
   "language": "python",
   "name": "python3"
  },
  "language_info": {
   "codemirror_mode": {
    "name": "ipython",
    "version": 3
   },
   "file_extension": ".py",
   "mimetype": "text/x-python",
   "name": "python",
   "nbconvert_exporter": "python",
   "pygments_lexer": "ipython3",
   "version": "3.10.11"
  }
 },
 "nbformat": 4,
 "nbformat_minor": 2
}
