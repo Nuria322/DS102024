{
 "cells": [
  {
   "cell_type": "code",
   "execution_count": null,
   "metadata": {
    "_cell_guid": "b1076dfc-b9ad-4769-8c92-a6c4dae69d19",
    "_kg_hide-input": true,
    "_uuid": "8f2839f25d086af736a60e9eeb907d3b93b6e0e5",
    "trusted": false
   },
   "outputs": [],
   "source": [
    "import numpy as np\n",
    "import pandas as pd\n",
    "import seaborn as sns\n",
    "import matplotlib.pyplot as plt\n",
    "import scipy.stats as stats\n",
    "from scipy.stats import f_oneway\n",
    "from scipy.stats import shapiro\n",
    "import pandas as pd\n",
    "from scipy.stats import chi2_contingency\n",
    "\n",
    "\n",
    "import os\n",
    "import warnings\n",
    "warnings.simplefilter(action='ignore', category=FutureWarning)\n",
    "\n",
    "#to make the interactive maps\n",
    "import folium #Biblioteca para crear mapas interactivos basados en Leaflet.js.\n",
    "from folium.plugins import FastMarkerCluster #Biblioteca para crear clusters de marcadores en un mapa interactivo.\n",
    "import geopandas as gpd #Biblioteca para trabajar con datos geoespaciales.\n",
    "from branca.colormap import LinearColormap #Biblioteca para crear colores personalizados en mapas.\n",
    "\n",
    "#to make the plotly graphs\n",
    "from chart_studio import plotly # Biblioteca para crear mapas interactivos basados en Leaflet.js.\n",
    "import cufflinks #Conector entre pandas y plotly para gráficos rápidos y sencillos desde DataFrames.\n",
    "cufflinks.go_offline(connected=True) # Configuración para habilitar gráficos de cufflinks offline.\n",
    "\n",
    "from wordcloud import WordCloud\n",
    "import nltk\n",
    "from nltk.corpus import stopwords#take out empty comments (530)\n",
    "from sklearn.feature_extraction.text import CountVectorizer \n"
   ]
  },
  {
   "cell_type": "markdown",
   "metadata": {},
   "source": [
    "Insideairbnb.com es un sitio web en el que se publican conjuntos de datos web scrapeados de «instantáneas» de ciudades. He descargado los archivos de Ámsterdam de la situación el 6 de diciembre de 2018. Me ha parecido un conjunto de datos divertido. Además de la manipulación básica de datos y gráficos, también he añadido mapas interactivos Folium, gráficos interactivos plotly, y la minería de texto de los comentarios de revisión."
   ]
  },
  {
   "cell_type": "markdown",
   "metadata": {
    "_uuid": "c489029a53702bf56a01be180088cb4e63a6179f"
   },
   "source": [
    "## Los ficheros de listados y detalles de listados\n",
    "El conjunto de datos que he creado contiene un total de 7 archivos. El archivo de listados es un archivo general que insideairbnb etiqueta como «bueno para visualizaciones». El identificador único del conjunto de datos es el identificador del anuncio. En total, había 20.030 anuncios de Airbnb en Ámsterdam el 6 de diciembre de 2018."
   ]
  },
  {
   "cell_type": "code",
   "execution_count": null,
   "metadata": {},
   "outputs": [],
   "source": []
  },
  {
   "cell_type": "code",
   "execution_count": 52,
   "metadata": {
    "_cell_guid": "79c7e3d0-c299-4dcb-8224-4455121ee9b0",
    "_kg_hide-input": true,
    "_uuid": "d629ff2d2480ee46fbb7e2d37f6b5fab8052498a",
    "trusted": false
   },
   "outputs": [],
   "source": [
    "listings = pd.read_csv(\"input/listings.csv\", index_col= \"id\")\n",
    "listings_details = pd.read_csv(\"input/listings_details.csv\", index_col= \"id\", low_memory=False)\n",
    "calendar = pd.read_csv(\"input/calendar.csv\", parse_dates=['date'], index_col=['listing_id'])\n",
    "reviews_details = pd.read_csv(\"input/reviews_details.csv\", parse_dates=['date']) #, index_col=['id'])"
   ]
  },
  {
   "cell_type": "code",
   "execution_count": null,
   "metadata": {},
   "outputs": [],
   "source": [
    "for i in [listings, listings_details, calendar, reviews_details]:\n",
    "    print(i.shape)"
   ]
  },
  {
   "cell_type": "code",
   "execution_count": null,
   "metadata": {},
   "outputs": [],
   "source": [
    "listings.info()"
   ]
  },
  {
   "cell_type": "code",
   "execution_count": null,
   "metadata": {
    "trusted": false
   },
   "outputs": [],
   "source": [
    "listings.shape"
   ]
  },
  {
   "cell_type": "markdown",
   "metadata": {
    "_uuid": "cde738c5c6a5a25041eefe23ad96986b7724212d"
   },
   "source": [
    "El fichero de listados contiene 15 variables por listado además del id."
   ]
  },
  {
   "cell_type": "code",
   "execution_count": null,
   "metadata": {
    "_kg_hide-input": false,
    "_uuid": "78165e6770aa9e59b20da2fa685968e569e88ae9",
    "trusted": false
   },
   "outputs": [],
   "source": [
    "listings.columns"
   ]
  },
  {
   "cell_type": "code",
   "execution_count": null,
   "metadata": {},
   "outputs": [],
   "source": [
    "listings_details.columns"
   ]
  },
  {
   "cell_type": "markdown",
   "metadata": {
    "_uuid": "5ba397be13a5b11ca91fdd4e3244ba677ad6a3c4"
   },
   "source": [
    "El archivo listings_details contiene un total de 96 variables. No voy a utilizarlas todas, sino que uniré selectivamente una serie de variables que me parecían útiles para este EDA."
   ]
  },
  {
   "cell_type": "code",
   "execution_count": null,
   "metadata": {
    "_kg_hide-input": true,
    "_uuid": "e4a3960404c37e13f7cc08a198b698c3ae65ad74",
    "trusted": false
   },
   "outputs": [],
   "source": [
    "target_columns = [\"property_type\", \"accommodates\", \"first_review\", \"review_scores_value\", \"review_scores_cleanliness\", \"review_scores_location\", \"review_scores_accuracy\", \"review_scores_communication\", \"review_scores_checkin\", \"review_scores_rating\", \"maximum_nights\", \"listing_url\", \"host_is_superhost\", \"host_about\", \"host_response_time\", \"host_response_rate\", \"street\", \"weekly_price\", \"monthly_price\", \"market\"]\n",
    "listings = pd.merge(listings, listings_details[target_columns], on='id', how='left')\n",
    "listings.info()"
   ]
  },
  {
   "cell_type": "markdown",
   "metadata": {
    "_uuid": "0e39a14909de77f2205c2abdd93d265fc8ecb1bc"
   },
   "source": [
    "Vemos que neighbourhood_group es inútil en Amsterdam, ya que contiene cero objetos no nulos. A continuación, me deshago de esta variable, y muestro la cabecera del marco de datos con el que voy a trabajar."
   ]
  },
  {
   "cell_type": "code",
   "execution_count": null,
   "metadata": {
    "_kg_hide-input": true,
    "_uuid": "2210813d849e48ecd8575f746407f7b3147d71f8",
    "trusted": false
   },
   "outputs": [],
   "source": [
    "listings = listings.drop(columns=['neighbourhood_group'])\n",
    "listings.head()"
   ]
  },
  {
   "cell_type": "markdown",
   "metadata": {},
   "source": [
    "Qué pasa con host_response_rate ?"
   ]
  },
  {
   "cell_type": "code",
   "execution_count": null,
   "metadata": {},
   "outputs": [],
   "source": [
    "listings['host_response_rate'] = pd.to_numeric(listings['host_response_rate'].str.strip('%'))\n",
    "\n",
    "listings.head()"
   ]
  },
  {
   "cell_type": "markdown",
   "metadata": {
    "_uuid": "6fb9465d2a65556bb40aeb5ffe2b456e131e94b1"
   },
   "source": [
    "# 2. Exploración de datos\n",
    "## 2.1 Barrios\n",
    "El barrio «De Baarsjes» es el que cuenta con más listados, y en total ocho barrios tienen más de mil listados.\n"
   ]
  },
  {
   "cell_type": "code",
   "execution_count": null,
   "metadata": {
    "_kg_hide-input": true,
    "_uuid": "124338b07c53428af9697cb83ce59034b4629048",
    "trusted": false
   },
   "outputs": [],
   "source": [
    "# Datos\n",
    "feq = listings['neighbourhood'].value_counts().sort_values(ascending=False)\n",
    "\n",
    "# Configuración de Seaborn para un gráfico de barras horizontal\n",
    "plt.figure(figsize=(10, 8))\n",
    "ax = sns.barplot(\n",
    "    x=feq.values,  # Frecuencias (eje x)\n",
    "    y=feq.index,   # Barrios (eje y, porque es horizontal)\n",
    "    # Color de las barras\n",
    ")\n",
    "\n",
    "# Agregar valores a cada barra\n",
    "for index, value in enumerate(feq.values):\n",
    "    plt.text(\n",
    "        value + 1,  # Desplazar el texto ligeramente hacia la derecha\n",
    "        index,      # Posición en el eje y\n",
    "        str(value), # Convertir el valor en texto\n",
    "        va='center', ha='left', fontsize=10  # Alinear el texto\n",
    "    )\n",
    "\n",
    "# Títulos y etiquetas\n",
    "plt.title(\"Anuncios por barrio\", fontsize=20)\n",
    "plt.xlabel(\"Número de anuncios\", fontsize=12)\n",
    "plt.ylabel(\"Barrio\", fontsize=12)\n",
    "\n",
    "# Mostrar el gráfico\n",
    "plt.show()"
   ]
  },
  {
   "cell_type": "markdown",
   "metadata": {
    "_uuid": "d4dd7536f24b699268f815e676632d45f179f3d6"
   },
   "source": [
    "Abajo puede ver que la mayoría de los anuncios están en el centro de la ciudad. Este mapa es interactivo, y se puede hacer zoom en los grupos para encontrar finalmente las ubicaciones individuales de los listados."
   ]
  },
  {
   "cell_type": "code",
   "execution_count": null,
   "metadata": {
    "_kg_hide-input": true,
    "_uuid": "0903476d526bd4698085c97d15431385e8396f06",
    "trusted": false
   },
   "outputs": [],
   "source": [
    "lats2018 = listings['latitude'].tolist()\n",
    "lons2018 = listings['longitude'].tolist()\n",
    "locations = list(zip(lats2018, lons2018))\n",
    "\n",
    "map1 = folium.Map(location=[52.3680, 4.9036], zoom_start=11.5)   # Crea un mapa centrado en Ámsterdam(Esas son sus coordenadas) con nivel de zoom 11.5.\n",
    "\n",
    "FastMarkerCluster(data=locations).add_to(map1) # Crea un clúster de marcadores con las coordenadas y lo agrega al mapa.\n",
    "map1"
   ]
  },
  {
   "cell_type": "markdown",
   "metadata": {
    "_uuid": "c42f2cd8cb6926897c349234f939161a4b835253"
   },
   "source": [
    "\n",
    "### Tipos de habitación\n",
    "El tipo de habitación es muy importante en Ámsterdam, ya que esta ciudad tiene una norma según la cual las casas/apartamentos enteros solo pueden alquilarse a través de Airbnb durante un máximo de 60 días al año. A continuación, podemos ver que esta restricción se aplica a la mayoría de los listados."
   ]
  },
  {
   "cell_type": "code",
   "execution_count": null,
   "metadata": {
    "_kg_hide-input": true,
    "_uuid": "488e6087ae7a271108deb986f8df15010447220c",
    "trusted": false
   },
   "outputs": [],
   "source": [
    "# Obtener la frecuencia de cada tipo de habitación\n",
    "freq = listings['room_type'].value_counts().sort_values(ascending=False)\n",
    "\n",
    "# Crear el gráfico de barras horizontal\n",
    "plt.figure(figsize=(15, 3))  # Tamaño del gráfico\n",
    "sns.barplot(x=freq.values, y=freq.index, palette=\"Blues_r\")  # Gráfico con valores en x e índices en y\n",
    "plt.title(\"Distribución de tipos de habitación\", fontsize=16)  # Título\n",
    "plt.xlabel(\"Número de anuncios\", fontsize=12)  # Etiqueta eje X\n",
    "plt.ylabel(\"Tipo de habitación\", fontsize=12)  # Etiqueta eje Y\n",
    "plt.show()"
   ]
  },
  {
   "cell_type": "markdown",
   "metadata": {
    "_uuid": "6543cbc03fa3ffe54dd106bd9f13d046cb9b0a15"
   },
   "source": [
    "### Tipos de propiedad\n",
    "En el conjunto de datos, encontramos muchos tipos de propiedad diferentes."
   ]
  },
  {
   "cell_type": "code",
   "execution_count": null,
   "metadata": {
    "_kg_hide-input": true,
    "_uuid": "7774ddadafdc7dee304887ca68f56f00010d26a7",
    "trusted": false
   },
   "outputs": [],
   "source": [
    "listings['property_type'].unique()"
   ]
  },
  {
   "cell_type": "markdown",
   "metadata": {
    "_uuid": "fb0fdddbebbbc6cd9c2fad0c1b2eaf026885777e"
   },
   "source": [
    "Sin embargo, muchos de esos tipos de inmuebles tienen muy pocos anuncios en Ámsterdam. En la siguiente figura, sólo muestro los tipos de inmuebles con al menos 100 anuncios. Como podemos ver, la gran mayoría de las propiedades en Ámsterdam son apartamentos."
   ]
  },
  {
   "cell_type": "code",
   "execution_count": null,
   "metadata": {
    "_kg_hide-input": true,
    "_uuid": "6d049e9f76710ba8befdaa18e3de8eb5ef443a67",
    "trusted": false
   },
   "outputs": [],
   "source": [
    "prop = listings.groupby(['property_type','room_type']).room_type.count()\n",
    "prop = prop.unstack()\n",
    "prop['total'] = prop.iloc[:,0:3].sum(axis = 1)\n",
    "prop = prop.sort_values(by=['total'])\n",
    "prop = prop[prop['total']>=100]\n",
    "prop = prop.drop(columns=['total'])\n",
    "prop"
   ]
  },
  {
   "cell_type": "code",
   "execution_count": null,
   "metadata": {},
   "outputs": [],
   "source": [
    "prop_long = prop.reset_index().melt(id_vars='property_type', var_name='room_type', value_name='count').sort_values(by=['count'], ascending=False)\n",
    "prop_long"
   ]
  },
  {
   "cell_type": "code",
   "execution_count": null,
   "metadata": {},
   "outputs": [],
   "source": [
    "\n",
    "# Crear gráfico apilado\n",
    "plt.figure(figsize=(15, 8))\n",
    "sns.barplot(data=prop_long, x='count', y='property_type', hue='room_type', dodge=False)\n",
    "\n",
    "# Personalización del gráfico\n",
    "plt.title('Property types in Amsterdam', fontsize=18)\n",
    "plt.xlabel('Number of listings', fontsize=14)\n",
    "plt.ylabel(\"\")\n",
    "plt.legend(loc=4, fontsize=13)\n",
    "plt.xticks(fontsize=13)\n",
    "plt.yticks(fontsize=13)\n",
    "\n",
    "# Mostrar el gráfico\n",
    "plt.show()\n"
   ]
  },
  {
   "cell_type": "markdown",
   "metadata": {
    "_uuid": "ebfff2e5f6f054f741e0452a5d126887973b0f72"
   },
   "source": [
    "## 2.3 Alojamiento (número de personas)\n",
    "Como era de esperar, la mayoría de los anuncios son para 2 personas. Además, Airbnb utiliza un máximo de 16 huéspedes por anuncio."
   ]
  },
  {
   "cell_type": "code",
   "execution_count": null,
   "metadata": {
    "_kg_hide-input": true,
    "_uuid": "909d713e73b7ba39baf6e702438b14860f39ad61",
    "trusted": false
   },
   "outputs": [],
   "source": [
    "# Datos a graficar (suponiendo que 'listings' es tu DataFrame)\n",
    "feq = listings['accommodates'].value_counts().sort_index()\n",
    "\n",
    "# Convertir los datos a un DataFrame para usar con seaborn\n",
    "accommodates_df = feq.reset_index()\n",
    "accommodates_df.columns = ['Accommodates', 'Number of listings']\n",
    "\n",
    "# Crear el gráfico de barras\n",
    "plt.figure(figsize=(10, 8))\n",
    "sns.barplot(x='Accommodates', y='Number of listings', data=accommodates_df)\n",
    "# Personalización del gráfico\n",
    "plt.title(\"Accommodates (number of people)\", fontsize=20)\n",
    "plt.xlabel('Accommodates', fontsize=12)\n",
    "plt.ylabel('Number of listings', fontsize=12)\n",
    "\n",
    "# Mostrar el gráfico\n",
    "plt.show()\n"
   ]
  },
  {
   "cell_type": "markdown",
   "metadata": {
    "_uuid": "1f959eb73e87c79dbd75069747ad51a7a2f4bc20"
   },
   "source": [
    "Sin embargo, Ámsterdam tiene una restricción adicional. Debido a consideraciones de riesgo de incendio y también teniendo en cuenta posibles grupos ruidosos, a los propietarios sólo se les permite alquilar su propiedad a grupos con un máximo de 4 personas. Esto significa que los anuncios que indican que el número máximo de personas es superior a 4 están infringiendo esta norma."
   ]
  },
  {
   "cell_type": "markdown",
   "metadata": {
    "_uuid": "f2373ff911983aeaf6f2090974980b663188bb2e"
   },
   "source": [
    "# Consejos al ayuntamiento de Ámsterdam\n",
    "\n",
    "Es sabido que Airbnb causa problemas en Ámsterdam. Estos problemas se describen bien en este artículo: [Fed Up With Tourists, Amsterdam Gets Tough On Airbnb, Tourist Taxes And Too Much Partying](https://www.forbes.com/sites/ceciliarodriguez/2018/05/17/amsterdam-overwhelmed-by-tourists-gets-tough-on-airbnb-tourists-taxes-too-much-partying/#5c6c78892be5)\n",
    "\n",
    ">La coalición de partidos que forma el nuevo gobierno de la ciudad quiere seguir los ejemplos de Barcelona y Venecia, donde la avalancha de turismo descontrolado ha hecho la vida extremadamente desagradable a los residentes, obligando a los funcionarios a intentar controlar el número de visitantes y su comportamiento.\n",
    "\n",
    "Las normas adicionales que Ámsterdam tiene en vigor en comparación con las propias normas de Airbnb son:\n",
    "\n",
    "* El número máximo de huéspedes es de 4 (véase también la sección anterior).\n",
    "* El número máximo de alquileres a corto plazo es de 60 días por año natural. Esta norma sólo se aplica al alquiler de propiedades enteras, por lo que no se aplica al alquiler de habitaciones privadas. Esta norma ya la aplicaba Airbnb (tras 60 días de reservas, Airbnb cierra la disponibilidad del anuncio para el resto del año). Como se puede leer en el artículo, el número se reducirá a un máximo de 30 días al año.\n",
    "* Ámsterdam pretende prohibir Airbnb por completo en tres barrios: de Wallen (Barrio Rojo), Kinkerbuurt y Haarlemmerbuurt.\n",
    "* Para el alquiler de habitaciones privadas, también existe la restricción de que un propietario no puede alquilar habitaciones que acumulen más de 30 días al año.\n"
   ]
  },
  {
   "cell_type": "code",
   "execution_count": null,
   "metadata": {
    "_kg_hide-input": true,
    "_uuid": "c80cb7276d6c598a5f351f99e82a9a539559981d",
    "trusted": false
   },
   "outputs": [],
   "source": [
    "private = listings[listings['room_type'] == \"Private room\"]\n",
    "host_private = private.groupby(['host_id', 'host_name', 'street']).size().reset_index(name='private_rooms').sort_values(by=['private_rooms'], ascending=False)\n",
    "host_private.head()"
   ]
  },
  {
   "cell_type": "markdown",
   "metadata": {
    "_uuid": "736ff195c7b264b1e7d46a83f1687002836b32d2"
   },
   "source": [
    "Sin embargo, tenemos las coordenadas GPS de los anuncios. A mí me parece muy probable que todas las habitaciones privadas que ofrece el anfitrión Feliciano estén de hecho en el mismo edificio (sólo pequeñas variaciones de latitud/longitud). Aunque este anfitrión podría tener una licencia de hotel, sus anuncios me parecen sospechosos (¿cuál es el nombre del hotel?). Aconsejaría al ayuntamiento de Amsterdam que comprobara si en este caso no se infringe ninguna norma."
   ]
  },
  {
   "cell_type": "code",
   "execution_count": null,
   "metadata": {
    "_kg_hide-input": true,
    "_uuid": "6aafa2f20230d302b6cac9eb19cde0760b218a59",
    "trusted": false
   },
   "outputs": [],
   "source": [
    "feliciano = private[private['host_id']== 67005410]\n",
    "feliciano = feliciano[['name','host_id', 'host_name', 'latitude', 'longitude']]\n",
    "feliciano.index.name = \"listing_id\"\n",
    "feliciano"
   ]
  },
  {
   "cell_type": "markdown",
   "metadata": {
    "_uuid": "a92c602a815deaee79ceedf755a02e5c1a3b6bd6"
   },
   "source": [
    "## ¿Efectos indeseados de los anfitriones profesionales?\n",
    "Por el momento, Ámsterdam no cuenta con ninguna norma que impida las actividades de alojamiento profesional. Me imagino que tener la opción de subcontratar estas actividades conduce a un mayor número de listados. Por el momento, alrededor del 75% de los anfitriones sólo tienen un anuncio. Supongo que los anfitriones que sólo tienen un par de anuncios son probablemente los anfitriones de un par de amigos. Sin embargo, vemos que hay casos extremos. Creo que es poco probable que los anfitriones con más de 10 anuncios lo hagan sólo para sí mismos y para sus amigos y familiares."
   ]
  },
  {
   "cell_type": "code",
   "execution_count": null,
   "metadata": {
    "_kg_hide-input": true,
    "_uuid": "2f329bf5c6230e1fb4ec632f6e842edabbf1ef20",
    "trusted": false
   },
   "outputs": [],
   "source": [
    "freq = listings.groupby(['host_id']).size().reset_index(name='num_host_listings')\n",
    "host_prop = freq.groupby(['num_host_listings']).size().reset_index(name='count').transpose()\n",
    "host_prop.columns = host_prop.iloc[0]\n",
    "host_prop = host_prop.drop(host_prop.index[0])\n",
    "host_prop"
   ]
  },
  {
   "cell_type": "code",
   "execution_count": null,
   "metadata": {},
   "outputs": [],
   "source": [
    "\n",
    "\n",
    "# Asegurarse de que el DataFrame tiene las columnas correctas\n",
    "host_prop = host_prop.transpose().reset_index()\n",
    "host_prop.columns = ['num_host_listings', 'count']\n",
    "\n",
    "# Graficar con seaborn (gráfico de barras)\n",
    "plt.figure(figsize=(12, 6))\n",
    "sns.barplot(data=host_prop, x='num_host_listings', y='count', color='skyblue')\n",
    "\n",
    "# Títulos y etiquetas\n",
    "plt.title('Distribución del Número de Listados por Host', fontsize=16)\n",
    "plt.xlabel('Número de Listados por Host', fontsize=12)\n",
    "plt.ylabel('Frecuencia', fontsize=12)\n",
    "\n",
    "# Ajustar el tamaño de los valores del eje X y Y\n",
    "plt.xticks(rotation=45, ha='right')\n",
    "plt.tight_layout()\n",
    "\n",
    "# Mostrar el gráfico\n",
    "plt.show()\n"
   ]
  },
  {
   "cell_type": "markdown",
   "metadata": {
    "_uuid": "9072a31df3f919870a19ac926d93a63ce646532e"
   },
   "source": [
    "A continuación, muestro los hosts con más de 20 listados. Lamentablemente, el host_about no se ha extraído en su totalidad. Sin embargo, como este conjunto de datos es muy reciente, no me resultó difícil encontrar la descripción del anfitrión con más de 200 anuncios en airbnb.com. Como puede ver, este anfitrión es claramente un anfitrión profesional.\n",
    "\n",
    "Como probablemente sea difícil aplicar y controlar una medida que prohíba por completo las actividades de alojamiento profesional, aconsejaría al municipio de Ámsterdam que considerara la posibilidad de establecer un número máximo de anuncios por anfitrión. Si Ámsterdam lo fijara, por ejemplo, en 10 (y consiguiera implementarlo en los sistemas de Airbnb), sería mucho más difícil explotar el alojamiento en Airbnb como actividad profesional."
   ]
  },
  {
   "cell_type": "code",
   "execution_count": null,
   "metadata": {
    "_kg_hide-input": true,
    "_uuid": "d00c48a0c5c2e6a14ea2a4a9a6f6655279f745f0",
    "trusted": false
   },
   "outputs": [],
   "source": [
    "freq = listings.groupby(['host_id', 'host_name', 'host_about']).size().reset_index(name='num_host_listings')\n",
    "freq = freq.sort_values(by=['num_host_listings'], ascending=False)\n",
    "freq = freq[freq['num_host_listings'] >= 20]\n",
    "freq"
   ]
  },
  {
   "cell_type": "code",
   "execution_count": null,
   "metadata": {},
   "outputs": [],
   "source": [
    "# Extraer un host_about cualquiera (por ejemplo, el de Martijn)\n",
    "host_about_example = freq.loc[190, 'host_about']\n",
    "\n",
    "host_about_example = host_about_example.replace(\"\\r\\n\", \"\\n\")\n",
    "\n",
    "# Imprimir en formato Markdown\n",
    "print(f\"## Host About :\\n\\n{host_about_example}\")"
   ]
  },
  {
   "cell_type": "markdown",
   "metadata": {
    "_uuid": "71fcbade6df036d1980eb0a0fca17a1295093f25"
   },
   "source": [
    "# Consejos a los turistas\n",
    "##  Precio medio diario por barrio\n",
    "Para comparar «manzanas con manzanas» sólo he seleccionado el tipo de alojamiento más común, que es el alojamiento para 2 personas. Como era de esperar, el alojamiento en el centro de la ciudad es el más caro. "
   ]
  },
  {
   "cell_type": "code",
   "execution_count": null,
   "metadata": {
    "_kg_hide-input": true,
    "_uuid": "df979c045ffc32d02040f3c5c109f9fa067692a1",
    "trusted": false
   },
   "outputs": [],
   "source": [
    "# Filtrar el DataFrame para obtener solo aquellos con 'accommodates' igual a 2\n",
    "feq = listings[listings['accommodates'] == 2]\n",
    "\n",
    "# Calcular el precio promedio por barrio\n",
    "feq = feq.groupby('neighbourhood')['price'].mean().sort_values(ascending=True)\n",
    "\n",
    "# Crear el gráfico con seaborn\n",
    "sns.barplot(x=feq.values, y=feq.index,palette='viridis')\n",
    "\n",
    "# Agregar títulos y etiquetas\n",
    "plt.title(\"Average daily price for a 2-persons accommodation\", fontsize=20)\n",
    "plt.xlabel('Average daily price (Euro)', fontsize=12)\n",
    "plt.ylabel(\"\", fontsize=12)\n",
    "plt.yticks(fontsize=10)\n",
    "# Mostrar el gráfico\n",
    "plt.show()\n"
   ]
  },
  {
   "cell_type": "markdown",
   "metadata": {
    "_uuid": "bf92c4f4503fc16fcbed36f2801fbfb592323abe"
   },
   "source": [
    "A continuación encontrará los barrios en un mapa. Este mapa es **interactivo**. Al pasar el ratón por encima de los polígonos se muestra el nombre del barrio y el precio medio del alojamiento para 2 personas."
   ]
  },
  {
   "cell_type": "code",
   "execution_count": null,
   "metadata": {
    "_kg_hide-input": true,
    "_uuid": "68609a48d1594302f217e090095e07639c237e9a",
    "trusted": false
   },
   "outputs": [],
   "source": [
    "adam = gpd.read_file(\"input/neighbourhoods.geojson\")\n",
    "feq = pd.DataFrame([feq])\n",
    "feq = feq.transpose()\n",
    "adam = pd.merge(adam, feq, on='neighbourhood', how='left')\n",
    "adam.rename(columns={'price': 'average_price'}, inplace=True)\n",
    "adam.average_price = adam.average_price.round(decimals=0)\n",
    "\n",
    "map_dict = adam.set_index('neighbourhood')['average_price'].to_dict()\n",
    "color_scale = LinearColormap(['yellow','red'], vmin = min(map_dict.values()), vmax = max(map_dict.values()))\n",
    "\n",
    "def get_color(feature):\n",
    "    value = map_dict.get(feature['properties']['neighbourhood'])\n",
    "    return color_scale(value)\n",
    "\n",
    "map3 = folium.Map(location=[52.3680, 4.9036], zoom_start=11)\n",
    "folium.GeoJson(data=adam,\n",
    "               name='Amsterdam',\n",
    "               tooltip=folium.features.GeoJsonTooltip(fields=['neighbourhood', 'average_price'],\n",
    "                                                      labels=True,\n",
    "                                                      sticky=False),\n",
    "               style_function= lambda feature: {\n",
    "                   'fillColor': get_color(feature),\n",
    "                   'color': 'black',\n",
    "                   'weight': 1,\n",
    "                   'dashArray': '5, 5',\n",
    "                   'fillOpacity':0.5\n",
    "                   },\n",
    "               highlight_function=lambda feature: {'weight':3, 'fillColor': get_color(feature), 'fillOpacity': 0.8}).add_to(map3)\n",
    "map3"
   ]
  },
  {
   "cell_type": "markdown",
   "metadata": {
    "_uuid": "8ca78db22928b29e5250a1673a162cdd752959c7"
   },
   "source": [
    "## Seguridad vecinal\n",
    "Como no hay datos sobre la seguridad de los barrios en los archivos de Airbnb, los he buscado en Internet y he encontrado el siguiente mapa. Como se puede ver, actualmente las zonas occidentales de la ciudad son las más peligrosas.\n",
    "\n",
    "Nota personal: Al parecer, «de Bijlmer» (las zonas del sudeste) son razonablemente seguras hoy en día. Sin embargo, hace años conocí a alguien que vivía allí como estudiante. En aquella época no era un buen barrio, y me advirtieron que no me metiera debajo de los balcones porque la gente podía tirar basura y muebles viejos. Recibir un viejo sofá en la cabeza no sonaba como la cosa más agradable del mundo ;-).\n",
    "\n",
    "<center><img src=«https://i.imgur.com/7cso9GD.png» style=«width: 800px;»/></center>"
   ]
  },
  {
   "cell_type": "markdown",
   "metadata": {
    "_uuid": "07dbd0396cdc3c932c15c0f969a167755a8ef2f7"
   },
   "source": [
    "## Puntuación de las opiniones sobre la ubicación y puntuación de la ubicación en función del precio\n",
    "En esta sección, agrupo las puntuaciones de las opiniones sobre la ubicación por barrios (sólo anuncios con al menos 10 opiniones). Aunque espero que la distancia al centro de la ciudad sea un factor importante, estas puntuaciones también deberían tener en cuenta otros aspectos. Otros factores pueden ser:\n",
    "\n",
    "* La seguridad de una ubicación (como se muestra en la sección anterior).\n",
    "* El ruido. Si un anuncio está situado en el centro, pero rodeado de bares ruidosos, eso debería costar puntos en la puntuación de la valoración de la ubicación.\n",
    "* Si un anuncio está situado fuera del centro de la ciudad pero bien comunicado por transporte público, debería obtener puntos extra por ello.\n",
    "* Instalaciones cerca del anuncio. ¿Hay supermercados, bares y restaurantes cerca?\n",
    "* Algunas personas pueden estar buscando aparcamiento gratuito si vienen en coche (el aparcamiento es muy caro en Amsterdam en general).\n",
    "\n",
    "A continuación vemos que los barrios céntricos, que por lo general también eran los más caros, también suelen tener una puntuación más alta en la valoración de la ubicación.  Si calculara la distancia al centro de la ciudad de cada anuncio, esperaría ver correlaciones bastante fuertes entre esta distancia y el precio y la puntuación de la ubicación.\n",
    "\n",
    "Al mirar la puntuación media de las opiniones, me sorprende ver que la media es superior a 8/10 en todos los barrios. Sé que Ámsterdam es una ciudad pequeña (mucho más pequeña de lo que mucha gente piensa). Por lo tanto, no se tarda mucho tiempo en llegar al centro de la ciudad desde cualquier lugar, lo que podría"
   ]
  },
  {
   "cell_type": "code",
   "execution_count": null,
   "metadata": {
    "_kg_hide-input": true,
    "_uuid": "56d7c1b13f68a334441a3a504f80165acf42ed55",
    "trusted": false
   },
   "outputs": [],
   "source": [
    "\n",
    "# Configuración de la figura y tamaños de las etiquetas\n",
    "fig = plt.figure(figsize=(20, 10))\n",
    "plt.rc('xtick', labelsize=16)\n",
    "plt.rc('ytick', labelsize=20)\n",
    "\n",
    "# Primer gráfico: Promedio de review_scores_location para al menos 10 reseñas\n",
    "ax1 = fig.add_subplot(121)\n",
    "feq = listings[listings['number_of_reviews'] >= 10]\n",
    "feq1 = feq.groupby('neighbourhood')['review_scores_location'].mean().sort_values(ascending=True)\n",
    "\n",
    "# Usamos seaborn.barplot para crear el gráfico horizontal\n",
    "sns.barplot(x=feq1.values, y=feq1.index, ax=ax1, palette=\"Blues_d\")\n",
    "\n",
    "ax1.set_title(\"Average review score location (at least 10 reviews)\", fontsize=20)\n",
    "ax1.set_xlabel('Score (scale 1-10)', fontsize=20)\n",
    "ax1.set_ylabel(\"\")\n",
    "\n",
    "# Segundo gráfico: Promedio de precio para acomodar 2 personas\n",
    "ax2 = fig.add_subplot(122)\n",
    "feq = listings[listings['accommodates'] == 2]\n",
    "feq2 = feq.groupby('neighbourhood')['price'].mean().sort_values(ascending=True)\n",
    "\n",
    "# Usamos seaborn.barplot para crear el gráfico horizontal\n",
    "sns.barplot(x=feq2.values, y=feq2.index, ax=ax2, palette=\"Blues_d\")\n",
    "\n",
    "ax2.set_title(\"Average daily price for a 2-persons accommodation\", fontsize=20)\n",
    "ax2.set_xlabel('Average daily price (Euro)', fontsize=20)\n",
    "ax2.set_ylabel(\"\")\n",
    "\n",
    "# Ajustar el diseño\n",
    "plt.tight_layout()\n",
    "\n",
    "# Mostrar el gráfico\n",
    "plt.show()\n"
   ]
  },
  {
   "cell_type": "markdown",
   "metadata": {
    "_uuid": "30710f522127103fbbae58edae521ea8238239a3"
   },
   "source": [
    "## Cómo utilizar las puntuaciones de las opiniones\n",
    "Además de las opiniones escritas, los huéspedes pueden enviar una puntuación general por estrellas y un conjunto de puntuaciones por estrellas de categorías. Los huéspedes pueden dar puntuaciones sobre:\n",
    "\n",
    "* Experiencia general. ¿Cuál fue su experiencia general?\n",
    "* Limpieza. ¿Sintió que su espacio estaba limpio y ordenado?\n",
    "* Precisión. ¿Hasta qué punto la página del anuncio representaba correctamente su espacio?\n",
    "* Valor. ¿Considera que su anuncio ofrece una buena relación calidad-precio?\n",
    "* Comunicación. ¿Cómo de bien te comunicaste con tu anfitrión antes y durante su estancia?\n",
    "* Llegada. ¿Cómo fue el check-in?\n",
    "* Ubicación. ¿Qué le pareció el barrio?\n",
    "\n",
    "A continuación puede ver la distribución de las puntuaciones de todas esas categorías. Lo que me llamó la atención de inmediato es que las puntuaciones parecen muy altas en todos los ámbitos. Una rápida búsqueda en Internet me dijo que esto parece común en Airbnb. Se explica bien en este artículo: [El 95% de los alojamientos de Airbnb tienen una puntuación de 4,5 a 5 estrellas](https://mashable.com/2015/02/25/airbnb-reviews-above-average/?europe=true#1YLfzOC34sqd).\n",
    "\n",
    "Después de haber visto las distribuciones de las puntuaciones, personalmente consideraría que cualquier puntuación de 8 o inferior no es una buena puntuación. Si quisiera utilizar cualquiera de estas puntuaciones en una búsqueda de alojamiento, creo que la de «Valor» parece la más útil. En primer lugar, siempre me gusta obtener una buena relación calidad-precio ;-). Sin embargo, el número de «10 medias» es razonablemente pequeño, lo que hace que el indicador sea un poco más «distinguible» que otros indicadores."
   ]
  },
  {
   "cell_type": "code",
   "execution_count": null,
   "metadata": {
    "_kg_hide-input": true,
    "_uuid": "a06f6a221bfe1d02a9868a521f2ea05d4bc0e8bf",
    "trusted": false
   },
   "outputs": [],
   "source": [
    "# Filtramos el dataframe\n",
    "listings10 = listings[listings['number_of_reviews'] >= 10]\n",
    "\n",
    "# Configuración de la figura y tamaños de las etiquetas\n",
    "fig = plt.figure(figsize=(20, 15))\n",
    "plt.rc('xtick', labelsize=16)\n",
    "plt.rc('ytick', labelsize=16)\n",
    "\n",
    "# Primer gráfico: Location\n",
    "ax1 = fig.add_subplot(321)\n",
    "feq = listings10['review_scores_location'].value_counts().sort_index()\n",
    "sns.barplot(x=feq.index, y=feq.values, ax=ax1, )\n",
    "ax1.set_title(\"Location\", fontsize=24)\n",
    "ax1.set_ylabel('Number of listings', fontsize=14)\n",
    "ax1.set_xlabel('Average review score', fontsize=14)\n",
    "\n",
    "# Segundo gráfico: Cleanliness\n",
    "ax2 = fig.add_subplot(322)\n",
    "feq = listings10['review_scores_cleanliness'].value_counts().sort_index()\n",
    "sns.barplot(x=feq.index, y=feq.values, ax=ax2, )\n",
    "ax2.set_title(\"Cleanliness\", fontsize=24)\n",
    "ax2.set_ylabel('Number of listings', fontsize=14)\n",
    "ax2.set_xlabel('Average review score', fontsize=14)\n",
    "\n",
    "# Tercer gráfico: Value\n",
    "ax3 = fig.add_subplot(323)\n",
    "feq = listings10['review_scores_value'].value_counts().sort_index()\n",
    "sns.barplot(x=feq.index, y=feq.values, ax=ax3, )\n",
    "ax3.set_title(\"Value\", fontsize=24)\n",
    "ax3.set_ylabel('Number of listings', fontsize=14)\n",
    "ax3.set_xlabel('Average review score', fontsize=14)\n",
    "\n",
    "# Cuarto gráfico: Communication\n",
    "ax4 = fig.add_subplot(324)\n",
    "feq = listings10['review_scores_communication'].value_counts().sort_index()\n",
    "sns.barplot(x=feq.index, y=feq.values, ax=ax4, )\n",
    "ax4.set_title(\"Communication\", fontsize=24)\n",
    "ax4.set_ylabel('Number of listings', fontsize=14)\n",
    "ax4.set_xlabel('Average review score', fontsize=14)\n",
    "\n",
    "# Quinto gráfico: Arrival\n",
    "ax5 = fig.add_subplot(325)\n",
    "feq = listings10['review_scores_checkin'].value_counts().sort_index()\n",
    "sns.barplot(x=feq.index, y=feq.values, ax=ax5, )\n",
    "ax5.set_title(\"Arrival\", fontsize=24)\n",
    "ax5.set_ylabel('Number of listings', fontsize=14)\n",
    "ax5.set_xlabel('Average review score', fontsize=14)\n",
    "\n",
    "# Sexto gráfico: Accuracy\n",
    "ax6 = fig.add_subplot(326)\n",
    "feq = listings10['review_scores_accuracy'].value_counts().sort_index()\n",
    "sns.barplot(x=feq.index, y=feq.values, ax=ax6, )\n",
    "ax6.set_title(\"Accuracy\", fontsize=24)\n",
    "ax6.set_ylabel('Number of listings', fontsize=14)\n",
    "ax6.set_xlabel('Average review score', fontsize=14)\n",
    "\n",
    "# Ajustar el diseño y mostrar el gráfico\n",
    "plt.tight_layout()\n",
    "plt.show()\n"
   ]
  },
  {
   "cell_type": "markdown",
   "metadata": {
    "_uuid": "4670b85656850659a35e6a47d46228658c22f37e"
   },
   "source": [
    "## Encontrar un buen anfitrión\n",
    "En Airbnb puedes obtener el estatus de «Superanfitrión». De Airbnb:\n",
    "* Como Superanfitrión, tendrás más visibilidad, potencial de ganancias y recompensas exclusivas. Es nuestra forma de agradecerle su extraordinaria hospitalidad.\n",
    "* Cómo convertirse en Superanfitrión: Cada 3 meses, comprobamos si cumple los siguientes criterios. Si los cumples, ganarás o mantendrás tu estatus de Superanfitrión.\n",
    "    * Los Superanfitriones tienen una puntuación media general de 4,8 o superior basada en las opiniones de al menos el 50% de sus huéspedes de Airbnb en el último año. \n",
    "    * Los Superanfitriones han alojado al menos 10 estancias en el último año o, si alojan reservas de larga duración, 100 noches durante al menos 3 estancias. \n",
    "    * Los Superanfitriones no han tenido cancelaciones en el último año, a no ser que haya habido circunstancias atenuantes.\n",
    "    * Los superanfitriones responden al 90% de los mensajes nuevos en un plazo de 24 horas.\n",
    "\n",
    "Abajo, podemos ver que sólo una pequeña parte de los listados en Amsterdam tienen un anfitrión que es Superanfitrión.7"
   ]
  },
  {
   "cell_type": "code",
   "execution_count": null,
   "metadata": {
    "_kg_hide-input": true,
    "_uuid": "1d27459b5420097bcc8b275784820627710ddedd",
    "trusted": false
   },
   "outputs": [],
   "source": [
    "# Reemplazamos los valores de 'host_is_superhost' para que tengan formato True/False\n",
    "listings.host_is_superhost = listings.host_is_superhost.replace({\"t\": \"True\", \"f\": \"False\"})\n",
    "\n",
    "# Contamos la frecuencia de los valores en 'host_is_superhost'\n",
    "feq = listings['host_is_superhost'].value_counts()\n",
    "\n",
    "# Creamos el gráfico de barras con seaborn\n",
    "plt.figure(figsize=(10, 8))\n",
    "sns.barplot(x=feq.index, y=feq.values,)\n",
    "\n",
    "# Títulos y etiquetas\n",
    "plt.title(\"Number of listings with Superhost\", fontsize=20)\n",
    "plt.ylabel('Number of listings', fontsize=12)\n",
    "plt.xlabel('Superhost status', fontsize=12)\n",
    "\n",
    "# Mostramos el gráfico\n",
    "plt.show()\n"
   ]
  },
  {
   "cell_type": "markdown",
   "metadata": {
    "_uuid": "dfa7e08c6c7a3705c46ff1dc717b38a83b41819f"
   },
   "source": [
    "Si tuviera que reservar alojamiento, no buscaría necesariamente un superalojamiento. En realidad, tendría miedo de pagar demasiado, ya que es probable que los superanfitriones aumenten sus precios. Sin embargo, tampoco querría un anfitrión que responda mal o cancele mucho.\n",
    "\n",
    "Como podemos ver, más de 5.000 de los 20.000 listados tienen al menos 10 opiniones y responden al menos al 90% de los mensajes nuevos. Yo consideraría a esos anfitriones «probados» como buenos respondedores (lo que no significa que un anuncio con menos de 10 valoraciones no pueda tener anfitriones que respondan bien; simplemente no está probado todavía). Además, hay muy pocos anuncios en los que los anfitriones no respondan a los nuevos mensajes en un plazo de 24 horas."
   ]
  },
  {
   "cell_type": "code",
   "execution_count": null,
   "metadata": {
    "_kg_hide-input": true,
    "_uuid": "32cceca2d9f67d3e827d013104963093d00bd4f4",
    "trusted": false
   },
   "outputs": [],
   "source": [
    "# Create figure and set axis tick sizes\n",
    "fig = plt.figure(figsize=(20, 10))\n",
    "plt.rc('xtick', labelsize=16)\n",
    "plt.rc('ytick', labelsize=20)\n",
    "\n",
    "# Left subplot for histogram of response rate\n",
    "ax1 = fig.add_subplot(121)\n",
    "feq1 = listings10['host_response_rate'].dropna()\n",
    "sns.histplot(feq1, kde=True, bins=20, ax=ax1)\n",
    "ax1.set_title(\"Response rate (at least 10 reviews)\", fontsize=20)\n",
    "ax1.set_xlabel(\"Percent\", fontsize=20)\n",
    "ax1.set_ylabel(\"Number of listings\", fontsize=16)\n",
    "\n",
    "# Right subplot for bar plot of response time\n",
    "ax2 = fig.add_subplot(122)\n",
    "feq2 = listings10['host_response_time'].value_counts()\n",
    "sns.barplot(x=feq2.index, y=feq2.values,  ax=ax2)\n",
    "ax2.set_title(\"Response time (at least 10 reviews)\", fontsize=20)\n",
    "ax2.set_xlabel(\"Response Time\", fontsize=20)\n",
    "ax2.set_ylabel(\"Number of listings\", fontsize=16)\n",
    "\n",
    "# Adjust layout and show plot\n",
    "plt.tight_layout()\n",
    "plt.show()\n"
   ]
  },
  {
   "cell_type": "markdown",
   "metadata": {},
   "source": [
    "## Disponibilidad en el tiempo\n",
    "El archivo de calendario contiene 365 registros para cada anuncio, lo que significa que para cada anuncio se especifica el precio y la disponibilidad por fecha con 365 días de antelación."
   ]
  },
  {
   "cell_type": "code",
   "execution_count": null,
   "metadata": {},
   "outputs": [],
   "source": [
    "calendar"
   ]
  },
  {
   "cell_type": "code",
   "execution_count": 82,
   "metadata": {
    "_kg_hide-input": true,
    "trusted": false
   },
   "outputs": [],
   "source": [
    "calendar.price = calendar.price.str.replace(\",\",\"\")\n",
    "calendar['price'] = pd.to_numeric(calendar['price'].str.strip('$'))\n",
    "calendar = calendar[calendar.date < '2019-12-05']"
   ]
  },
  {
   "cell_type": "code",
   "execution_count": null,
   "metadata": {
    "trusted": false
   },
   "outputs": [],
   "source": [
    "print(calendar.shape)"
   ]
  },
  {
   "cell_type": "markdown",
   "metadata": {},
   "source": [
    "A continuación se muestra una muestra de los datos del calendario. Importante: si la disponibilidad es FALSA, significa que o bien el propietario no desea alquilar su propiedad en esa fecha concreta, o bien el anuncio ya ha sido reservado para esa fecha. Como quiero volver a comparar los precios en la siguiente sección, estoy fusionando la variable «accomodates» con el calendario."
   ]
  },
  {
   "cell_type": "code",
   "execution_count": null,
   "metadata": {
    "_kg_hide-input": true,
    "trusted": false
   },
   "outputs": [],
   "source": [
    "listings.index.name = \"listing_id\"\n",
    "calendar = pd.merge(calendar, listings[['accommodates']], on = \"listing_id\", how = \"left\")\n",
    "calendar.sample(15)"
   ]
  },
  {
   "cell_type": "markdown",
   "metadata": {},
   "source": [
    "A continuación, vemos que hasta tres meses antes suele haber más alojamientos disponibles que más adelante. Esto podría deberse a que los anfitriones actualizan más activamente sus calendarios en este periodo de tiempo. Este gráfico es **interactivo**, y al pasar el ratón por encima de los puntos aparecerá un tooltip con el «número de alojamientos disponibles» y el «día de la semana» por fecha."
   ]
  },
  {
   "cell_type": "code",
   "execution_count": null,
   "metadata": {
    "_kg_hide-input": true,
    "trusted": false
   },
   "outputs": [],
   "source": [
    "# Assuming sum_available is already prepared as per your code\n",
    "# You would have this DataFrame already populated from previous steps:\n",
    "sum_available = calendar[calendar.available == \"t\"].groupby(['date']).size().to_frame(name='available').reset_index()\n",
    "sum_available"
   ]
  },
  {
   "cell_type": "code",
   "execution_count": null,
   "metadata": {},
   "outputs": [],
   "source": [
    "sum_available['weekday'] = sum_available['date'].dt.day_name()\n",
    "sum_available['month_day'] = sum_available['date'].dt.day\n",
    "sum_available['month'] = sum_available['date'].dt.month\n",
    "sum_available['week']= sum_available['date'].dt.isocalendar().week\n",
    "sum_available.reset_index(inplace=True,drop=True)\n",
    "sum_available"
   ]
  },
  {
   "cell_type": "code",
   "execution_count": null,
   "metadata": {},
   "outputs": [],
   "source": [
    "# Plotting using Seaborn\n",
    "plt.figure(figsize=(14, 8))\n",
    "sns.lineplot(data=sum_available, x='date', y='available', marker='o')\n",
    "\n",
    "# Adding titles and labels\n",
    "plt.title('Number of listings available by date', fontsize=20)\n",
    "plt.xlabel('Date', fontsize=14)\n",
    "plt.ylabel('Number of listings', fontsize=14)\n",
    "plt.xticks(rotation=45)\n",
    "\n",
    "plt.tight_layout()\n",
    "plt.show()"
   ]
  },
  {
   "cell_type": "code",
   "execution_count": null,
   "metadata": {},
   "outputs": [],
   "source": [
    "# Asegúrate de que la columna 'date' es de tipo datetime\n",
    "sum_available['date'] = pd.to_datetime(sum_available['date'])\n",
    "\n",
    "# Crear subgráficos (4 filas y 1 columna)\n",
    "fig, axes = plt.subplots(4, 1, figsize=(10, 40))\n",
    "\n",
    "# Graficar la columna 'weekday' (Día de la semana)\n",
    "sns.barplot(data=sum_available, x='weekday',y='available', ax=axes[0], palette='Set2')\n",
    "axes[0].set_title('Día de la Semana')\n",
    "axes[0].tick_params(axis='x', rotation=45,labelsize=10)\n",
    "axes[0].tick_params(axis='y', labelsize=10)  # Reducir tamaño de las etiquetas del eje X\n",
    "\n",
    "# Graficar la columna 'month_day' (Día del mes)\n",
    "sns.barplot(data=sum_available, x='month_day',y='available', ax=axes[1], palette='Pastel1')\n",
    "axes[1].set_title('Día del Mes')\n",
    "axes[1].tick_params(axis='x', rotation=45,labelsize=10)\n",
    "axes[1].tick_params(axis='y', labelsize=10)  # Reducir tamaño de las etiquetas del eje X\n",
    "\n",
    "# Graficar la columna 'month' (Mes)\n",
    "sns.barplot(data=sum_available, x='month',y='available', ax=axes[2], palette='Blues')\n",
    "axes[2].set_title('Mes')\n",
    "axes[2].tick_params(axis='x', rotation=45,labelsize=10)\n",
    "axes[2].tick_params(axis='y', labelsize=10)  # Reducir tamaño de las etiquetas del eje X\n",
    "\n",
    "# Graficar la columna 'week' (Semana del año)\n",
    "sns.barplot(data=sum_available, x='week',y='available', ax=axes[3], palette='Set2')\n",
    "axes[3].set_title('Semana del Año')\n",
    "axes[3].tick_params(axis='x', rotation=45,labelsize=10)\n",
    "axes[3].tick_params(axis='y', labelsize=10)  # Reducir tamaño de las etiquetas del eje X\n",
    "\n",
    "# Ajuste del gráfico\n",
    "plt.tight_layout()\n",
    "plt.show()\n",
    "\n"
   ]
  },
  {
   "cell_type": "markdown",
   "metadata": {},
   "source": [
    "## Precio medio por fecha\n",
    "A continuación, puede ver el precio medio de todos los alojamientos para 2 personas marcados como disponibles por fecha. El precio medio máximo de 240 euros es el 31 de diciembre, y el patrón cíclico se debe a los precios más altos de los fines de semana. Sin embargo, sospecho que los precios para fechas más lejanas en el tiempo en su mayoría no se actualizan todavía y son probablemente precios por defecto. Esto puede dar lugar a que el anfitrión no acepte una reserva si se da cuenta de que alguien está intentando reservar algo en una fecha que debería ser más cara de lo habitual. Este gráfico es **interactivo**, y al pasar el ratón por encima de los puntos aparecerá un tooltip con el precio medio y el día de la semana por fecha."
   ]
  },
  {
   "cell_type": "code",
   "execution_count": null,
   "metadata": {
    "_kg_hide-input": true,
    "trusted": false
   },
   "outputs": [],
   "source": [
    "# Filter the dataframe to only include available accommodations for 2 persons\n",
    "calendar_filtered = calendar[(calendar.available == \"t\") & (calendar.accommodates == 2)]\n",
    "\n",
    "# Select only the numeric columns for aggregation\n",
    "numeric_columns = calendar_filtered.select_dtypes(include=[np.number]).columns\n",
    "\n",
    "# Perform the groupby and mean calculation on numeric columns\n",
    "average_price = calendar_filtered.groupby(['date'])[numeric_columns].mean().reset_index()\n",
    "\n",
    "# Convert 'date' to day of the week\n",
    "average_price['weekday'] = average_price['date'].dt.day_name()\n",
    "\n",
    "# Set 'date' as the index\n",
    "average_price = average_price.set_index('date')\n",
    "\n",
    "plt.figure(figsize=(10, 6))\n",
    "sns.lineplot(data=average_price, x=average_price.index, y='price')\n",
    "plt.title('Average Price of Available 2-Person Accommodations by Date')\n",
    "plt.xlabel('Date')\n",
    "plt.ylabel('Price')\n",
    "plt.xticks(rotation=45)\n",
    "plt.show()\n"
   ]
  },
  {
   "cell_type": "markdown",
   "metadata": {},
   "source": [
    "## Extracción de texto de los comentarios de la Revisión\n"
   ]
  },
  {
   "cell_type": "markdown",
   "metadata": {},
   "source": [
    "No creo que los resultados de la minería de texto de los comentarios de revisión sean útiles como consejos específicos para los turistas. Por lo tanto, he creado una sección aparte para ello. ¿Por qué sigo analizando los comentarios? Simplemente porque puedo, y quiero aprender minería de texto con Python de todos modos ;-).\n",
    "\n",
    "El archivo «reviews» resultó no ser muy interesante, ya que sólo contiene las fechas de las opiniones de cada anuncio, lo que significa que sólo sirve para contar el número de opiniones. El archivo «reviews_details» contiene la misma información (y el mismo número de registros), con 4 columnas adicionales. Además, he fusionado host_id y host_names del anuncio con el archivo reviews_details."
   ]
  },
  {
   "cell_type": "code",
   "execution_count": null,
   "metadata": {
    "trusted": false
   },
   "outputs": [],
   "source": [
    "reviews_details.shape"
   ]
  },
  {
   "cell_type": "code",
   "execution_count": null,
   "metadata": {
    "_kg_hide-input": true,
    "trusted": false
   },
   "outputs": [],
   "source": [
    "reviews_details = pd.merge(reviews_details, listings[['host_id', 'host_name', 'name']], on = \"listing_id\", how = \"left\")\n",
    "reviews_details = reviews_details.set_index('id')\n",
    "reviews_details = reviews_details[['listing_id', 'name', 'host_id', 'host_name', 'date', 'reviewer_id', 'reviewer_name', 'comments']]\n",
    "reviews_details.head()"
   ]
  },
  {
   "cell_type": "markdown",
   "metadata": {},
   "source": [
    "A continuación, encontrarás los 5 anfitriones con más opiniones. Es interesante volver a ver los nombres de los anfitriones Martijn y Feliciano, de los que ya se ha hablado antes ;-)."
   ]
  },
  {
   "cell_type": "code",
   "execution_count": null,
   "metadata": {
    "_kg_hide-input": true,
    "trusted": false
   },
   "outputs": [],
   "source": [
    "host_reviews = reviews_details.groupby(['host_id', 'host_name']).size().sort_values(ascending=False).to_frame(name = \"number_of_reviews\")\n",
    "host_reviews.head()"
   ]
  },
  {
   "cell_type": "code",
   "execution_count": null,
   "metadata": {
    "trusted": false
   },
   "outputs": [],
   "source": [
    "reviews_details.comments.head()"
   ]
  },
  {
   "cell_type": "code",
   "execution_count": null,
   "metadata": {
    "trusted": false
   },
   "outputs": [],
   "source": [
    "reviews_details.comments.values[2] #print comment with numbers and windows line break"
   ]
  },
  {
   "cell_type": "markdown",
   "metadata": {},
   "source": [
    "A continuación hago un preprocesado básico."
   ]
  },
  {
   "cell_type": "code",
   "execution_count": null,
   "metadata": {
    "trusted": false
   },
   "outputs": [],
   "source": [
    "\n",
    "reviews_details = reviews_details[reviews_details['comments'].notnull()]\n",
    "\n",
    "#remove numbers\n",
    "reviews_details['comments'] = reviews_details['comments'].str.replace('\\d+', '') \n",
    "#all to lowercase\n",
    "reviews_details['comments'] = reviews_details['comments'].str.lower()\n",
    "#remove windows new line\n",
    "reviews_details['comments'] = reviews_details['comments'].str.replace('\\r\\n', \"\")\n",
    "#remove stopwords (from nltk library)\n",
    "stop_english = stopwords.words(\"english\")\n",
    "reviews_details['comments'] = reviews_details['comments'].apply(lambda x: \" \".join([i for i in x.split() \n",
    "                                                      if i not in (stop_english)]))\n",
    "# remove punctuation\n",
    "reviews_details['comments'] = reviews_details['comments'].str.replace('[^\\w\\s]',\" \")\n",
    "# replace x spaces by one space\n",
    "reviews_details['comments'] = reviews_details['comments'].str.replace('\\s+', ' ')\n",
    "\n",
    "reviews_details.comments.values[2] #print same comments again"
   ]
  },
  {
   "cell_type": "markdown",
   "metadata": {},
   "source": [
    "In addition to removing the stopwords, I also wanted to remove the host names. However the list of host names contains over 5,000 words, and removing those takes a long time. Therefore, I am not removing them yet at this point."
   ]
  },
  {
   "cell_type": "code",
   "execution_count": null,
   "metadata": {
    "trusted": false
   },
   "outputs": [],
   "source": [
    "host_names = reviews_details[['host_name']].drop_duplicates()\n",
    "host_names = host_names.host_name.str.lower().tolist()\n",
    "len(host_names)"
   ]
  },
  {
   "cell_type": "markdown",
   "metadata": {},
   "source": [
    "Below you can find my first attempt to find the most used words using the CountVectorizer() function of sklearn."
   ]
  },
  {
   "cell_type": "code",
   "execution_count": null,
   "metadata": {
    "trusted": false
   },
   "outputs": [],
   "source": [
    "\n",
    "texts = reviews_details.comments.tolist()\n",
    "\n",
    "vec = CountVectorizer().fit(texts)\n",
    "bag_of_words = vec.transform(texts)\n",
    "sum_words = bag_of_words.sum(axis=0)\n",
    "words_freq = [(word, sum_words[0, idx]) for word, idx in vec.vocabulary_.items()]\n",
    "\n",
    "cvec_df = pd.DataFrame.from_records(words_freq, columns= ['words', 'counts']).sort_values(by=\"counts\", ascending=False)\n",
    "cvec_df.head(10)"
   ]
  },
  {
   "cell_type": "code",
   "execution_count": null,
   "metadata": {
    "trusted": false
   },
   "outputs": [],
   "source": [
    "\n",
    "cvec_dict = dict(zip(cvec_df.words, cvec_df.counts))\n",
    "\n",
    "wordcloud = WordCloud(width=800, height=400)\n",
    "wordcloud.generate_from_frequencies(frequencies=cvec_dict)\n",
    "plt.figure( figsize=(20,10) )\n",
    "plt.imshow(wordcloud, interpolation=\"bilinear\")\n",
    "plt.axis(\"off\")\n",
    "plt.show()"
   ]
  },
  {
   "cell_type": "code",
   "execution_count": null,
   "metadata": {},
   "outputs": [],
   "source": []
  },
  {
   "cell_type": "markdown",
   "metadata": {},
   "source": [
    "## Análisis inferencial"
   ]
  },
  {
   "cell_type": "markdown",
   "metadata": {},
   "source": [
    "- Hipótesis nula (H₀): No hay relación entre el tipo de propiedad y si el anfitrión es un superanfitrión.\n",
    "- Hipótesis alternativa (H₁): Hay una relación significativa entre el tipo de propiedad y si el anfitrión es un superanfitrión."
   ]
  },
  {
   "cell_type": "code",
   "execution_count": null,
   "metadata": {},
   "outputs": [],
   "source": [
    "\n",
    "\n",
    "# Crea una tabla de contingencia entre 'property_type' y 'host_is_superhost'\n",
    "contingency_table = pd.crosstab(listings['property_type'], listings['host_is_superhost'])\n",
    "\n",
    "# Realiza la prueba de Chi-cuadrado\n",
    "chi2_stat, p_val, dof, expected = chi2_contingency(contingency_table)\n",
    "\n",
    "# Definición de hipótesis\n",
    "print(\"Hipótesis:\")\n",
    "print(\"H₀: No hay relación entre el tipo de propiedad y si el anfitrión es un superanfitrión (son independientes).\")\n",
    "print(\"H₁: Hay una relación entre el tipo de propiedad y si el anfitrión es un superanfitrión (no son independientes).\")\n",
    "\n",
    "# Resultados\n",
    "print(f\"\\nValor p: {p_val}\")\n",
    "print(f\"Estadístico Chi-cuadrado: {chi2_stat}\")\n",
    "\n",
    "# Interpretación del valor p\n",
    "alpha = 0.05  # Nivel de significancia\n",
    "\n",
    "if p_val < alpha:\n",
    "    print(\"\\nSe rechaza la hipótesis nula (H₀). Hay evidencia suficiente para afirmar que hay una relación entre el tipo de propiedad y si el anfitrión es un superanfitrión.\")\n",
    "else:\n",
    "    print(\"\\nNo se rechaza la hipótesis nula (H₀). No hay suficiente evidencia para afirmar que haya una relación entre el tipo de propiedad y si el anfitrión es un superanfitrión.\")\n",
    "\n",
    "\n",
    "\n"
   ]
  },
  {
   "cell_type": "markdown",
   "metadata": {},
   "source": [
    "Para probar si una variable numérica sigue una distribución normal, puedes usar la prueba de Shapiro-Wilk. Vamos a aplicar esto a una de las puntuaciones de reseñas, como review_scores_value.\n",
    "- Hipótesis nula (H₀): Los datos siguen una distribución normal.\n",
    "- Hipótesis alternativa (H₁): Los datos no siguen una distribución normal."
   ]
  },
  {
   "cell_type": "code",
   "execution_count": null,
   "metadata": {},
   "outputs": [],
   "source": [
    "\n",
    "\n",
    "# Filtra la columna de puntuación\n",
    "data = listings['review_scores_value'].dropna()\n",
    "\n",
    "# Realiza la prueba de normalidad de Shapiro-Wilk\n",
    "stat, p_val = shapiro(data)\n",
    "\n",
    "# Resultados\n",
    "print(f\"Estadístico de Shapiro-Wilk: {stat}\")\n",
    "print(f\"Valor p: {p_val}\")\n",
    "\n",
    "# Si p < 0.05, la variable no sigue una distribución normal\n",
    "if p_val < 0.05:\n",
    "    print(\"Los datos no siguen una distribución normal\")\n",
    "else:\n",
    "    print(\"Los datos siguen una distribución normal\")\n"
   ]
  },
  {
   "cell_type": "code",
   "execution_count": null,
   "metadata": {},
   "outputs": [],
   "source": [
    "# Filtra las columnas necesarias\n",
    "property_types = listings['property_type'].unique()  # Obtiene todos los tipos de propiedades\n",
    "\n",
    "# Verificar si hay grupos vacíos\n",
    "groups = []\n",
    "for prop in property_types:\n",
    "    group_data = listings[listings['property_type'] == prop]['review_scores_value'].dropna()\n",
    "    if group_data.shape[0] > 1:  # Asegúrate de que cada grupo tenga más de un valor\n",
    "        groups.append(group_data)\n",
    "    else:\n",
    "        print(f\"Grupo vacío o insuficiente en: {prop}\")\n",
    "\n",
    "# Si hay suficientes grupos, realiza la prueba ANOVA\n",
    "if len(groups) > 1:\n",
    "    f_stat, p_val = f_oneway(*groups)\n",
    "\n",
    "    # Resultados\n",
    "    print(f\"Valor p: {p_val}\")\n",
    "    print(f\"Estadístico F: {f_stat}\")\n",
    "\n",
    "    # Interpretación del valor p\n",
    "    alpha = 0.05  # Nivel de significancia\n",
    "    if p_val < alpha:\n",
    "        print(\"\\nSe rechaza la hipótesis nula (H₀). Hay evidencia suficiente para afirmar que las medias de las puntuaciones de reseñas son significativamente diferentes entre los tipos de propiedades.\")\n",
    "    else:\n",
    "        print(\"\\nNo se rechaza la hipótesis nula (H₀). No hay suficiente evidencia para afirmar que las medias de las puntuaciones de reseñas son diferentes entre los tipos de propiedades.\")\n",
    "else:\n",
    "    print(\"No hay suficientes grupos con datos válidos para realizar la prueba ANOVA.\")\n"
   ]
  }
 ],
 "metadata": {
  "kaggle": {
   "accelerator": "none",
   "dataSources": [
    {
     "datasetId": 90311,
     "sourceId": 208630,
     "sourceType": "datasetVersion"
    }
   ],
   "dockerImageVersionId": 28120,
   "isGpuEnabled": false,
   "isInternetEnabled": false,
   "language": "python",
   "sourceType": "notebook"
  },
  "kernelspec": {
   "display_name": "bootcamp-ds-FQ_hLvaO-py3.11",
   "language": "python",
   "name": "python3"
  },
  "language_info": {
   "codemirror_mode": {
    "name": "ipython",
    "version": 3
   },
   "file_extension": ".py",
   "mimetype": "text/x-python",
   "name": "python",
   "nbconvert_exporter": "python",
   "pygments_lexer": "ipython3",
   "version": "3.11.9"
  }
 },
 "nbformat": 4,
 "nbformat_minor": 4
}
