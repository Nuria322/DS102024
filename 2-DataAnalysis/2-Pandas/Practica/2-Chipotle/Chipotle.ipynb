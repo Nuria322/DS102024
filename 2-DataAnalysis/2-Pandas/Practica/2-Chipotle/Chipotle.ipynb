{
 "cells": [
  {
   "cell_type": "markdown",
   "metadata": {},
   "source": [
    "# Ex1 - Filtrar y ordenar datos"
   ]
  },
  {
   "cell_type": "markdown",
   "metadata": {},
   "source": [
    "### Paso 1. Importar las bibliotecas necesarias"
   ]
  },
  {
   "cell_type": "code",
   "execution_count": 1,
   "metadata": {},
   "outputs": [],
   "source": [
    "import numpy as np\n",
    "import pandas as pd"
   ]
  },
  {
   "cell_type": "markdown",
   "metadata": {},
   "source": [
    "### Paso 2. Importar el conjunto de datos de esta [dirección](https://raw.githubusercontent.com/justmarkham/DAT8/master/data/chipotle.tsv). "
   ]
  },
  {
   "cell_type": "code",
   "execution_count": 37,
   "metadata": {},
   "outputs": [
    {
     "data": {
      "text/html": [
       "<div>\n",
       "<style scoped>\n",
       "    .dataframe tbody tr th:only-of-type {\n",
       "        vertical-align: middle;\n",
       "    }\n",
       "\n",
       "    .dataframe tbody tr th {\n",
       "        vertical-align: top;\n",
       "    }\n",
       "\n",
       "    .dataframe thead th {\n",
       "        text-align: right;\n",
       "    }\n",
       "</style>\n",
       "<table border=\"1\" class=\"dataframe\">\n",
       "  <thead>\n",
       "    <tr style=\"text-align: right;\">\n",
       "      <th></th>\n",
       "      <th>order_id</th>\n",
       "      <th>quantity</th>\n",
       "      <th>item_name</th>\n",
       "      <th>choice_description</th>\n",
       "      <th>item_price</th>\n",
       "    </tr>\n",
       "  </thead>\n",
       "  <tbody>\n",
       "    <tr>\n",
       "      <th>0</th>\n",
       "      <td>1</td>\n",
       "      <td>1</td>\n",
       "      <td>Chips and Fresh Tomato Salsa</td>\n",
       "      <td>NaN</td>\n",
       "      <td>$2.39</td>\n",
       "    </tr>\n",
       "    <tr>\n",
       "      <th>1</th>\n",
       "      <td>1</td>\n",
       "      <td>1</td>\n",
       "      <td>Izze</td>\n",
       "      <td>[Clementine]</td>\n",
       "      <td>$3.39</td>\n",
       "    </tr>\n",
       "    <tr>\n",
       "      <th>2</th>\n",
       "      <td>1</td>\n",
       "      <td>1</td>\n",
       "      <td>Nantucket Nectar</td>\n",
       "      <td>[Apple]</td>\n",
       "      <td>$3.39</td>\n",
       "    </tr>\n",
       "    <tr>\n",
       "      <th>3</th>\n",
       "      <td>1</td>\n",
       "      <td>1</td>\n",
       "      <td>Chips and Tomatillo-Green Chili Salsa</td>\n",
       "      <td>NaN</td>\n",
       "      <td>$2.39</td>\n",
       "    </tr>\n",
       "    <tr>\n",
       "      <th>4</th>\n",
       "      <td>2</td>\n",
       "      <td>2</td>\n",
       "      <td>Chicken Bowl</td>\n",
       "      <td>[Tomatillo-Red Chili Salsa (Hot), [Black Beans...</td>\n",
       "      <td>$16.98</td>\n",
       "    </tr>\n",
       "    <tr>\n",
       "      <th>...</th>\n",
       "      <td>...</td>\n",
       "      <td>...</td>\n",
       "      <td>...</td>\n",
       "      <td>...</td>\n",
       "      <td>...</td>\n",
       "    </tr>\n",
       "    <tr>\n",
       "      <th>4617</th>\n",
       "      <td>1833</td>\n",
       "      <td>1</td>\n",
       "      <td>Steak Burrito</td>\n",
       "      <td>[Fresh Tomato Salsa, [Rice, Black Beans, Sour ...</td>\n",
       "      <td>$11.75</td>\n",
       "    </tr>\n",
       "    <tr>\n",
       "      <th>4618</th>\n",
       "      <td>1833</td>\n",
       "      <td>1</td>\n",
       "      <td>Steak Burrito</td>\n",
       "      <td>[Fresh Tomato Salsa, [Rice, Sour Cream, Cheese...</td>\n",
       "      <td>$11.75</td>\n",
       "    </tr>\n",
       "    <tr>\n",
       "      <th>4619</th>\n",
       "      <td>1834</td>\n",
       "      <td>1</td>\n",
       "      <td>Chicken Salad Bowl</td>\n",
       "      <td>[Fresh Tomato Salsa, [Fajita Vegetables, Pinto...</td>\n",
       "      <td>$11.25</td>\n",
       "    </tr>\n",
       "    <tr>\n",
       "      <th>4620</th>\n",
       "      <td>1834</td>\n",
       "      <td>1</td>\n",
       "      <td>Chicken Salad Bowl</td>\n",
       "      <td>[Fresh Tomato Salsa, [Fajita Vegetables, Lettu...</td>\n",
       "      <td>$8.75</td>\n",
       "    </tr>\n",
       "    <tr>\n",
       "      <th>4621</th>\n",
       "      <td>1834</td>\n",
       "      <td>1</td>\n",
       "      <td>Chicken Salad Bowl</td>\n",
       "      <td>[Fresh Tomato Salsa, [Fajita Vegetables, Pinto...</td>\n",
       "      <td>$8.75</td>\n",
       "    </tr>\n",
       "  </tbody>\n",
       "</table>\n",
       "<p>4622 rows × 5 columns</p>\n",
       "</div>"
      ],
      "text/plain": [
       "      order_id  quantity                              item_name  \\\n",
       "0            1         1           Chips and Fresh Tomato Salsa   \n",
       "1            1         1                                   Izze   \n",
       "2            1         1                       Nantucket Nectar   \n",
       "3            1         1  Chips and Tomatillo-Green Chili Salsa   \n",
       "4            2         2                           Chicken Bowl   \n",
       "...        ...       ...                                    ...   \n",
       "4617      1833         1                          Steak Burrito   \n",
       "4618      1833         1                          Steak Burrito   \n",
       "4619      1834         1                     Chicken Salad Bowl   \n",
       "4620      1834         1                     Chicken Salad Bowl   \n",
       "4621      1834         1                     Chicken Salad Bowl   \n",
       "\n",
       "                                     choice_description item_price  \n",
       "0                                                   NaN     $2.39   \n",
       "1                                          [Clementine]     $3.39   \n",
       "2                                               [Apple]     $3.39   \n",
       "3                                                   NaN     $2.39   \n",
       "4     [Tomatillo-Red Chili Salsa (Hot), [Black Beans...    $16.98   \n",
       "...                                                 ...        ...  \n",
       "4617  [Fresh Tomato Salsa, [Rice, Black Beans, Sour ...    $11.75   \n",
       "4618  [Fresh Tomato Salsa, [Rice, Sour Cream, Cheese...    $11.75   \n",
       "4619  [Fresh Tomato Salsa, [Fajita Vegetables, Pinto...    $11.25   \n",
       "4620  [Fresh Tomato Salsa, [Fajita Vegetables, Lettu...     $8.75   \n",
       "4621  [Fresh Tomato Salsa, [Fajita Vegetables, Pinto...     $8.75   \n",
       "\n",
       "[4622 rows x 5 columns]"
      ]
     },
     "execution_count": 37,
     "metadata": {},
     "output_type": "execute_result"
    }
   ],
   "source": [
    "pd.read_csv('https://raw.githubusercontent.com/justmarkham/DAT8/master/data/chipotle.tsv', sep = '\\t')"
   ]
  },
  {
   "cell_type": "markdown",
   "metadata": {},
   "source": [
    "### Paso 3. Asígnalo a una variable llamada chipo."
   ]
  },
  {
   "cell_type": "code",
   "execution_count": 6,
   "metadata": {},
   "outputs": [],
   "source": [
    "chipo = pd.read_csv('https://raw.githubusercontent.com/justmarkham/DAT8/master/data/chipotle.tsv', sep = '\\t')"
   ]
  },
  {
   "cell_type": "code",
   "execution_count": 38,
   "metadata": {},
   "outputs": [
    {
     "data": {
      "text/html": [
       "<div>\n",
       "<style scoped>\n",
       "    .dataframe tbody tr th:only-of-type {\n",
       "        vertical-align: middle;\n",
       "    }\n",
       "\n",
       "    .dataframe tbody tr th {\n",
       "        vertical-align: top;\n",
       "    }\n",
       "\n",
       "    .dataframe thead th {\n",
       "        text-align: right;\n",
       "    }\n",
       "</style>\n",
       "<table border=\"1\" class=\"dataframe\">\n",
       "  <thead>\n",
       "    <tr style=\"text-align: right;\">\n",
       "      <th></th>\n",
       "      <th>order_id</th>\n",
       "      <th>quantity</th>\n",
       "      <th>item_name</th>\n",
       "      <th>choice_description</th>\n",
       "      <th>item_price</th>\n",
       "    </tr>\n",
       "  </thead>\n",
       "  <tbody>\n",
       "    <tr>\n",
       "      <th>0</th>\n",
       "      <td>1</td>\n",
       "      <td>1</td>\n",
       "      <td>Chips and Fresh Tomato Salsa</td>\n",
       "      <td>NaN</td>\n",
       "      <td>2.39</td>\n",
       "    </tr>\n",
       "    <tr>\n",
       "      <th>1</th>\n",
       "      <td>1</td>\n",
       "      <td>1</td>\n",
       "      <td>Izze</td>\n",
       "      <td>[Clementine]</td>\n",
       "      <td>3.39</td>\n",
       "    </tr>\n",
       "    <tr>\n",
       "      <th>2</th>\n",
       "      <td>1</td>\n",
       "      <td>1</td>\n",
       "      <td>Nantucket Nectar</td>\n",
       "      <td>[Apple]</td>\n",
       "      <td>3.39</td>\n",
       "    </tr>\n",
       "    <tr>\n",
       "      <th>3</th>\n",
       "      <td>1</td>\n",
       "      <td>1</td>\n",
       "      <td>Chips and Tomatillo-Green Chili Salsa</td>\n",
       "      <td>NaN</td>\n",
       "      <td>2.39</td>\n",
       "    </tr>\n",
       "    <tr>\n",
       "      <th>4</th>\n",
       "      <td>2</td>\n",
       "      <td>2</td>\n",
       "      <td>Chicken Bowl</td>\n",
       "      <td>[Tomatillo-Red Chili Salsa (Hot), [Black Beans...</td>\n",
       "      <td>16.98</td>\n",
       "    </tr>\n",
       "  </tbody>\n",
       "</table>\n",
       "</div>"
      ],
      "text/plain": [
       "   order_id  quantity                              item_name  \\\n",
       "0         1         1           Chips and Fresh Tomato Salsa   \n",
       "1         1         1                                   Izze   \n",
       "2         1         1                       Nantucket Nectar   \n",
       "3         1         1  Chips and Tomatillo-Green Chili Salsa   \n",
       "4         2         2                           Chicken Bowl   \n",
       "\n",
       "                                  choice_description  item_price  \n",
       "0                                                NaN        2.39  \n",
       "1                                       [Clementine]        3.39  \n",
       "2                                            [Apple]        3.39  \n",
       "3                                                NaN        2.39  \n",
       "4  [Tomatillo-Red Chili Salsa (Hot), [Black Beans...       16.98  "
      ]
     },
     "execution_count": 38,
     "metadata": {},
     "output_type": "execute_result"
    }
   ],
   "source": [
    "chipo.head()"
   ]
  },
  {
   "cell_type": "markdown",
   "metadata": {},
   "source": [
    "# Nombre del producto de valor máximo"
   ]
  },
  {
   "cell_type": "code",
   "execution_count": 39,
   "metadata": {},
   "outputs": [
    {
     "name": "stdout",
     "output_type": "stream",
     "text": [
      "<class 'pandas.core.frame.DataFrame'>\n",
      "RangeIndex: 4622 entries, 0 to 4621\n",
      "Data columns (total 5 columns):\n",
      " #   Column              Non-Null Count  Dtype  \n",
      "---  ------              --------------  -----  \n",
      " 0   order_id            4622 non-null   int64  \n",
      " 1   quantity            4622 non-null   int64  \n",
      " 2   item_name           4622 non-null   object \n",
      " 3   choice_description  3376 non-null   object \n",
      " 4   item_price          4622 non-null   float64\n",
      "dtypes: float64(1), int64(2), object(2)\n",
      "memory usage: 180.7+ KB\n"
     ]
    }
   ],
   "source": [
    "chipo.info()"
   ]
  },
  {
   "cell_type": "code",
   "execution_count": 40,
   "metadata": {},
   "outputs": [
    {
     "data": {
      "text/html": [
       "<div>\n",
       "<style scoped>\n",
       "    .dataframe tbody tr th:only-of-type {\n",
       "        vertical-align: middle;\n",
       "    }\n",
       "\n",
       "    .dataframe tbody tr th {\n",
       "        vertical-align: top;\n",
       "    }\n",
       "\n",
       "    .dataframe thead th {\n",
       "        text-align: right;\n",
       "    }\n",
       "</style>\n",
       "<table border=\"1\" class=\"dataframe\">\n",
       "  <thead>\n",
       "    <tr style=\"text-align: right;\">\n",
       "      <th></th>\n",
       "      <th>order_id</th>\n",
       "      <th>quantity</th>\n",
       "      <th>item_price</th>\n",
       "    </tr>\n",
       "  </thead>\n",
       "  <tbody>\n",
       "    <tr>\n",
       "      <th>count</th>\n",
       "      <td>4622.000000</td>\n",
       "      <td>4622.000000</td>\n",
       "      <td>4622.000000</td>\n",
       "    </tr>\n",
       "    <tr>\n",
       "      <th>mean</th>\n",
       "      <td>927.254868</td>\n",
       "      <td>1.075725</td>\n",
       "      <td>7.464336</td>\n",
       "    </tr>\n",
       "    <tr>\n",
       "      <th>std</th>\n",
       "      <td>528.890796</td>\n",
       "      <td>0.410186</td>\n",
       "      <td>4.245557</td>\n",
       "    </tr>\n",
       "    <tr>\n",
       "      <th>min</th>\n",
       "      <td>1.000000</td>\n",
       "      <td>1.000000</td>\n",
       "      <td>1.090000</td>\n",
       "    </tr>\n",
       "    <tr>\n",
       "      <th>25%</th>\n",
       "      <td>477.250000</td>\n",
       "      <td>1.000000</td>\n",
       "      <td>3.390000</td>\n",
       "    </tr>\n",
       "    <tr>\n",
       "      <th>50%</th>\n",
       "      <td>926.000000</td>\n",
       "      <td>1.000000</td>\n",
       "      <td>8.750000</td>\n",
       "    </tr>\n",
       "    <tr>\n",
       "      <th>75%</th>\n",
       "      <td>1393.000000</td>\n",
       "      <td>1.000000</td>\n",
       "      <td>9.250000</td>\n",
       "    </tr>\n",
       "    <tr>\n",
       "      <th>max</th>\n",
       "      <td>1834.000000</td>\n",
       "      <td>15.000000</td>\n",
       "      <td>44.250000</td>\n",
       "    </tr>\n",
       "  </tbody>\n",
       "</table>\n",
       "</div>"
      ],
      "text/plain": [
       "          order_id     quantity   item_price\n",
       "count  4622.000000  4622.000000  4622.000000\n",
       "mean    927.254868     1.075725     7.464336\n",
       "std     528.890796     0.410186     4.245557\n",
       "min       1.000000     1.000000     1.090000\n",
       "25%     477.250000     1.000000     3.390000\n",
       "50%     926.000000     1.000000     8.750000\n",
       "75%    1393.000000     1.000000     9.250000\n",
       "max    1834.000000    15.000000    44.250000"
      ]
     },
     "execution_count": 40,
     "metadata": {},
     "output_type": "execute_result"
    }
   ],
   "source": [
    "chipo.describe()"
   ]
  },
  {
   "cell_type": "code",
   "execution_count": 41,
   "metadata": {},
   "outputs": [
    {
     "data": {
      "text/plain": [
       "dtype('float64')"
      ]
     },
     "execution_count": 41,
     "metadata": {},
     "output_type": "execute_result"
    }
   ],
   "source": [
    "(chipo['item_price']).dtype"
   ]
  },
  {
   "cell_type": "code",
   "execution_count": 45,
   "metadata": {},
   "outputs": [
    {
     "name": "stdout",
     "output_type": "stream",
     "text": [
      "0     2.39\n",
      "1     3.39\n",
      "2     3.39\n",
      "3     2.39\n",
      "4    16.98\n",
      "5    10.98\n",
      "6     1.69\n",
      "7    11.75\n",
      "8     9.25\n",
      "9     9.25\n",
      "Name: item_price, dtype: float64\n"
     ]
    }
   ],
   "source": [
    "# Conversion de todos los precios a flotantes\n",
    "chipo['item_price'] = chipo['item_price'].replace({'\\$': ''}, regex=True).astype(float)\n",
    "print(chipo['item_price'].head(10))"
   ]
  },
  {
   "cell_type": "code",
   "execution_count": 24,
   "metadata": {},
   "outputs": [
    {
     "data": {
      "text/plain": [
       "np.float64(44.25)"
      ]
     },
     "execution_count": 24,
     "metadata": {},
     "output_type": "execute_result"
    }
   ],
   "source": [
    "(chipo['item_price']).max()"
   ]
  },
  {
   "cell_type": "code",
   "execution_count": null,
   "metadata": {},
   "outputs": [],
   "source": [
    "chipo['item_price'] = chipo['item_price'].str.strip().astype('float')"
   ]
  },
  {
   "cell_type": "code",
   "execution_count": 26,
   "metadata": {},
   "outputs": [
    {
     "data": {
      "text/html": [
       "<div>\n",
       "<style scoped>\n",
       "    .dataframe tbody tr th:only-of-type {\n",
       "        vertical-align: middle;\n",
       "    }\n",
       "\n",
       "    .dataframe tbody tr th {\n",
       "        vertical-align: top;\n",
       "    }\n",
       "\n",
       "    .dataframe thead th {\n",
       "        text-align: right;\n",
       "    }\n",
       "</style>\n",
       "<table border=\"1\" class=\"dataframe\">\n",
       "  <thead>\n",
       "    <tr style=\"text-align: right;\">\n",
       "      <th></th>\n",
       "      <th>order_id</th>\n",
       "      <th>quantity</th>\n",
       "      <th>item_name</th>\n",
       "      <th>choice_description</th>\n",
       "      <th>item_price</th>\n",
       "    </tr>\n",
       "  </thead>\n",
       "  <tbody>\n",
       "    <tr>\n",
       "      <th>3598</th>\n",
       "      <td>1443</td>\n",
       "      <td>15</td>\n",
       "      <td>Chips and Fresh Tomato Salsa</td>\n",
       "      <td>NaN</td>\n",
       "      <td>44.25</td>\n",
       "    </tr>\n",
       "  </tbody>\n",
       "</table>\n",
       "</div>"
      ],
      "text/plain": [
       "      order_id  quantity                     item_name choice_description  \\\n",
       "3598      1443        15  Chips and Fresh Tomato Salsa                NaN   \n",
       "\n",
       "      item_price  \n",
       "3598       44.25  "
      ]
     },
     "execution_count": 26,
     "metadata": {},
     "output_type": "execute_result"
    }
   ],
   "source": [
    "# Nombre del producto más caro\n",
    "chipo[chipo['item_price']== 44.25]"
   ]
  },
  {
   "cell_type": "code",
   "execution_count": null,
   "metadata": {},
   "outputs": [
    {
     "data": {
      "text/html": [
       "<div>\n",
       "<style scoped>\n",
       "    .dataframe tbody tr th:only-of-type {\n",
       "        vertical-align: middle;\n",
       "    }\n",
       "\n",
       "    .dataframe tbody tr th {\n",
       "        vertical-align: top;\n",
       "    }\n",
       "\n",
       "    .dataframe thead th {\n",
       "        text-align: right;\n",
       "    }\n",
       "</style>\n",
       "<table border=\"1\" class=\"dataframe\">\n",
       "  <thead>\n",
       "    <tr style=\"text-align: right;\">\n",
       "      <th></th>\n",
       "      <th>item_price</th>\n",
       "      <th>quantity</th>\n",
       "    </tr>\n",
       "    <tr>\n",
       "      <th>item_name</th>\n",
       "      <th></th>\n",
       "      <th></th>\n",
       "    </tr>\n",
       "  </thead>\n",
       "  <tbody>\n",
       "    <tr>\n",
       "      <th>Carnitas Salad Bowl</th>\n",
       "      <td>11.89</td>\n",
       "      <td>1</td>\n",
       "    </tr>\n",
       "  </tbody>\n",
       "</table>\n",
       "</div>"
      ],
      "text/plain": [
       "                     item_price  quantity\n",
       "item_name                                \n",
       "Carnitas Salad Bowl       11.89         1"
      ]
     },
     "execution_count": 47,
     "metadata": {},
     "output_type": "execute_result"
    }
   ],
   "source": [
    "# Corrección\n",
    "maximo= chipo.groupby('item_name')[['item_price', 'quantity']].max()\n",
    "maximo[maximo['quantity']==1].sort_values('item_price', ascending = False).head(1)"
   ]
  },
  {
   "cell_type": "code",
   "execution_count": 48,
   "metadata": {},
   "outputs": [
    {
     "data": {
      "text/plain": [
       "array(['Steak Salad Bowl', 'Carnitas Salad Bowl', 'Barbacoa Salad Bowl'],\n",
       "      dtype=object)"
      ]
     },
     "execution_count": 48,
     "metadata": {},
     "output_type": "execute_result"
    }
   ],
   "source": [
    "# Con división\n",
    "chipo['item_price_unit'] = chipo['item_price'] / chipo['quantity']\n",
    "chipo[chipo['item_price_unit'] == chipo['item_price_unit'].max()]['item_name'].unique()"
   ]
  },
  {
   "cell_type": "markdown",
   "metadata": {},
   "source": [
    "### Paso 4. ¿Cuántos productos cuestan más de 10,00 dólares?"
   ]
  },
  {
   "cell_type": "code",
   "execution_count": 52,
   "metadata": {},
   "outputs": [
    {
     "data": {
      "text/plain": [
       "6"
      ]
     },
     "execution_count": 52,
     "metadata": {},
     "output_type": "execute_result"
    }
   ],
   "source": [
    "precio_mayor_10 = chipo[chipo['item_price'] > 10.00].nunique()\n",
    "\n",
    "len(precio_mayor_10)"
   ]
  },
  {
   "cell_type": "code",
   "execution_count": 51,
   "metadata": {},
   "outputs": [
    {
     "data": {
      "text/plain": [
       "25"
      ]
     },
     "execution_count": 51,
     "metadata": {},
     "output_type": "execute_result"
    }
   ],
   "source": [
    "# Correción\n",
    "chipo.query('item_price_unit > 10')['item_name'].nunique()"
   ]
  },
  {
   "cell_type": "markdown",
   "metadata": {},
   "source": [
    "### Paso 5. ¿Cuál es el precio de cada artículo?\n",
    "###### imprimir un marco de datos con sólo dos columnas nombre_artículo y precio_artículo"
   ]
  },
  {
   "cell_type": "code",
   "execution_count": 54,
   "metadata": {},
   "outputs": [
    {
     "data": {
      "text/html": [
       "<div>\n",
       "<style scoped>\n",
       "    .dataframe tbody tr th:only-of-type {\n",
       "        vertical-align: middle;\n",
       "    }\n",
       "\n",
       "    .dataframe tbody tr th {\n",
       "        vertical-align: top;\n",
       "    }\n",
       "\n",
       "    .dataframe thead th {\n",
       "        text-align: right;\n",
       "    }\n",
       "</style>\n",
       "<table border=\"1\" class=\"dataframe\">\n",
       "  <thead>\n",
       "    <tr style=\"text-align: right;\">\n",
       "      <th></th>\n",
       "      <th>item_name</th>\n",
       "      <th>item_price</th>\n",
       "    </tr>\n",
       "  </thead>\n",
       "  <tbody>\n",
       "    <tr>\n",
       "      <th>0</th>\n",
       "      <td>Chips and Fresh Tomato Salsa</td>\n",
       "      <td>2.39</td>\n",
       "    </tr>\n",
       "    <tr>\n",
       "      <th>1</th>\n",
       "      <td>Izze</td>\n",
       "      <td>3.39</td>\n",
       "    </tr>\n",
       "    <tr>\n",
       "      <th>2</th>\n",
       "      <td>Nantucket Nectar</td>\n",
       "      <td>3.39</td>\n",
       "    </tr>\n",
       "    <tr>\n",
       "      <th>3</th>\n",
       "      <td>Chips and Tomatillo-Green Chili Salsa</td>\n",
       "      <td>2.39</td>\n",
       "    </tr>\n",
       "    <tr>\n",
       "      <th>4</th>\n",
       "      <td>Chicken Bowl</td>\n",
       "      <td>16.98</td>\n",
       "    </tr>\n",
       "  </tbody>\n",
       "</table>\n",
       "</div>"
      ],
      "text/plain": [
       "                               item_name  item_price\n",
       "0           Chips and Fresh Tomato Salsa        2.39\n",
       "1                                   Izze        3.39\n",
       "2                       Nantucket Nectar        3.39\n",
       "3  Chips and Tomatillo-Green Chili Salsa        2.39\n",
       "4                           Chicken Bowl       16.98"
      ]
     },
     "execution_count": 54,
     "metadata": {},
     "output_type": "execute_result"
    }
   ],
   "source": [
    "nombre_precio = chipo[['item_name', 'item_price']]\n",
    "\n",
    "nombre_precio.head()"
   ]
  },
  {
   "cell_type": "code",
   "execution_count": 56,
   "metadata": {},
   "outputs": [
    {
     "data": {
      "text/html": [
       "<div>\n",
       "<style scoped>\n",
       "    .dataframe tbody tr th:only-of-type {\n",
       "        vertical-align: middle;\n",
       "    }\n",
       "\n",
       "    .dataframe tbody tr th {\n",
       "        vertical-align: top;\n",
       "    }\n",
       "\n",
       "    .dataframe thead th {\n",
       "        text-align: right;\n",
       "    }\n",
       "</style>\n",
       "<table border=\"1\" class=\"dataframe\">\n",
       "  <thead>\n",
       "    <tr style=\"text-align: right;\">\n",
       "      <th></th>\n",
       "      <th>item_name</th>\n",
       "      <th>item_price</th>\n",
       "    </tr>\n",
       "  </thead>\n",
       "  <tbody>\n",
       "    <tr>\n",
       "      <th>0</th>\n",
       "      <td>Chips and Fresh Tomato Salsa</td>\n",
       "      <td>2.39</td>\n",
       "    </tr>\n",
       "    <tr>\n",
       "      <th>1</th>\n",
       "      <td>Izze</td>\n",
       "      <td>3.39</td>\n",
       "    </tr>\n",
       "    <tr>\n",
       "      <th>2</th>\n",
       "      <td>Nantucket Nectar</td>\n",
       "      <td>3.39</td>\n",
       "    </tr>\n",
       "    <tr>\n",
       "      <th>3</th>\n",
       "      <td>Chips and Tomatillo-Green Chili Salsa</td>\n",
       "      <td>2.39</td>\n",
       "    </tr>\n",
       "    <tr>\n",
       "      <th>4</th>\n",
       "      <td>Chicken Bowl</td>\n",
       "      <td>16.98</td>\n",
       "    </tr>\n",
       "    <tr>\n",
       "      <th>...</th>\n",
       "      <td>...</td>\n",
       "      <td>...</td>\n",
       "    </tr>\n",
       "    <tr>\n",
       "      <th>4617</th>\n",
       "      <td>Steak Burrito</td>\n",
       "      <td>11.75</td>\n",
       "    </tr>\n",
       "    <tr>\n",
       "      <th>4618</th>\n",
       "      <td>Steak Burrito</td>\n",
       "      <td>11.75</td>\n",
       "    </tr>\n",
       "    <tr>\n",
       "      <th>4619</th>\n",
       "      <td>Chicken Salad Bowl</td>\n",
       "      <td>11.25</td>\n",
       "    </tr>\n",
       "    <tr>\n",
       "      <th>4620</th>\n",
       "      <td>Chicken Salad Bowl</td>\n",
       "      <td>8.75</td>\n",
       "    </tr>\n",
       "    <tr>\n",
       "      <th>4621</th>\n",
       "      <td>Chicken Salad Bowl</td>\n",
       "      <td>8.75</td>\n",
       "    </tr>\n",
       "  </tbody>\n",
       "</table>\n",
       "<p>4622 rows × 2 columns</p>\n",
       "</div>"
      ],
      "text/plain": [
       "                                  item_name  item_price\n",
       "0              Chips and Fresh Tomato Salsa        2.39\n",
       "1                                      Izze        3.39\n",
       "2                          Nantucket Nectar        3.39\n",
       "3     Chips and Tomatillo-Green Chili Salsa        2.39\n",
       "4                              Chicken Bowl       16.98\n",
       "...                                     ...         ...\n",
       "4617                          Steak Burrito       11.75\n",
       "4618                          Steak Burrito       11.75\n",
       "4619                     Chicken Salad Bowl       11.25\n",
       "4620                     Chicken Salad Bowl        8.75\n",
       "4621                     Chicken Salad Bowl        8.75\n",
       "\n",
       "[4622 rows x 2 columns]"
      ]
     },
     "execution_count": 56,
     "metadata": {},
     "output_type": "execute_result"
    }
   ],
   "source": [
    "# Corrección\n",
    "chipo.loc[:, ['item_name', 'item_price']]"
   ]
  },
  {
   "cell_type": "code",
   "execution_count": 57,
   "metadata": {},
   "outputs": [
    {
     "data": {
      "text/html": [
       "<div>\n",
       "<style scoped>\n",
       "    .dataframe tbody tr th:only-of-type {\n",
       "        vertical-align: middle;\n",
       "    }\n",
       "\n",
       "    .dataframe tbody tr th {\n",
       "        vertical-align: top;\n",
       "    }\n",
       "\n",
       "    .dataframe thead th {\n",
       "        text-align: right;\n",
       "    }\n",
       "</style>\n",
       "<table border=\"1\" class=\"dataframe\">\n",
       "  <thead>\n",
       "    <tr style=\"text-align: right;\">\n",
       "      <th></th>\n",
       "      <th>item_price</th>\n",
       "    </tr>\n",
       "    <tr>\n",
       "      <th>item_name</th>\n",
       "      <th></th>\n",
       "    </tr>\n",
       "  </thead>\n",
       "  <tbody>\n",
       "    <tr>\n",
       "      <th>6 Pack Soft Drink</th>\n",
       "      <td>6.610185</td>\n",
       "    </tr>\n",
       "    <tr>\n",
       "      <th>Barbacoa Bowl</th>\n",
       "      <td>10.187273</td>\n",
       "    </tr>\n",
       "    <tr>\n",
       "      <th>Barbacoa Burrito</th>\n",
       "      <td>9.832418</td>\n",
       "    </tr>\n",
       "    <tr>\n",
       "      <th>Barbacoa Crispy Tacos</th>\n",
       "      <td>10.928182</td>\n",
       "    </tr>\n",
       "    <tr>\n",
       "      <th>Barbacoa Salad Bowl</th>\n",
       "      <td>10.640000</td>\n",
       "    </tr>\n",
       "    <tr>\n",
       "      <th>Barbacoa Soft Tacos</th>\n",
       "      <td>10.018400</td>\n",
       "    </tr>\n",
       "    <tr>\n",
       "      <th>Bottled Water</th>\n",
       "      <td>1.867654</td>\n",
       "    </tr>\n",
       "    <tr>\n",
       "      <th>Bowl</th>\n",
       "      <td>14.800000</td>\n",
       "    </tr>\n",
       "    <tr>\n",
       "      <th>Burrito</th>\n",
       "      <td>7.400000</td>\n",
       "    </tr>\n",
       "    <tr>\n",
       "      <th>Canned Soda</th>\n",
       "      <td>1.320577</td>\n",
       "    </tr>\n",
       "    <tr>\n",
       "      <th>Canned Soft Drink</th>\n",
       "      <td>1.457641</td>\n",
       "    </tr>\n",
       "    <tr>\n",
       "      <th>Carnitas Bowl</th>\n",
       "      <td>10.833971</td>\n",
       "    </tr>\n",
       "    <tr>\n",
       "      <th>Carnitas Burrito</th>\n",
       "      <td>10.132712</td>\n",
       "    </tr>\n",
       "    <tr>\n",
       "      <th>Carnitas Crispy Tacos</th>\n",
       "      <td>11.137143</td>\n",
       "    </tr>\n",
       "    <tr>\n",
       "      <th>Carnitas Salad</th>\n",
       "      <td>8.990000</td>\n",
       "    </tr>\n",
       "    <tr>\n",
       "      <th>Carnitas Salad Bowl</th>\n",
       "      <td>11.056667</td>\n",
       "    </tr>\n",
       "    <tr>\n",
       "      <th>Carnitas Soft Tacos</th>\n",
       "      <td>9.398500</td>\n",
       "    </tr>\n",
       "    <tr>\n",
       "      <th>Chicken Bowl</th>\n",
       "      <td>10.113953</td>\n",
       "    </tr>\n",
       "    <tr>\n",
       "      <th>Chicken Burrito</th>\n",
       "      <td>10.082857</td>\n",
       "    </tr>\n",
       "    <tr>\n",
       "      <th>Chicken Crispy Tacos</th>\n",
       "      <td>10.045319</td>\n",
       "    </tr>\n",
       "    <tr>\n",
       "      <th>Chicken Salad</th>\n",
       "      <td>9.010000</td>\n",
       "    </tr>\n",
       "    <tr>\n",
       "      <th>Chicken Salad Bowl</th>\n",
       "      <td>11.170455</td>\n",
       "    </tr>\n",
       "    <tr>\n",
       "      <th>Chicken Soft Tacos</th>\n",
       "      <td>9.635565</td>\n",
       "    </tr>\n",
       "    <tr>\n",
       "      <th>Chips</th>\n",
       "      <td>2.342844</td>\n",
       "    </tr>\n",
       "    <tr>\n",
       "      <th>Chips and Fresh Tomato Salsa</th>\n",
       "      <td>3.285091</td>\n",
       "    </tr>\n",
       "    <tr>\n",
       "      <th>Chips and Guacamole</th>\n",
       "      <td>4.595073</td>\n",
       "    </tr>\n",
       "    <tr>\n",
       "      <th>Chips and Mild Fresh Tomato Salsa</th>\n",
       "      <td>3.000000</td>\n",
       "    </tr>\n",
       "    <tr>\n",
       "      <th>Chips and Roasted Chili Corn Salsa</th>\n",
       "      <td>3.084091</td>\n",
       "    </tr>\n",
       "    <tr>\n",
       "      <th>Chips and Roasted Chili-Corn Salsa</th>\n",
       "      <td>2.390000</td>\n",
       "    </tr>\n",
       "    <tr>\n",
       "      <th>Chips and Tomatillo Green Chili Salsa</th>\n",
       "      <td>3.087209</td>\n",
       "    </tr>\n",
       "    <tr>\n",
       "      <th>Chips and Tomatillo Red Chili Salsa</th>\n",
       "      <td>3.072917</td>\n",
       "    </tr>\n",
       "    <tr>\n",
       "      <th>Chips and Tomatillo-Green Chili Salsa</th>\n",
       "      <td>2.544194</td>\n",
       "    </tr>\n",
       "    <tr>\n",
       "      <th>Chips and Tomatillo-Red Chili Salsa</th>\n",
       "      <td>2.987500</td>\n",
       "    </tr>\n",
       "    <tr>\n",
       "      <th>Crispy Tacos</th>\n",
       "      <td>7.400000</td>\n",
       "    </tr>\n",
       "    <tr>\n",
       "      <th>Izze</th>\n",
       "      <td>3.390000</td>\n",
       "    </tr>\n",
       "    <tr>\n",
       "      <th>Nantucket Nectar</th>\n",
       "      <td>3.641111</td>\n",
       "    </tr>\n",
       "    <tr>\n",
       "      <th>Salad</th>\n",
       "      <td>7.400000</td>\n",
       "    </tr>\n",
       "    <tr>\n",
       "      <th>Side of Chips</th>\n",
       "      <td>1.840594</td>\n",
       "    </tr>\n",
       "    <tr>\n",
       "      <th>Steak Bowl</th>\n",
       "      <td>10.711801</td>\n",
       "    </tr>\n",
       "    <tr>\n",
       "      <th>Steak Burrito</th>\n",
       "      <td>10.465842</td>\n",
       "    </tr>\n",
       "    <tr>\n",
       "      <th>Steak Crispy Tacos</th>\n",
       "      <td>10.209714</td>\n",
       "    </tr>\n",
       "    <tr>\n",
       "      <th>Steak Salad</th>\n",
       "      <td>8.915000</td>\n",
       "    </tr>\n",
       "    <tr>\n",
       "      <th>Steak Salad Bowl</th>\n",
       "      <td>11.847931</td>\n",
       "    </tr>\n",
       "    <tr>\n",
       "      <th>Steak Soft Tacos</th>\n",
       "      <td>9.746364</td>\n",
       "    </tr>\n",
       "    <tr>\n",
       "      <th>Veggie Bowl</th>\n",
       "      <td>10.211647</td>\n",
       "    </tr>\n",
       "    <tr>\n",
       "      <th>Veggie Burrito</th>\n",
       "      <td>9.839684</td>\n",
       "    </tr>\n",
       "    <tr>\n",
       "      <th>Veggie Crispy Tacos</th>\n",
       "      <td>8.490000</td>\n",
       "    </tr>\n",
       "    <tr>\n",
       "      <th>Veggie Salad</th>\n",
       "      <td>8.490000</td>\n",
       "    </tr>\n",
       "    <tr>\n",
       "      <th>Veggie Salad Bowl</th>\n",
       "      <td>10.138889</td>\n",
       "    </tr>\n",
       "    <tr>\n",
       "      <th>Veggie Soft Tacos</th>\n",
       "      <td>10.565714</td>\n",
       "    </tr>\n",
       "  </tbody>\n",
       "</table>\n",
       "</div>"
      ],
      "text/plain": [
       "                                       item_price\n",
       "item_name                                        \n",
       "6 Pack Soft Drink                        6.610185\n",
       "Barbacoa Bowl                           10.187273\n",
       "Barbacoa Burrito                         9.832418\n",
       "Barbacoa Crispy Tacos                   10.928182\n",
       "Barbacoa Salad Bowl                     10.640000\n",
       "Barbacoa Soft Tacos                     10.018400\n",
       "Bottled Water                            1.867654\n",
       "Bowl                                    14.800000\n",
       "Burrito                                  7.400000\n",
       "Canned Soda                              1.320577\n",
       "Canned Soft Drink                        1.457641\n",
       "Carnitas Bowl                           10.833971\n",
       "Carnitas Burrito                        10.132712\n",
       "Carnitas Crispy Tacos                   11.137143\n",
       "Carnitas Salad                           8.990000\n",
       "Carnitas Salad Bowl                     11.056667\n",
       "Carnitas Soft Tacos                      9.398500\n",
       "Chicken Bowl                            10.113953\n",
       "Chicken Burrito                         10.082857\n",
       "Chicken Crispy Tacos                    10.045319\n",
       "Chicken Salad                            9.010000\n",
       "Chicken Salad Bowl                      11.170455\n",
       "Chicken Soft Tacos                       9.635565\n",
       "Chips                                    2.342844\n",
       "Chips and Fresh Tomato Salsa             3.285091\n",
       "Chips and Guacamole                      4.595073\n",
       "Chips and Mild Fresh Tomato Salsa        3.000000\n",
       "Chips and Roasted Chili Corn Salsa       3.084091\n",
       "Chips and Roasted Chili-Corn Salsa       2.390000\n",
       "Chips and Tomatillo Green Chili Salsa    3.087209\n",
       "Chips and Tomatillo Red Chili Salsa      3.072917\n",
       "Chips and Tomatillo-Green Chili Salsa    2.544194\n",
       "Chips and Tomatillo-Red Chili Salsa      2.987500\n",
       "Crispy Tacos                             7.400000\n",
       "Izze                                     3.390000\n",
       "Nantucket Nectar                         3.641111\n",
       "Salad                                    7.400000\n",
       "Side of Chips                            1.840594\n",
       "Steak Bowl                              10.711801\n",
       "Steak Burrito                           10.465842\n",
       "Steak Crispy Tacos                      10.209714\n",
       "Steak Salad                              8.915000\n",
       "Steak Salad Bowl                        11.847931\n",
       "Steak Soft Tacos                         9.746364\n",
       "Veggie Bowl                             10.211647\n",
       "Veggie Burrito                           9.839684\n",
       "Veggie Crispy Tacos                      8.490000\n",
       "Veggie Salad                             8.490000\n",
       "Veggie Salad Bowl                       10.138889\n",
       "Veggie Soft Tacos                       10.565714"
      ]
     },
     "execution_count": 57,
     "metadata": {},
     "output_type": "execute_result"
    }
   ],
   "source": [
    "chipo[['item_name', 'item_price']].groupby('item_name').mean()"
   ]
  },
  {
   "cell_type": "markdown",
   "metadata": {},
   "source": [
    "### Paso 6. Ordenar por el nombre del artículo"
   ]
  },
  {
   "cell_type": "code",
   "execution_count": 63,
   "metadata": {},
   "outputs": [
    {
     "data": {
      "text/html": [
       "<div>\n",
       "<style scoped>\n",
       "    .dataframe tbody tr th:only-of-type {\n",
       "        vertical-align: middle;\n",
       "    }\n",
       "\n",
       "    .dataframe tbody tr th {\n",
       "        vertical-align: top;\n",
       "    }\n",
       "\n",
       "    .dataframe thead th {\n",
       "        text-align: right;\n",
       "    }\n",
       "</style>\n",
       "<table border=\"1\" class=\"dataframe\">\n",
       "  <thead>\n",
       "    <tr style=\"text-align: right;\">\n",
       "      <th></th>\n",
       "      <th>order_id</th>\n",
       "      <th>quantity</th>\n",
       "      <th>item_name</th>\n",
       "      <th>choice_description</th>\n",
       "      <th>item_price</th>\n",
       "      <th>item_price_unit</th>\n",
       "    </tr>\n",
       "  </thead>\n",
       "  <tbody>\n",
       "    <tr>\n",
       "      <th>3389</th>\n",
       "      <td>1360</td>\n",
       "      <td>2</td>\n",
       "      <td>6 Pack Soft Drink</td>\n",
       "      <td>[Diet Coke]</td>\n",
       "      <td>12.98</td>\n",
       "      <td>6.49</td>\n",
       "    </tr>\n",
       "    <tr>\n",
       "      <th>341</th>\n",
       "      <td>148</td>\n",
       "      <td>1</td>\n",
       "      <td>6 Pack Soft Drink</td>\n",
       "      <td>[Diet Coke]</td>\n",
       "      <td>6.49</td>\n",
       "      <td>6.49</td>\n",
       "    </tr>\n",
       "    <tr>\n",
       "      <th>1849</th>\n",
       "      <td>749</td>\n",
       "      <td>1</td>\n",
       "      <td>6 Pack Soft Drink</td>\n",
       "      <td>[Coke]</td>\n",
       "      <td>6.49</td>\n",
       "      <td>6.49</td>\n",
       "    </tr>\n",
       "    <tr>\n",
       "      <th>1860</th>\n",
       "      <td>754</td>\n",
       "      <td>1</td>\n",
       "      <td>6 Pack Soft Drink</td>\n",
       "      <td>[Diet Coke]</td>\n",
       "      <td>6.49</td>\n",
       "      <td>6.49</td>\n",
       "    </tr>\n",
       "    <tr>\n",
       "      <th>2713</th>\n",
       "      <td>1076</td>\n",
       "      <td>1</td>\n",
       "      <td>6 Pack Soft Drink</td>\n",
       "      <td>[Coke]</td>\n",
       "      <td>6.49</td>\n",
       "      <td>6.49</td>\n",
       "    </tr>\n",
       "    <tr>\n",
       "      <th>...</th>\n",
       "      <td>...</td>\n",
       "      <td>...</td>\n",
       "      <td>...</td>\n",
       "      <td>...</td>\n",
       "      <td>...</td>\n",
       "      <td>...</td>\n",
       "    </tr>\n",
       "    <tr>\n",
       "      <th>2384</th>\n",
       "      <td>948</td>\n",
       "      <td>1</td>\n",
       "      <td>Veggie Soft Tacos</td>\n",
       "      <td>[Roasted Chili Corn Salsa, [Fajita Vegetables,...</td>\n",
       "      <td>8.75</td>\n",
       "      <td>8.75</td>\n",
       "    </tr>\n",
       "    <tr>\n",
       "      <th>781</th>\n",
       "      <td>322</td>\n",
       "      <td>1</td>\n",
       "      <td>Veggie Soft Tacos</td>\n",
       "      <td>[Fresh Tomato Salsa, [Black Beans, Cheese, Sou...</td>\n",
       "      <td>8.75</td>\n",
       "      <td>8.75</td>\n",
       "    </tr>\n",
       "    <tr>\n",
       "      <th>2851</th>\n",
       "      <td>1132</td>\n",
       "      <td>1</td>\n",
       "      <td>Veggie Soft Tacos</td>\n",
       "      <td>[Roasted Chili Corn Salsa (Medium), [Black Bea...</td>\n",
       "      <td>8.49</td>\n",
       "      <td>8.49</td>\n",
       "    </tr>\n",
       "    <tr>\n",
       "      <th>1699</th>\n",
       "      <td>688</td>\n",
       "      <td>1</td>\n",
       "      <td>Veggie Soft Tacos</td>\n",
       "      <td>[Fresh Tomato Salsa, [Fajita Vegetables, Rice,...</td>\n",
       "      <td>11.25</td>\n",
       "      <td>11.25</td>\n",
       "    </tr>\n",
       "    <tr>\n",
       "      <th>1395</th>\n",
       "      <td>567</td>\n",
       "      <td>1</td>\n",
       "      <td>Veggie Soft Tacos</td>\n",
       "      <td>[Fresh Tomato Salsa (Mild), [Pinto Beans, Rice...</td>\n",
       "      <td>8.49</td>\n",
       "      <td>8.49</td>\n",
       "    </tr>\n",
       "  </tbody>\n",
       "</table>\n",
       "<p>4622 rows × 6 columns</p>\n",
       "</div>"
      ],
      "text/plain": [
       "      order_id  quantity          item_name  \\\n",
       "3389      1360         2  6 Pack Soft Drink   \n",
       "341        148         1  6 Pack Soft Drink   \n",
       "1849       749         1  6 Pack Soft Drink   \n",
       "1860       754         1  6 Pack Soft Drink   \n",
       "2713      1076         1  6 Pack Soft Drink   \n",
       "...        ...       ...                ...   \n",
       "2384       948         1  Veggie Soft Tacos   \n",
       "781        322         1  Veggie Soft Tacos   \n",
       "2851      1132         1  Veggie Soft Tacos   \n",
       "1699       688         1  Veggie Soft Tacos   \n",
       "1395       567         1  Veggie Soft Tacos   \n",
       "\n",
       "                                     choice_description  item_price  \\\n",
       "3389                                        [Diet Coke]       12.98   \n",
       "341                                         [Diet Coke]        6.49   \n",
       "1849                                             [Coke]        6.49   \n",
       "1860                                        [Diet Coke]        6.49   \n",
       "2713                                             [Coke]        6.49   \n",
       "...                                                 ...         ...   \n",
       "2384  [Roasted Chili Corn Salsa, [Fajita Vegetables,...        8.75   \n",
       "781   [Fresh Tomato Salsa, [Black Beans, Cheese, Sou...        8.75   \n",
       "2851  [Roasted Chili Corn Salsa (Medium), [Black Bea...        8.49   \n",
       "1699  [Fresh Tomato Salsa, [Fajita Vegetables, Rice,...       11.25   \n",
       "1395  [Fresh Tomato Salsa (Mild), [Pinto Beans, Rice...        8.49   \n",
       "\n",
       "      item_price_unit  \n",
       "3389             6.49  \n",
       "341              6.49  \n",
       "1849             6.49  \n",
       "1860             6.49  \n",
       "2713             6.49  \n",
       "...               ...  \n",
       "2384             8.75  \n",
       "781              8.75  \n",
       "2851             8.49  \n",
       "1699            11.25  \n",
       "1395             8.49  \n",
       "\n",
       "[4622 rows x 6 columns]"
      ]
     },
     "execution_count": 63,
     "metadata": {},
     "output_type": "execute_result"
    }
   ],
   "source": [
    "chipo.sort_values('item_name', ascending= True)"
   ]
  },
  {
   "cell_type": "markdown",
   "metadata": {},
   "source": [
    "### Paso 7. ¿Cuál fue la cantidad pedida del artículo más caro? 2 formas"
   ]
  },
  {
   "cell_type": "code",
   "execution_count": 58,
   "metadata": {},
   "outputs": [
    {
     "data": {
      "text/plain": [
       "np.int64(2)"
      ]
     },
     "execution_count": 58,
     "metadata": {},
     "output_type": "execute_result"
    }
   ],
   "source": [
    "chipo[chipo['item_price_unit']== chipo['item_price_unit'].max()]['quantity'].sort_values(ascending = False).values[0]"
   ]
  },
  {
   "cell_type": "code",
   "execution_count": 59,
   "metadata": {},
   "outputs": [
    {
     "data": {
      "text/plain": [
       "np.int64(2)"
      ]
     },
     "execution_count": 59,
     "metadata": {},
     "output_type": "execute_result"
    }
   ],
   "source": [
    "chipo.loc[chipo['item_price_unit'].idxmax(),'quantity']"
   ]
  },
  {
   "cell_type": "markdown",
   "metadata": {},
   "source": [
    "### Paso 8. ¿Cuántas veces pidió ensalada de verduras?"
   ]
  },
  {
   "cell_type": "code",
   "execution_count": 60,
   "metadata": {},
   "outputs": [
    {
     "data": {
      "text/plain": [
       "18"
      ]
     },
     "execution_count": 60,
     "metadata": {},
     "output_type": "execute_result"
    }
   ],
   "source": [
    "len(chipo[chipo['item_name']== 'Veggie Salad Bowl'])"
   ]
  },
  {
   "cell_type": "code",
   "execution_count": 61,
   "metadata": {},
   "outputs": [
    {
     "data": {
      "text/plain": [
       "18"
      ]
     },
     "execution_count": 61,
     "metadata": {},
     "output_type": "execute_result"
    }
   ],
   "source": [
    "chipo[chipo['item_name']== 'Veggie Salad Bowl'].shape[0]"
   ]
  },
  {
   "cell_type": "markdown",
   "metadata": {},
   "source": [
    "### Paso 9. ¿Cuántas veces pidió alguien más de un refresco en lata?"
   ]
  },
  {
   "cell_type": "code",
   "execution_count": 62,
   "metadata": {},
   "outputs": [
    {
     "data": {
      "text/plain": [
       "20"
      ]
     },
     "execution_count": 62,
     "metadata": {},
     "output_type": "execute_result"
    }
   ],
   "source": [
    "chipo.query('item_name == \"Canned Soda\" & quantity > 1').shape[0]"
   ]
  }
 ],
 "metadata": {
  "anaconda-cloud": {},
  "kernelspec": {
   "display_name": "bootcamp-ds-NHz2zIBL-py3.10",
   "language": "python",
   "name": "python3"
  },
  "language_info": {
   "codemirror_mode": {
    "name": "ipython",
    "version": 3
   },
   "file_extension": ".py",
   "mimetype": "text/x-python",
   "name": "python",
   "nbconvert_exporter": "python",
   "pygments_lexer": "ipython3",
   "version": "3.10.11"
  }
 },
 "nbformat": 4,
 "nbformat_minor": 4
}
