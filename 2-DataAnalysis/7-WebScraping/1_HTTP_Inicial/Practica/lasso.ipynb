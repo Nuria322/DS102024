{
 "cells": [
  {
   "cell_type": "markdown",
   "metadata": {},
   "source": [
    "# Ejercicio Scraping\n",
    "\n",
    "Descargar letras de canciones\n",
    "\n",
    "Utilizando beautiful soup descargar todas las canciones de [Lasso](https://es.wikipedia.org/wiki/Lasso_(cantante)) que hay en [letras.com](https://www.letras.com/lasso/)"
   ]
  },
  {
   "cell_type": "code",
   "execution_count": 1,
   "metadata": {},
   "outputs": [],
   "source": [
    "from bs4 import BeautifulSoup\n",
    "import requests\n",
    "import os\n",
    "\n",
    "letras_url = \"https://www.letras.com\"\n",
    "\n",
    "def descargar_letras(artista):\n",
    "    # COMPLETAR\n",
    "    return\n",
    "        \n",
    "artista = \"lasso\"\n",
    "descargar_letras(artista)"
   ]
  },
  {
   "cell_type": "code",
   "execution_count": 3,
   "metadata": {},
   "outputs": [
    {
     "data": {
      "text/html": [
       "<div>\n",
       "<style scoped>\n",
       "    .dataframe tbody tr th:only-of-type {\n",
       "        vertical-align: middle;\n",
       "    }\n",
       "\n",
       "    .dataframe tbody tr th {\n",
       "        vertical-align: top;\n",
       "    }\n",
       "\n",
       "    .dataframe thead th {\n",
       "        text-align: right;\n",
       "    }\n",
       "</style>\n",
       "<table border=\"1\" class=\"dataframe\">\n",
       "  <thead>\n",
       "    <tr style=\"text-align: right;\">\n",
       "      <th></th>\n",
       "      <th>Titulo</th>\n",
       "      <th>Letra</th>\n",
       "    </tr>\n",
       "  </thead>\n",
       "  <tbody>\n",
       "  </tbody>\n",
       "</table>\n",
       "</div>"
      ],
      "text/plain": [
       "Empty DataFrame\n",
       "Columns: [Titulo, Letra]\n",
       "Index: []"
      ]
     },
     "execution_count": 3,
     "metadata": {},
     "output_type": "execute_result"
    }
   ],
   "source": [
    "import pandas as pd\n",
    "\n",
    "# URL de la página que queremos scrapear\n",
    "url_base = \"https://www.letras.com\"\n",
    "\n",
    "# Realizamos la solicitud GET para obtener el contenido de la página\n",
    "html_obtenido = requests.get(url_base)\n",
    "soup = BeautifulSoup(html_obtenido.text, \"html.parser\")\n",
    "\n",
    "# Inicializamos listas para los títulos y puntajes\n",
    "titulos = []\n",
    "letra = []\n",
    "\n",
    "# Buscamos todos los contenedores de mangas en la página\n",
    "manga_containers = soup.find_all('h3', class_='Más reproducidas')\n",
    "\n",
    "for container in manga_containers:\n",
    "    # Extraemos el título del manga\n",
    "    titulo_element = container.find('span')\n",
    "    if titulo_element:\n",
    "        titulos.append(titulo_element.text.strip())\n",
    "\n",
    "    # Extraemos el puntaje del manga\n",
    "    score_element = container.find('p')\n",
    "    if score_element:\n",
    "        letra.append(score_element.text.strip())\n",
    "        \n",
    "    #url_element = container.find('a')\n",
    "    #for i in manga_containers:\n",
    "     # print(i('href'))\n",
    "\n",
    "# Creamos un DataFrame con los resultados\n",
    "df = pd.DataFrame({\n",
    "    'Titulo': titulos,\n",
    "    'Letra': letra\n",
    "})\n",
    "\n",
    "df\n"
   ]
  }
 ],
 "metadata": {
  "instance_type": "ml.t3.medium",
  "kernelspec": {
   "display_name": "bootcamp-ds-NHz2zIBL-py3.10",
   "language": "python",
   "name": "python3"
  },
  "language_info": {
   "codemirror_mode": {
    "name": "ipython",
    "version": 3
   },
   "file_extension": ".py",
   "mimetype": "text/x-python",
   "name": "python",
   "nbconvert_exporter": "python",
   "pygments_lexer": "ipython3",
   "version": "3.10.11"
  }
 },
 "nbformat": 4,
 "nbformat_minor": 4
}
