{
 "cells": [
  {
   "cell_type": "markdown",
   "metadata": {
    "id": "AOe1_suhwZNN"
   },
   "source": [
    "### Ejercicio 1: Suma Matrices\n",
    "Complete la implementación de la función suma_matrices para que devuelva como resultado la suma entre las dos matrices (arreglos numpy) pasados como parámetro (recordá verificar que los tamaños sean compatibles). "
   ]
  },
  {
   "cell_type": "code",
   "execution_count": 2,
   "metadata": {
    "id": "CkVRd7MMwZNP"
   },
   "outputs": [
    {
     "name": "stdout",
     "output_type": "stream",
     "text": [
      "Resultado de la suma de matrices:\n",
      "[[[5 4 4]\n",
      "  [8 7 7]]]\n"
     ]
    }
   ],
   "source": [
    "import numpy as np\n",
    "\n",
    "def suma_matrices(A, B):\n",
    "  suma = np.array([A + B])\n",
    "  if len(A) != len(B):\n",
    "    print(\"Las matrices deben tener las mismas dimensiones\")\n",
    "  #if len(A) == len(B):\n",
    "  else:\n",
    "    return suma\n",
    "  \n",
    "# Ejemplo de uso\n",
    "A = np.array([[1, 2,3], [4, 5, 6]])\n",
    "B = np.array([[4, 2, 1], [4, 2, 1]])\n",
    "\n",
    "# Llamar a la función\n",
    "C = suma_matrices(A, B)\n",
    "\n",
    "print(\"Resultado de la suma de matrices:\")\n",
    "print(C)\n",
    "\n",
    "                                                                                                                                                    "
   ]
  },
  {
   "cell_type": "code",
   "execution_count": 3,
   "metadata": {},
   "outputs": [
    {
     "data": {
      "text/plain": [
       "(2, 3)"
      ]
     },
     "execution_count": 3,
     "metadata": {},
     "output_type": "execute_result"
    }
   ],
   "source": [
    "A = np.array([[1, 2,3], [4, 5, 6]])\n",
    "A.shape "
   ]
  },
  {
   "cell_type": "code",
   "execution_count": 10,
   "metadata": {},
   "outputs": [
    {
     "ename": "ValueError",
     "evalue": "setting an array element with a sequence. The requested array has an inhomogeneous shape after 1 dimensions. The detected shape was (2,) + inhomogeneous part.",
     "output_type": "error",
     "traceback": [
      "\u001b[1;31m---------------------------------------------------------------------------\u001b[0m",
      "\u001b[1;31mValueError\u001b[0m                                Traceback (most recent call last)",
      "Cell \u001b[1;32mIn[10], line 12\u001b[0m\n\u001b[0;32m      9\u001b[0m   \u001b[38;5;28;01melse\u001b[39;00m:\n\u001b[0;32m     10\u001b[0m     \u001b[38;5;28;01mreturn\u001b[39;00m suma\n\u001b[1;32m---> 12\u001b[0m A \u001b[38;5;241m=\u001b[39m \u001b[43mnp\u001b[49m\u001b[38;5;241;43m.\u001b[39;49m\u001b[43marray\u001b[49m\u001b[43m(\u001b[49m\u001b[43m[\u001b[49m\u001b[43m[\u001b[49m\u001b[38;5;241;43m1\u001b[39;49m\u001b[43m,\u001b[49m\u001b[43m \u001b[49m\u001b[38;5;241;43m2\u001b[39;49m\u001b[43m]\u001b[49m\u001b[43m,\u001b[49m\u001b[43m \u001b[49m\u001b[43m[\u001b[49m\u001b[38;5;241;43m4\u001b[39;49m\u001b[43m,\u001b[49m\u001b[43m \u001b[49m\u001b[38;5;241;43m5\u001b[39;49m\u001b[43m,\u001b[49m\u001b[43m \u001b[49m\u001b[38;5;241;43m6\u001b[39;49m\u001b[43m]\u001b[49m\u001b[43m]\u001b[49m\u001b[43m)\u001b[49m\n\u001b[0;32m     13\u001b[0m B \u001b[38;5;241m=\u001b[39m np\u001b[38;5;241m.\u001b[39marray([[\u001b[38;5;241m4\u001b[39m, \u001b[38;5;241m2\u001b[39m, \u001b[38;5;241m1\u001b[39m], [\u001b[38;5;241m4\u001b[39m, \u001b[38;5;241m2\u001b[39m, \u001b[38;5;241m1\u001b[39m]])\n\u001b[0;32m     15\u001b[0m \u001b[38;5;66;03m# Llamar a la función\u001b[39;00m\n",
      "\u001b[1;31mValueError\u001b[0m: setting an array element with a sequence. The requested array has an inhomogeneous shape after 1 dimensions. The detected shape was (2,) + inhomogeneous part."
     ]
    }
   ],
   "source": [
    "import numpy as np\n",
    "\n",
    "def suma_matrices(A, B):\n",
    "  suma = np.array([A + B])\n",
    "  if A.shape != B.shape:\n",
    "    print(\"Las matrices deben tener las mismas dimensiones\")\n",
    "    return None\n",
    "\n",
    "  else:\n",
    "    return suma\n",
    "\n",
    "A = np.array([[1, 2], [4, 5, 6]])\n",
    "B = np.array([[4, 2, 1], [4, 2, 1]])\n",
    "\n",
    "# Llamar a la función\n",
    "C = suma_matrices(A, B)\n",
    "\n",
    "print(\"Resultado de la suma de matrices:\")\n",
    "print(C)\n"
   ]
  },
  {
   "cell_type": "code",
   "execution_count": 27,
   "metadata": {
    "cellView": "form",
    "id": "YYxIsuAswZNR"
   },
   "outputs": [
    {
     "name": "stdout",
     "output_type": "stream",
     "text": [
      "Tu función suma_matrices está excelente\n"
     ]
    }
   ],
   "source": [
    "#@title Ejecuta esta celda para evaluar tu función\n",
    "import numpy as np\n",
    "A = np.array([\n",
    "    [10,20,30],\n",
    "    [40,50,60]\n",
    "])\n",
    "\n",
    "B = np.array([\n",
    "    [10,50,30],\n",
    "    [40,20,60]\n",
    "])\n",
    "\n",
    "C = np.array([\n",
    "        [ 2,  3,  5,  -8],\n",
    "        [4, 13, 17, -19],\n",
    "        [23, 15, 31, 0]\n",
    "])\n",
    "\n",
    "D = np.array([\n",
    "        [ 2,  3,  5,  7],\n",
    "        [11, 13, 17, 19],\n",
    "        [23, 29, 31, 37]\n",
    "    ])\n",
    "\n",
    "def test_suma(A,B,C,D):\n",
    "  if( not (suma_matrices(A, B) == A + B).all()): raise ValueError(\"La suma entre A y B falla\")\n",
    "  try:\n",
    "    suma_matrices(C, A)\n",
    "    print(\"Tu función no contempla tamaños incompatibles a la hora de sumar\" )\n",
    "  except ValueError:\n",
    "    print(\"Tu función suma_matrices está excelente\")\n",
    "\n",
    "test_suma(A,B,C,D)"
   ]
  },
  {
   "cell_type": "markdown",
   "metadata": {
    "id": "deUSjqihk0Fk"
   },
   "source": [
    "### Ejercicio 2\n",
    "Complete la implementación de las funciones es_triangular_superior(), es_triangular_inferior() y es_diagonal() para que devuelvan verdadero o falso según corresponda. "
   ]
  },
  {
   "cell_type": "code",
   "execution_count": null,
   "metadata": {
    "id": "EEYgk4_7p71E"
   },
   "outputs": [],
   "source": [
    "# REVISAR CÓDIGO ESTÁ DE CHAT GPT\n",
    "def es_triangular_superior(A): # Cuando todos los elementos por debajo de la diagonal son 0\n",
    "  #complete con su código aquí\n",
    "  # Verificar que A es una matriz cuadrada\n",
    "    if A.shape[0] != A.shape[1]:\n",
    "        raise ValueError(\"La matriz debe ser cuadrada.\")\n",
    "    \n",
    "    # Comprobar si todos los elementos debajo de la diagonal principal son cero\n",
    "    for i in range(1, A.shape[0]):  # Desde la fila 1 hasta el final\n",
    "        for j in range(i):  # Los elementos debajo de la diagonal (i > j)\n",
    "            if A[i, j] != 0:\n",
    "                return False\n",
    "    return True\n",
    "def es_triangular_inferior(A): # Cuando todos los elementos por encima de la diagonal son 0\n",
    "  #complete con su código aquí  \n",
    " # Verificar que A es una matriz cuadrada\n",
    "    if A.shape[0] != A.shape[1]:\n",
    "        raise ValueError(\"La matriz debe ser cuadrada.\")\n",
    "    \n",
    "    # Comprobar si todos los elementos por encima de la diagonal principal son cero\n",
    "    for i in range(A.shape[0] - 1):  # Hasta la penúltima fila\n",
    "        for j in range(i + 1, A.shape[1]):  # Los elementos por encima de la diagonal (i < j)\n",
    "            if A[i, j] != 0:\n",
    "                return False\n",
    "    return True\n",
    "def es_diagonal(A): # Cuando todos los elementos fuera de la diagonal principal son 0\n",
    "  #complete con su código aquí\n",
    " # Verificar que A es una matriz cuadrada\n",
    "    if A.shape[0] != A.shape[1]:\n",
    "        raise ValueError(\"La matriz debe ser cuadrada.\")\n",
    "    \n",
    "    # Comprobar si todos los elementos fuera de la diagonal son cero\n",
    "    for i in range(A.shape[0]):\n",
    "        for j in range(A.shape[1]):\n",
    "            if i != j and A[i, j] != 0:\n",
    "                return False\n",
    "    return True\n",
    "\n",
    "# Ejemplo de uso\n",
    "A1 = np.array([[1, 2, 3], [0, 4, 5], [0, 0, 6]])  # Triangular superior\n",
    "A2 = np.array([[1, 0, 0], [4, 5, 0], [7, 8, 9]])  # Triangular inferior\n",
    "A3 = np.array([[1, 0, 0], [0, 2, 0], [0, 0, 3]])  # Diagonal\n",
    "\n",
    "print(\"A1 es triangular superior:\", es_triangular_superior(A1))  # True\n",
    "print(\"A2 es triangular inferior:\", es_triangular_inferior(A2))  # True\n",
    "print(\"A3 es diagonal:\", es_diagonal(A3))  # True"
   ]
  },
  {
   "cell_type": "code",
   "execution_count": null,
   "metadata": {
    "cellView": "form",
    "id": "h_OQM9pfsCMR"
   },
   "outputs": [],
   "source": [
    "#@title Ejecuta esta celda para evaluar tu función\n",
    "import numpy as np\n",
    "A = np.array([[4, 1, 0],\n",
    "       [0, 5, 0],\n",
    "       [0, 0, 6]])\n",
    "\n",
    "B = np.array([[4, 0, 0],\n",
    "       [1, 5, 0],\n",
    "       [3, 0, 6]])\n",
    "\n",
    "C = np.array([[4, 0, 0],\n",
    "       [0, 5, 0],\n",
    "       [0, 0, 6]])\n",
    "\n",
    "D = np.array([\n",
    "        [ 2,  3,  5,  7],\n",
    "        [11, 13, 17, 19],\n",
    "        [23, 29, 31, 37]\n",
    "    ])\n",
    "\n",
    "def test(A,B,C,D):\n",
    "  if not es_triangular_superior(A): raise ValueError(\"tu función falla al detectar matrices triangulares superiores\")\n",
    "  if not es_triangular_inferior(B): raise ValueError(\"tu función falla al detectar matrices triangulares inferiores\")\n",
    "  if not es_diagonal(C): raise ValueError(\"tu función falla al detectar matrices diagonales\")\n",
    "  if es_triangular_superior(B) or es_triangular_superior(D): raise ValueError(\"tu función indica como matrices triangulares superiores algunas matrices que no lo son\")\n",
    "  if es_triangular_inferior(A) or es_triangular_inferior(D): raise ValueError(\"tu función indica como matrices triangulares inferiores algunas matrices que no lo son\")\n",
    "  if es_diagonal(A) or es_diagonal(D) or es_diagonal(B): raise ValueError(\"tu función indica como matrices diagonales algunas matrices que no lo son\")\n",
    "  print(\"Las tres funciones están excelentes!\")\n",
    "test(A,B,C,D)"
   ]
  },
  {
   "cell_type": "markdown",
   "metadata": {
    "id": "HhxxLQZlsmAI"
   },
   "source": [
    "### Ejercicio 3\n",
    "Complete la implementación de la función producto_matrices para que devuelva como resultado la multiplicación entre las dos matrices (arreglos numpy) pasados como parámetro (recuerda verificar que los tamaños sean compatibles). "
   ]
  },
  {
   "cell_type": "code",
   "execution_count": null,
   "metadata": {
    "id": "C-4XY7pniJbl"
   },
   "outputs": [],
   "source": [
    "def producto_matrices(a, b):\n",
    "  producto = np.array([])\n",
    "  #complete con su código aquí\n",
    "  return producto"
   ]
  },
  {
   "cell_type": "code",
   "execution_count": null,
   "metadata": {
    "cellView": "form",
    "id": "__42ho37iYNr"
   },
   "outputs": [],
   "source": [
    "#@title Ejecuta esta celda para evaluar tu función\n",
    "import numpy as np\n",
    "A = np.array([\n",
    "    [10,20,30],\n",
    "    [40,50,60]\n",
    "])\n",
    "\n",
    "B = np.array([\n",
    "    [10,50,30],\n",
    "    [40,20,60]\n",
    "])\n",
    "\n",
    "C = np.array([\n",
    "        [ 2,  3,  5,  -8],\n",
    "        [4, 13, 17, -19],\n",
    "        [23, 15, 31, 0]\n",
    "])\n",
    "\n",
    "D = np.array([\n",
    "        [ 2,  3,  5,  7],\n",
    "        [11, 13, 17, 19],\n",
    "        [23, 29, 31, 37]\n",
    "    ])\n",
    "def test_producto(A,B,C,D):\n",
    "  if( not (producto_matrices(A, C) == A.dot(C)).all()): raise ValueError(\"La multiplicación entre A y C falla\")\n",
    "  try:\n",
    "    producto_matrices(C, A)\n",
    "    print(\"Tu función no contempla tamaños incompatibles a la hora de multiplicar\" )\n",
    "  except ValueError:\n",
    "    print(\"Tu función producto_matrices está excelente\")\n",
    "\n",
    "test_producto(A,B,C,D)\n",
    "\n",
    "def test_suma(A,B,C,D):\n",
    "  if( not (suma_matrices(A, B) == A + B).all()): raise ValueError(\"La suma entre A y B falla\")\n",
    "  try:\n",
    "    producto_matrices(C, A)\n",
    "    print(\"Tu función no contempla tamaños incompatibles a la hora de sumar\" )\n",
    "  except ValueError:\n",
    "    print(\"Tu función suma_matrices está excelente\")"
   ]
  }
 ],
 "metadata": {
  "colab": {
   "collapsed_sections": [
    "deUSjqihk0Fk",
    "HhxxLQZlsmAI"
   ],
   "name": "Ejercicios_Matrices",
   "provenance": []
  },
  "kernelspec": {
   "display_name": "bootcamp-ds-NHz2zIBL-py3.10",
   "language": "python",
   "name": "python3"
  },
  "language_info": {
   "codemirror_mode": {
    "name": "ipython",
    "version": 3
   },
   "file_extension": ".py",
   "mimetype": "text/x-python",
   "name": "python",
   "nbconvert_exporter": "python",
   "pygments_lexer": "ipython3",
   "version": "3.10.11"
  }
 },
 "nbformat": 4,
 "nbformat_minor": 0
}
